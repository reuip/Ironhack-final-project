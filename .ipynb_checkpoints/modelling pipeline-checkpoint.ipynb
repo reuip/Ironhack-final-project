{
 "cells": [
  {
   "cell_type": "code",
   "execution_count": 178,
   "id": "f728c412-9c3f-4d2b-9900-58460a3f729f",
   "metadata": {},
   "outputs": [],
   "source": [
    "# Standard Imports\n",
    "import pandas as pd\n",
    "import seaborn as sns\n",
    "import numpy as np\n",
    "import matplotlib.pyplot as plt\n",
    "import pickle\n",
    "import eli5\n",
    "\n",
    "# Transformers\n",
    "from sklearn.preprocessing import LabelEncoder, OneHotEncoder, StandardScaler, MinMaxScaler\n",
    "\n",
    "# Modeling Evaluation\n",
    "from sklearn.model_selection import train_test_split, cross_val_score, KFold, GridSearchCV\n",
    "from sklearn.metrics import accuracy_score, precision_score, recall_score,f1_score, confusion_matrix, classification_report\n",
    "from IPython.display import display, Markdown\n",
    "\n",
    "# Pipelines\n",
    "from sklearn.pipeline import Pipeline, FeatureUnion\n",
    "from sklearn.base import BaseEstimator, TransformerMixin\n",
    "from sklearn.compose import ColumnTransformer\n",
    "from imblearn.pipeline import Pipeline as PipeImb\n",
    "from imblearn.pipeline import make_pipeline\n",
    "\n",
    "\n",
    "# Machine Learning\n",
    "from sklearn.tree import DecisionTreeClassifier\n",
    "from sklearn.ensemble import RandomForestClassifier\n",
    "from sklearn.neighbors import KNeighborsClassifier\n",
    "from sklearn.linear_model import LogisticRegression\n",
    "from xgboost import XGBClassifier\n",
    "from sklearn.svm import SVC\n",
    "from sklearn.naive_bayes import GaussianNB\n",
    "from sklearn.ensemble import StackingClassifier\n",
    "\n",
    "#Validation methods\n",
    "from sklearn.model_selection import KFold\n",
    "from sklearn.model_selection import RepeatedStratifiedKFold\n",
    "\n",
    "#Sampling methods\n",
    "from imblearn.over_sampling import SMOTENC\n"
   ]
  },
  {
   "cell_type": "code",
   "execution_count": 31,
   "id": "8c93688b",
   "metadata": {},
   "outputs": [],
   "source": [
    "#Look at pipeline and what it does\n",
    "# from sklearn import set_config\n",
    "#set_config(display='diagram')\n",
    "#display(search2)"
   ]
  },
  {
   "cell_type": "markdown",
   "id": "ad9ad139",
   "metadata": {},
   "source": [
    "# User defined functions"
   ]
  },
  {
   "cell_type": "code",
   "execution_count": 179,
   "id": "20e32e12",
   "metadata": {},
   "outputs": [],
   "source": [
    "def a_xy_split(dataframe,y_name,test_size=.3):\n",
    "   \n",
    "    #Get xy split and train/test data ready\n",
    "    X = dataframe.drop([y_name], axis=1)\n",
    "    y = dataframe.attrition\n",
    "    y = LabelEncoder().fit_transform(y)\n",
    "    X_train, X_test, y_train, y_test = train_test_split(X, y, test_size=test_size,random_state=42)\n",
    "\n",
    "    #Prep numerical and other column types for use in preprocessor\n",
    "    numerical=X.select_dtypes(include='number')\n",
    "    categorical=X.select_dtypes(include='object')\n",
    "    numerical_columns=list(numerical.columns)\n",
    "    categorical_columns=list(categorical.columns)\n",
    "    columns=list(X.columns)\n",
    "    cat_col_bool=[True if x in categorical_columns else False for x in columns]\n",
    "\n",
    "    return X_train, X_test, y_train, y_test,numerical_columns,categorical_columns,cat_col_bool"
   ]
  },
  {
   "cell_type": "code",
   "execution_count": 180,
   "id": "57e7ac9b-355b-4c53-8460-484e540fba05",
   "metadata": {},
   "outputs": [],
   "source": [
    "def b_preprocessors():\n",
    "    #Creating ss transformer to scale the continuous numerical data with StandardScaler()\n",
    "    ss = Pipeline(steps=[('ss', StandardScaler())])\n",
    "    #--------------------------------------------------------------------\n",
    "    #Creating ohe transformer to encode the categorical data with OneHotEncoder()\n",
    "    ohe = Pipeline(steps=[('ohe', OneHotEncoder(handle_unknown='ignore', drop='first'))])\n",
    "    #--------------------------------------------------------------------\n",
    "    #Creating preprocess column transformer to combine the ss and ohe pipelines\n",
    "    preprocess = ColumnTransformer(\n",
    "                        transformers=[\n",
    "                            ('num', ss, numerical_columns),\n",
    "                            ('cat', ohe, categorical_columns)\n",
    "                        ])\n",
    "    return preprocess\n",
    "\n"
   ]
  },
  {
   "cell_type": "code",
   "execution_count": 181,
   "id": "03fddc61",
   "metadata": {},
   "outputs": [],
   "source": [
    "def c_get_standard_params():\n",
    "        #Creating parameter grid for Random Forest\n",
    "        rand_forest_parms = {'classifier__n_estimators': [100, 300, 500],\n",
    "                'classifier__max_depth':[6, 25, 50, 70],\n",
    "                'classifier__min_samples_split': [2, 5, 10],\n",
    "                'classifier__min_samples_leaf': [1, 2, 10]}\n",
    "        xgb_params = { 'classifier__max_depth': [3,6,10],\n",
    "                'classifier__learning_rate': [0.01, 0.05, 0.1, 0.2, 0.3],\n",
    "                'classifier__n_estimators': [100, 500, 1000],\n",
    "                'classifier__colsample_bytree': [0.3, 0.7],\n",
    "                'classifier__subsample':[.6,1]}\n",
    "\n",
    "        log_regress_params={'classifier__solver':['newton-cg', 'lbfgs', 'liblinear', 'sag', 'saga'],\n",
    "                        'classifier__penalty':['none','l1','l2','elasticnet'],\n",
    "                        'classifier__C':[100,10,1.0, 0.1,0.01]}\n",
    "        knn_params={'classifier__n_neighbors':[1, 5, 10],\n",
    "        'classifier__weights': ['uniform', 'distance'],\n",
    "        'classifier__metric': ['euclidean', 'manhattan', 'minkowski']}\n",
    "\n",
    "        return rand_forest_parms,xgb_params,log_regress_params,knn_params"
   ]
  },
  {
   "cell_type": "code",
   "execution_count": 182,
   "id": "d440f89a",
   "metadata": {},
   "outputs": [],
   "source": [
    "def _evaluation(y, y_hat, title = 'Confusion Matrix'):\n",
    "    cm = confusion_matrix(y, y_hat)\n",
    "    precision = precision_score(y, y_hat)\n",
    "    recall = recall_score(y, y_hat)\n",
    "    accuracy = accuracy_score(y,y_hat)\n",
    "    f1 = f1_score(y,y_hat)\n",
    "    print('Accuracy: ', accuracy)\n",
    "    print('Recall: ', recall)\n",
    "    print('Precision: ', precision)\n",
    "    print('F1: ', f1)\n",
    "    sns.heatmap(cm,  cmap= 'PuBu', annot=True, fmt='g', annot_kws=    {'size':20})\n",
    "    plt.xlabel('predicted', fontsize=18)\n",
    "    plt.ylabel('actual', fontsize=18)\n",
    "    plt.title(title, fontsize=18)\n",
    "    \n",
    "    plt.show()"
   ]
  },
  {
   "cell_type": "code",
   "execution_count": 183,
   "id": "c88b95ac",
   "metadata": {},
   "outputs": [],
   "source": [
    "def d_cross_validate_grid(preprocessor, classifier, smote_type='NC', param_grid=\"none\", cv=\"none\", scoring=\"recall\", conf_matrix=False, grid_search=False):\n",
    "    cv = cv\n",
    "\n",
    "    #Set correct pipeline for use in the formula\n",
    "    pipeline = PipeImb(steps=[\n",
    "    ('preprocess', preprocessor),\n",
    "    ('classifier', classifier)])\n",
    "\n",
    "\n",
    "    if smote_type.lower()==\"nc\":\n",
    "        pipeline.steps.insert(0,('smote',SMOTENC(categorical_features=X_train.dtypes==object,random_state=1234,n_jobs=-1)))\n",
    "\n",
    "\n",
    "    if grid_search==True:\n",
    "        search = GridSearchCV(pipeline, param_grid=param_grid, cv=cv,scoring=scoring)\n",
    "    else:\n",
    "        search=pipeline\n",
    "# Run train and validation methods, print average result for each\n",
    "    train_acc = []\n",
    "    train_rec=[]\n",
    "    train_prec=[]\n",
    "    test_acc = []\n",
    "    test_rec=[]\n",
    "    test_prec=[]\n",
    "    for train_ind, val_ind in cv.split(X_train, y_train):\n",
    "        X_t, y_t = X_train.iloc[train_ind], y_train[train_ind]\n",
    "        search.fit(X_t, y_t)\n",
    "        y_hat_t = search.predict(X_t)\n",
    "        train_acc.append(accuracy_score(y_t, y_hat_t))\n",
    "        train_rec.append(recall_score(y_t,y_hat_t))\n",
    "        train_prec.append(precision_score(y_t,y_hat_t))\n",
    "        X_val, y_val = X_train.iloc[val_ind], y_train[val_ind]\n",
    "        y_hat_val = search.predict(X_val)\n",
    "        test_acc.append(accuracy_score(y_val, y_hat_val))\n",
    "        test_rec.append(recall_score(y_val, y_hat_val))\n",
    "        test_prec.append(precision_score(y_val, y_hat_val))\n",
    "\n",
    "    if conf_matrix==True:\n",
    "        print(\"Validation set confusion matrix\")\n",
    "        print(_evaluation(y_val, y_hat_val))\n",
    "        print()\n",
    "    print('Avg Training Accuracy: {}'.format(np.mean(train_acc)))\n",
    "    print(\"Avg Training Recall: {}\".format(np.mean(train_rec)))\n",
    "    print(\"Avg Training Precision: {}\".format(np.mean(train_prec)))\n",
    "    print()\n",
    "    print('Avg Validation Accuracy: {}'.format(np.mean(test_acc)))\n",
    "    print(\"Avg Validation Recall: {}\".format(np.mean(test_rec)))\n",
    "    print(\"Avg Validation Precision: {}\".format(np.mean(test_prec)))\n",
    "    print()\n",
    "\n",
    "# If grid search used, print best estimator's features\n",
    "    if (grid_search==True):\n",
    "        ohe_cols = list(search.best_estimator_.named_steps['preprocess'].named_transformers_['cat'].named_steps['ohe'].get_feature_names(\n",
    "        input_features=categorical_columns))\n",
    "        num_feats = list(numerical_columns)\n",
    "        num_feats.extend(ohe_cols)\n",
    "        feat_imp = eli5.explain_weights_df(search.best_estimator_.named_steps['classifier'], top=10, feature_names=num_feats)\n",
    "        print(feat_imp)\n",
    "        print()\n",
    "        print('Grid Search Best Params:')\n",
    "        print()\n",
    "        print(search.best_params_)\n",
    "    return search\n"
   ]
  },
  {
   "cell_type": "code",
   "execution_count": 184,
   "id": "468a6274",
   "metadata": {},
   "outputs": [],
   "source": [
    "def e_validate_using_test(preprocessor, classifier, grid, cv):\n",
    "    final_pipeline = GridSearchCV(PipeImb(steps=[\n",
    "            ('preprocess', preprocessor),\n",
    "            ('classifier', classifier)\n",
    "        ]), grid, cv=cv)\n",
    "    #Fit and predict on train data\n",
    "    final_pipeline.fit(X_train, y_train)\n",
    "\n",
    "    train_pred = final_pipeline.best_estimator_.predict(X_train)\n",
    "    #train_pred=final_pipeline.predict(X_train)\n",
    "\n",
    "    print('Evaluation on training data \\n')\n",
    "    print(_evaluation(y_train, train_pred))\n",
    "    print('\\n')\n",
    "    #Predict on test data\n",
    "\n",
    "    test_pred = final_pipeline.best_estimator_.predict(X_test)\n",
    "    #test_pred = final_pipeline.predict(X_test)\n",
    "    print('Evaluation on testing data \\n')\n",
    "    print(_evaluation(y_test, test_pred))"
   ]
  },
  {
   "cell_type": "code",
   "execution_count": 185,
   "id": "7c9e9359-1578-4338-a309-2468974cafeb",
   "metadata": {},
   "outputs": [],
   "source": [
    "def f_validate_pipeline_on_test(pipeline):\n",
    "    test_pred = pipeline.predict(X_test)\n",
    "    #test_pred = final_pipeline.predict(X_test)\n",
    "    print('Evaluation on testing data \\n')\n",
    "    print(_evaluation(y_test, test_pred))"
   ]
  },
  {
   "cell_type": "markdown",
   "id": "8592a219",
   "metadata": {},
   "source": [
    "# Code here"
   ]
  },
  {
   "cell_type": "code",
   "execution_count": 186,
   "id": "0800884e-e20a-4a63-a27e-9a0c3879fa28",
   "metadata": {},
   "outputs": [],
   "source": [
    "def get_stacking():\n",
    "\t# define the base models\n",
    "\tlevel0 = list()\n",
    "\tlevel0.append(('lr', LogisticRegression()))\n",
    "\tlevel0.append(('knn', KNeighborsClassifier()))\n",
    "\tlevel0.append(('cart', DecisionTreeClassifier()))\n",
    "\tlevel0.append(('svm', SVC()))\n",
    "\tlevel0.append(('bayes', GaussianNB()))\n",
    "\t# define meta learner model\n",
    "\tlevel1 = LogisticRegression()\n",
    "\t# define the stacking ensemble\n",
    "\tmodel = StackingClassifier(estimators=level0, final_estimator=level1, cv=5)\n",
    "\treturn model"
   ]
  },
  {
   "cell_type": "code",
   "execution_count": 187,
   "id": "3b981f8b-d884-472f-a5f2-7b7e9e746d9e",
   "metadata": {},
   "outputs": [],
   "source": [
    "stack=get_stacking()"
   ]
  },
  {
   "cell_type": "code",
   "execution_count": 188,
   "id": "121dac97-6d7b-4887-b51d-c6c2df1ef523",
   "metadata": {},
   "outputs": [],
   "source": [
    "df=pd.read_csv(r\"Data\\4b.IBM_data_cleaned_dropped.csv\")\n",
    "df2=df[df['age']<58].copy()"
   ]
  },
  {
   "cell_type": "code",
   "execution_count": 189,
   "id": "42627b18-4294-4aa9-9710-3076c83f3617",
   "metadata": {},
   "outputs": [
    {
     "data": {
      "text/plain": [
       "(1441, 28)"
      ]
     },
     "execution_count": 189,
     "metadata": {},
     "output_type": "execute_result"
    }
   ],
   "source": [
    "df2.shape"
   ]
  },
  {
   "cell_type": "code",
   "execution_count": 190,
   "id": "c3e1088b",
   "metadata": {},
   "outputs": [],
   "source": [
    "y_name='attrition'\n",
    "X_train, X_test, y_train, y_test,numerical_columns,categorical_columns,cat_col_bool=a_xy_split(df,y_name)\n",
    "preprocess=b_preprocessors()\n",
    "rand_forest_parms,xgb_params,log_regress_params,knn_params=c_get_standard_params()"
   ]
  },
  {
   "cell_type": "code",
   "execution_count": 191,
   "id": "5d272411-269c-4b11-9c77-5993fd24e2c4",
   "metadata": {},
   "outputs": [],
   "source": [
    "models=[LogisticRegression(),RandomForestClassifier(),XGBClassifier(),KNeighborsClassifier(),DecisionTreeClassifier(),stack,SVC(),GaussianNB()]"
   ]
  },
  {
   "cell_type": "code",
   "execution_count": 192,
   "id": "0ecbacb5-0353-407e-8824-8457665df4f6",
   "metadata": {},
   "outputs": [
    {
     "name": "stdout",
     "output_type": "stream",
     "text": [
      "LogisticRegression()\n",
      "Avg Training Accuracy: 0.8471844070355908\n",
      "Avg Training Recall: 0.6812976832041288\n",
      "Avg Training Precision: 0.542657308973357\n",
      "\n",
      "Avg Validation Accuracy: 0.8240587260241534\n",
      "Avg Validation Recall: 0.6273695688611486\n",
      "Avg Validation Precision: 0.4947857228396928\n",
      "\n",
      "\n",
      "RandomForestClassifier()\n",
      "Avg Training Accuracy: 1.0\n",
      "Avg Training Recall: 1.0\n",
      "Avg Training Precision: 1.0\n",
      "\n",
      "Avg Validation Accuracy: 0.8512716078617096\n",
      "Avg Validation Recall: 0.4582260704634401\n",
      "Avg Validation Precision: 0.5832392860525853\n",
      "\n",
      "\n",
      "XGBClassifier(base_score=None, booster=None, callbacks=None,\n",
      "              colsample_bylevel=None, colsample_bynode=None,\n",
      "              colsample_bytree=None, early_stopping_rounds=None,\n",
      "              enable_categorical=False, eval_metric=None, gamma=None,\n",
      "              gpu_id=None, grow_policy=None, importance_type=None,\n",
      "              interaction_constraints=None, learning_rate=None, max_bin=None,\n",
      "              max_cat_to_onehot=None, max_delta_step=None, max_depth=None,\n",
      "              max_leaves=None, min_child_weight=None, missing=nan,\n",
      "              monotone_constraints=None, n_estimators=100, n_jobs=None,\n",
      "              num_parallel_tree=None, predictor=None, random_state=None,\n",
      "              reg_alpha=None, reg_lambda=None, ...)\n",
      "Avg Training Accuracy: 1.0\n",
      "Avg Training Recall: 1.0\n",
      "Avg Training Precision: 1.0\n",
      "\n",
      "Avg Validation Accuracy: 0.8396021785460572\n",
      "Avg Validation Recall: 0.4513884636258333\n",
      "Avg Validation Precision: 0.5490192307692308\n",
      "\n",
      "\n",
      "KNeighborsClassifier()\n",
      "Avg Training Accuracy: 0.8559314136063891\n",
      "Avg Training Recall: 0.9323092089375737\n",
      "Avg Training Precision: 0.5468282601408738\n",
      "\n",
      "Avg Validation Accuracy: 0.7259578498697609\n",
      "Avg Validation Recall: 0.5891117828086554\n",
      "Avg Validation Precision: 0.3310020863317661\n",
      "\n",
      "\n",
      "DecisionTreeClassifier()\n",
      "Avg Training Accuracy: 1.0\n",
      "Avg Training Recall: 1.0\n",
      "Avg Training Precision: 1.0\n",
      "\n",
      "Avg Validation Accuracy: 0.755060383613545\n",
      "Avg Validation Recall: 0.4764542220676944\n",
      "Avg Validation Precision: 0.3432167060677699\n",
      "\n",
      "\n",
      "StackingClassifier(cv=5,\n",
      "                   estimators=[('lr', LogisticRegression()),\n",
      "                               ('knn', KNeighborsClassifier()),\n",
      "                               ('cart', DecisionTreeClassifier()),\n",
      "                               ('svm', SVC()), ('bayes', GaussianNB())],\n",
      "                   final_estimator=LogisticRegression())\n",
      "Avg Training Accuracy: 0.9630684566291923\n",
      "Avg Training Recall: 0.874624271670475\n",
      "Avg Training Precision: 0.9076812088115798\n",
      "\n",
      "Avg Validation Accuracy: 0.8299029126213592\n",
      "Avg Validation Recall: 0.441074267441549\n",
      "Avg Validation Precision: 0.5054906109216454\n",
      "\n",
      "\n",
      "SVC()\n",
      "Avg Training Accuracy: 0.9266285434533851\n",
      "Avg Training Recall: 0.7742490148700331\n",
      "Avg Training Precision: 0.7935143457573984\n",
      "\n",
      "Avg Validation Accuracy: 0.822116978451338\n",
      "Avg Validation Recall: 0.4370059985456939\n",
      "Avg Validation Precision: 0.4857738095238095\n",
      "\n",
      "\n",
      "GaussianNB()\n",
      "Avg Training Accuracy: 0.6195230567778316\n",
      "Avg Training Recall: 0.7428552864801502\n",
      "Avg Training Precision: 0.274765623031439\n",
      "\n",
      "Avg Validation Accuracy: 0.6073881127160786\n",
      "Avg Validation Recall: 0.7003161713987697\n",
      "Avg Validation Precision: 0.2623660369292491\n",
      "\n",
      "\n"
     ]
    }
   ],
   "source": [
    "for i in models:\n",
    "    print (i)\n",
    "    d_cross_validate_grid(preprocess,i,cv=KFold(),grid_search=False)\n",
    "    print()"
   ]
  },
  {
   "cell_type": "code",
   "execution_count": 193,
   "id": "37994984-8e53-418e-a28b-f438e449fd18",
   "metadata": {},
   "outputs": [
    {
     "name": "stdout",
     "output_type": "stream",
     "text": [
      "Avg Training Accuracy: 0.6195230567778316\n",
      "Avg Training Recall: 0.7428552864801502\n",
      "Avg Training Precision: 0.274765623031439\n",
      "\n",
      "Avg Validation Accuracy: 0.6073881127160786\n",
      "Avg Validation Recall: 0.7003161713987697\n",
      "Avg Validation Precision: 0.2623660369292491\n",
      "\n"
     ]
    }
   ],
   "source": [
    "pipeline=d_cross_validate_grid(preprocess,GaussianNB(),cv=KFold(),grid_search=False)"
   ]
  },
  {
   "cell_type": "code",
   "execution_count": 194,
   "id": "6700e233-47b0-4e4f-bae7-03aecbd89275",
   "metadata": {},
   "outputs": [
    {
     "name": "stdout",
     "output_type": "stream",
     "text": [
      "Evaluation on testing data \n",
      "\n",
      "Accuracy:  0.6190476190476191\n",
      "Recall:  0.5901639344262295\n",
      "Precision:  0.2011173184357542\n",
      "F1:  0.3\n"
     ]
    },
    {
     "data": {
      "image/png": "[encoded data removed]",
      "text/plain": [
       "<Figure size 432x288 with 2 Axes>"
      ]
     },
     "metadata": {
      "needs_background": "light"
     },
     "output_type": "display_data"
    },
    {
     "name": "stdout",
     "output_type": "stream",
     "text": [
      "None\n"
     ]
    }
   ],
   "source": [
    "f_validate_pipeline_on_test(pipeline)"
   ]
  },
  {
   "cell_type": "code",
   "execution_count": 169,
   "id": "70cfb98a-0c01-44a0-a5af-1d248c85cb5a",
   "metadata": {},
   "outputs": [
    {
     "name": "stdout",
     "output_type": "stream",
     "text": [
      "Avg Training Accuracy: 0.6195230567778316\n",
      "Avg Training Recall: 0.7428552864801502\n",
      "Avg Training Precision: 0.274765623031439\n",
      "\n",
      "Avg Validation Accuracy: 0.6073881127160786\n",
      "Avg Validation Recall: 0.7003161713987697\n",
      "Avg Validation Precision: 0.2623660369292491\n",
      "\n"
     ]
    }
   ],
   "source": [
    "pipeline=d_cross_validate_grid(preprocess,GaussianNB(),cv=KFold(),grid_search=False)"
   ]
  },
  {
   "cell_type": "code",
   "execution_count": 170,
   "id": "ea337e26-7c8b-4e13-852d-cd6af4bfb27a",
   "metadata": {},
   "outputs": [
    {
     "name": "stdout",
     "output_type": "stream",
     "text": [
      "Evaluation on testing data \n",
      "\n",
      "Accuracy:  0.6190476190476191\n",
      "Recall:  0.5901639344262295\n",
      "Precision:  0.2011173184357542\n",
      "F1:  0.3\n"
     ]
    },
    {
     "data": {
      "image/png": "[encoded data removed]",
      "text/plain": [
       "<Figure size 432x288 with 2 Axes>"
      ]
     },
     "metadata": {
      "needs_background": "light"
     },
     "output_type": "display_data"
    },
    {
     "name": "stdout",
     "output_type": "stream",
     "text": [
      "None\n"
     ]
    }
   ],
   "source": [
    "f_validate_pipeline_on_test(pipeline)"
   ]
  },
  {
   "cell_type": "code",
   "execution_count": null,
   "id": "e7e171d3-73a2-4715-88a3-6844950c5a3e",
   "metadata": {},
   "outputs": [],
   "source": []
  }
 ],
 "metadata": {
  "kernelspec": {
   "display_name": "Python 3 (ipykernel)",
   "language": "python",
   "name": "python3"
  },
  "language_info": {
   "codemirror_mode": {
    "name": "ipython",
    "version": 3
   },
   "file_extension": ".py",
   "mimetype": "text/x-python",
   "name": "python",
   "nbconvert_exporter": "python",
   "pygments_lexer": "ipython3",
   "version": "3.9.12"
  },
  "vscode": {
   "interpreter": {
    "hash": "a08fe99de7091861da4136a7c4af3e70f25e0bad2269d33020f7bee7e1bdba20"
   }
  }
 },
 "nbformat": 4,
 "nbformat_minor": 5
}
