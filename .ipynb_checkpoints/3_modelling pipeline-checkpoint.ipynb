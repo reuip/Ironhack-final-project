{
 "cells": [
  {
   "cell_type": "code",
   "execution_count": 1,
   "id": "f728c412-9c3f-4d2b-9900-58460a3f729f",
   "metadata": {},
   "outputs": [],
   "source": [
    "# Standard Imports\n",
    "import pandas as pd\n",
    "import seaborn as sns\n",
    "import numpy as np\n",
    "import matplotlib.pyplot as plt\n",
    "import pickle\n",
    "import eli5\n",
    "\n",
    "# Transformers\n",
    "from sklearn.preprocessing import LabelEncoder, OneHotEncoder, StandardScaler, MinMaxScaler\n",
    "\n",
    "\n",
    "# Modeling Evaluation\n",
    "from sklearn.model_selection import train_test_split, cross_val_score, KFold, GridSearchCV\n",
    "from sklearn.metrics import accuracy_score, precision_score, recall_score,f1_score, confusion_matrix, classification_report\n",
    "from IPython.display import display, Markdown\n",
    "\n",
    "# Pipelines\n",
    "from sklearn.pipeline import Pipeline, FeatureUnion\n",
    "from sklearn.base import BaseEstimator, TransformerMixin\n",
    "from sklearn.compose import ColumnTransformer\n",
    "from imblearn.pipeline import Pipeline as PipeImb\n",
    "from imblearn.pipeline import make_pipeline\n",
    "\n",
    "\n",
    "# Machine Learning\n",
    "from sklearn.tree import DecisionTreeClassifier\n",
    "from sklearn.ensemble import RandomForestClassifier\n",
    "from sklearn.neighbors import KNeighborsClassifier\n",
    "from sklearn.linear_model import LogisticRegression\n",
    "from xgboost import XGBClassifier\n",
    "from sklearn.svm import SVC\n",
    "from sklearn.naive_bayes import GaussianNB\n",
    "from sklearn.ensemble import StackingClassifier\n",
    "from sklearn.ensemble import BaggingClassifier\n",
    "from sklearn.ensemble import VotingClassifier\n",
    "from sklearn.ensemble import AdaBoostClassifier\n",
    "\n",
    "\n",
    "#Validation methods\n",
    "from sklearn.model_selection import KFold\n",
    "from sklearn.model_selection import RepeatedStratifiedKFold\n",
    "\n",
    "#Sampling methods\n",
    "from imblearn.over_sampling import SMOTENC\n",
    "\n",
    "#Feature selection\n",
    "from sklearn.feature_selection import RFE\n",
    "from sklearn.decomposition import PCA\n",
    "\n",
    "\n"
   ]
  },
  {
   "cell_type": "code",
   "execution_count": 2,
   "id": "8c93688b",
   "metadata": {},
   "outputs": [],
   "source": [
    "#Look at pipeline and what it does\n",
    "# from sklearn import set_config\n",
    "#set_config(display='diagram')\n",
    "#display(search2)"
   ]
  },
  {
   "cell_type": "markdown",
   "id": "ad9ad139",
   "metadata": {},
   "source": [
    "# User defined functions"
   ]
  },
  {
   "cell_type": "markdown",
   "id": "79dc1546",
   "metadata": {},
   "source": [
    "## XY split"
   ]
  },
  {
   "cell_type": "code",
   "execution_count": 3,
   "id": "20e32e12",
   "metadata": {},
   "outputs": [],
   "source": [
    "def a_xy_split(dataframe,y_name,test_size=.3):\n",
    "    '''Conduct XY and Train/Test splits. Also generates helper variables that are needed by other functions,\n",
    "    such as categorical and numerical column name lists, and a boolean list of categorical columns for SMOTE transformers\n",
    "\n",
    "\n",
    "    Parameters\n",
    "    ---------------\n",
    "    dataframe (dataframe): Cleaned dataframe ready for modelling\n",
    "    test_size (float): Number as percent (.n) of sample to keep for test set\n",
    "    \n",
    "    Returns\n",
    "    ---------------\n",
    "    X_train, X_test, y_train, y_test,numerical_columns,categorical_columns,cat_col_bool\n",
    "\n",
    "    '''\n",
    "    \n",
    "    #Get xy split and train/test data ready\n",
    "    X = dataframe.drop([y_name], axis=1)\n",
    "    y = dataframe.attrition\n",
    "    y = LabelEncoder().fit_transform(y)\n",
    "    X_train, X_test, y_train, y_test = train_test_split(X, y, test_size=test_size,random_state=42)\n",
    "\n",
    "    #Prep numerical and other column types for use in preprocessor\n",
    "    numerical=X.select_dtypes(include='number')\n",
    "    categorical=X.select_dtypes(include='object')\n",
    "    numerical_columns=list(numerical.columns)\n",
    "    categorical_columns=list(categorical.columns)\n",
    "    columns=list(X.columns)\n",
    "    cat_col_bool=[True if x in categorical_columns else False for x in columns]\n",
    "\n",
    "    return X_train, X_test, y_train, y_test,numerical_columns,categorical_columns,cat_col_bool"
   ]
  },
  {
   "cell_type": "markdown",
   "id": "ce3f5180",
   "metadata": {},
   "source": [
    "## Build preprocessor"
   ]
  },
  {
   "cell_type": "code",
   "execution_count": 4,
   "id": "57e7ac9b-355b-4c53-8460-484e540fba05",
   "metadata": {},
   "outputs": [],
   "source": [
    "def b_preprocessors():\n",
    "    '''Build column transformer for numerical (StandardScaler) and categorical (OHE) data and return it as a processor\n",
    "\n",
    "    Parameters\n",
    "    ---------------\n",
    "    none: Requires creation of numerical_columns and categorical_columns variables in the xysplit\n",
    "    \n",
    "    Returns\n",
    "    ---------------\n",
    "    preprocessor object\n",
    "\n",
    "    '''\n",
    "    #Creating ss transformer to scale the continuous numerical data with StandardScaler()\n",
    "    ss = Pipeline(steps=[('ss', StandardScaler())])\n",
    "\n",
    "    #Creating ohe transformer to encode the categorical data with OneHotEncoder()\n",
    "    ohe = Pipeline(steps=[('ohe', OneHotEncoder(handle_unknown='ignore', drop='first'))])\n",
    "\n",
    "    #Creating preprocess column transformer to combine the ss and ohe pipelines\n",
    "    preprocess = ColumnTransformer(\n",
    "                        transformers=[\n",
    "                            ('num', ss, numerical_columns),\n",
    "                            ('cat', ohe, categorical_columns)\n",
    "                        ])\n",
    "    return preprocess\n",
    "\n"
   ]
  },
  {
   "cell_type": "markdown",
   "id": "ef9fe41b",
   "metadata": {},
   "source": [
    "## Get standard params"
   ]
  },
  {
   "cell_type": "code",
   "execution_count": 5,
   "id": "03fddc61",
   "metadata": {},
   "outputs": [],
   "source": [
    "def c_get_standard_params():\n",
    "    '''Get typical parameters for tuning hyperparameters for most classification types.\n",
    "    Used in next steps when conducting grid feature.\n",
    "    \n",
    "    Parameters\n",
    "    ---------------\n",
    "    none\n",
    "\n",
    "    Returns\n",
    "    ---------------\n",
    "    rand_forest_parms,xgb_params,log_regress_params,knn_params,gaussian_params,bagging_params,decision_tree_params,svc_params\n",
    "    '''\n",
    "\n",
    "    rand_forest_parms = {'classifier__n_estimators': [100, 300, 500],\n",
    "    'classifier__max_depth':[6, 25, 50, 70],\n",
    "    'classifier__min_samples_split': [2, 5, 10],\n",
    "    'classifier__min_samples_leaf': [1, 2, 10]}\n",
    "\n",
    "    decision_tree_params = {'classifier__max_depth':[6, 25, 50, 70],\n",
    "    'classifier__min_samples_split': [2, 5, 10],\n",
    "    'classifier__min_samples_leaf': [1, 2, 10],\n",
    "    'classifier__max_features': [1,2,5,10]}\n",
    "\n",
    "    xgb_params = { 'classifier__max_depth': [3,6,10],\n",
    "    'classifier__learning_rate': [0.01, 0.05, 0.1, 0.2, 0.3],\n",
    "    'classifier__n_estimators': [100, 500, 1000],\n",
    "    'classifier__colsample_bytree': [0.3, 0.7],\n",
    "    'classifier__subsample':[.6,1]}\n",
    "\n",
    "    log_regress_params={'classifier__solver':['newton-cg', 'lbfgs', 'liblinear', 'sag', 'saga'],\n",
    "    'classifier__penalty':['none','l1','l2','elasticnet'],\n",
    "    'classifier__C':[100,10,1.0, 0.1,0.01]}\n",
    "\n",
    "    knn_params={'classifier__n_neighbors':[1, 5, 10],\n",
    "    'classifier__weights': ['uniform', 'distance'],\n",
    "    'classifier__metric': ['euclidean', 'manhattan', 'minkowski']}\n",
    "\n",
    "    gaussian_params={'classifier__var_smoothing': [1e-11, 1e-10, 1e-9]}\n",
    "\n",
    "    bagging_params= {'classifier__base_estimator__max_depth' : [1, 2, 3, 4, 5],\n",
    "    'classifier__max_samples' : [0.05, 0.1, 0.2, 0.5]}\n",
    "\n",
    "    svc_params = {'classifier__kernel': ['linear', 'rbf', 'poly'],\n",
    "    'classifier__gamma': ['auto',0.1, 1, 10, 100],\n",
    "    'classifier__C': [0.1, 1, 10, 100, 1000],\n",
    "    'classifier__degree': [0, 1, 2, 3, 4, 5, 6]}\n",
    "\n",
    "    ada_boost_params= {'classifier__n_estimators': [10, 50, 100, 500],\n",
    "    'classifier__learning_rate': [0.0001, 0.001, 0.01, 0.1, 1.0]}\n",
    "    return rand_forest_parms,xgb_params,log_regress_params,knn_params,gaussian_params,bagging_params,decision_tree_params,svc_params,ada_boost_params"
   ]
  },
  {
   "cell_type": "markdown",
   "id": "fe6d8390",
   "metadata": {},
   "source": [
    "## _Evaluation confusion matrix"
   ]
  },
  {
   "cell_type": "code",
   "execution_count": 6,
   "id": "d440f89a",
   "metadata": {},
   "outputs": [],
   "source": [
    "def _evaluation(y, y_hat, title = 'Confusion Matrix',silent=False):\n",
    "    '''Creates table and graph for classification outcomes.  Generates a confusion matrix\n",
    "    \n",
    "    Parameters\n",
    "    ---------------\n",
    "    y (array): y value, either train, validation, or test\n",
    "    y_hat (array): y predicted value, either train, validation, or test\n",
    "\n",
    "    Returns\n",
    "    ---------------\n",
    "    Nothing.  Prints results and confusion matrix\n",
    "    '''\n",
    "\n",
    "    cm = confusion_matrix(y, y_hat)\n",
    "    precision = precision_score(y, y_hat)\n",
    "    recall = recall_score(y, y_hat)\n",
    "    accuracy = accuracy_score(y,y_hat)\n",
    "    f1 = f1_score(y,y_hat)\n",
    "    if silent==False:\n",
    "        print('Accuracy: ', accuracy)\n",
    "        print('Recall: ', recall)\n",
    "        print('Precision: ', precision)\n",
    "        print('F1: ', f1)\n",
    "\n",
    "    sns.heatmap(cm,  cmap= 'PuBu', annot=True, fmt='g', annot_kws=    {'size':20})\n",
    "    plt.xlabel('predicted', fontsize=18)\n",
    "    plt.ylabel('actual', fontsize=18)\n",
    "    plt.title(title, fontsize=18)\n",
    "    \n",
    "    plt.show()\n",
    "\n"
   ]
  },
  {
   "cell_type": "markdown",
   "id": "f0889dd5",
   "metadata": {},
   "source": [
    "## Check best model"
   ]
  },
  {
   "cell_type": "code",
   "execution_count": 7,
   "id": "5d272411-269c-4b11-9c77-5993fd24e2c4",
   "metadata": {},
   "outputs": [],
   "source": [
    "def db_check_best_model(models='default',smote_type=\"nc\"):\n",
    "    '''Compares default models to determine which have the strongest predictive power.\n",
    "    Prints out results per model, and a summary table sorted by F1 score.\n",
    "    \n",
    "    Parameters\n",
    "    ---------------\n",
    "    models (list): List of models to include.  If default, then a standard list is used instead.\n",
    "    smote_type (string): Type of SMOTE to include if upsampling is necessary\n",
    "\n",
    "    Returns\n",
    "    ---------------\n",
    "    Dataframe of results sorted by F1 values.\n",
    "    '''\n",
    "    \n",
    "    if models=='default':\n",
    "        models=[LogisticRegression(),RandomForestClassifier(),XGBClassifier(),KNeighborsClassifier(),\n",
    "        DecisionTreeClassifier(),SVC(),GaussianNB(),BaggingClassifier(),AdaBoostClassifier()]\n",
    "    mod_list=[]\n",
    "    avg_acc=[]\n",
    "    avg_rec=[]\n",
    "    avg_prec=[]\n",
    "    f1=[]\n",
    "    for i in models:\n",
    "        print (i)\n",
    "        mod_list.append(str(i))\n",
    "        a,r,p,f=e_cross_validate_grid(preprocess,i,cv=KFold(),smote_type=smote_type,check_best=True)\n",
    "        avg_acc.append(a)\n",
    "        avg_rec.append(r)\n",
    "        avg_prec.append(p)\n",
    "        f1.append(f)\n",
    "        print()\n",
    "    res_df=pd.DataFrame(columns=[\"model\",'accuracy','recall','precision','f1'])\n",
    "    res_df['model']=mod_list\n",
    "    res_df['accuracy']=avg_acc\n",
    "    res_df['recall']=avg_rec\n",
    "    res_df['precision']=avg_prec\n",
    "    res_df['f1']=f1\n",
    "    return res_df.sort_values(by=\"f1\",ascending=False)"
   ]
  },
  {
   "cell_type": "markdown",
   "id": "5e70c319",
   "metadata": {},
   "source": [
    "## Cross validate grid"
   ]
  },
  {
   "cell_type": "code",
   "execution_count": 8,
   "id": "c88b95ac",
   "metadata": {},
   "outputs": [],
   "source": [
    "def e_cross_validate_grid(preprocessor, classifier, smote_type='NC', cv=KFold(), param_grid=\"none\", scoring=\"recall\", conf_matrix=False, pca=False,check_best=False):\n",
    "    '''Core feature of Classification Modelling.  Conducts train and cross-validation analyses using pipeline provided and outputs averaged results.\n",
    "\n",
    "    - Use 'param_grid' with 'scoring' attribute to tune hyperparameters with GridSearchCV\n",
    "    - Leave param_grid as 'none' to instead produce a cross-validated result for one classifier. Typically if already tuned. Output can be used in the test function\n",
    "    \n",
    "    Parameters\n",
    "    ---------------\n",
    "    preprocessor (ColumnTransformer): Specific ColumnTransformer to apply to scale and code data\n",
    "    classifier (Classification Object): The specific classifier to use (e.g. LogisticRegression() )\n",
    "    smote_type (string): SMOTE to use before preprocessor is included.  Upsamples imbalanced data. NC for numerical-categorical by default.\n",
    "    cv (cross-validation function): Default is KFold()\n",
    "    \n",
    "    param_grid (dictionary): Dictionary of parameters to include i GridSearchCV.  Can get default dictionaries from get_standard_params function.\n",
    "    scoring (string): type of scoring to optimize as part of GridSearchCV\n",
    "    \n",
    "    conf_matrix (boolean): Whether to output a confusion matrix.  Default false\n",
    "    check_best (boolean): Used by another function. Outputs accuracy,recall,precision,F1 as variables instead of outputting a pipeline. False by default\n",
    "    \n",
    "    Returns\n",
    "    ---------------\n",
    "    Pipeline fitted on data, to be used in predicting test data\n",
    "    If check_best=True, instead outputs accuracy, recall, precision, and F1 scores\n",
    "\n",
    "    '''\n",
    "    \n",
    "    cv = cv\n",
    "\n",
    "    #Set correct pipeline for use in the formula\n",
    "    pipeline = PipeImb(steps=[\n",
    "    ('preprocess', preprocessor),\n",
    "    ('classifier', classifier)])\n",
    "\n",
    "    smote_used=0  #In case PCA is used alongside smote, this ensures that PCA is added at correct index.\n",
    "\n",
    "    if smote_type.lower()==\"nc\":\n",
    "        pipeline.steps.insert(0,('smote',SMOTENC(categorical_features=X_train.dtypes==object,random_state=1234,n_jobs=-1)))\n",
    "        smote_used=1\n",
    "    if pca==True:\n",
    "        pipeline.steps.insert(1+smote_used,('pca',PCA()))\n",
    "\n",
    "    if param_grid!='none':\n",
    "        search = GridSearchCV(pipeline, param_grid=param_grid, cv=cv,scoring=scoring)\n",
    "    else:\n",
    "        search=pipeline\n",
    "# Run train and validation methods, print average result for each\n",
    "    train_acc = []\n",
    "    train_rec=[]\n",
    "    train_prec=[]\n",
    "    test_acc = []\n",
    "    test_rec=[]\n",
    "    test_prec=[]\n",
    "    for train_ind, val_ind in cv.split(X_train, y_train):\n",
    "        X_t, y_t = X_train.iloc[train_ind], y_train[train_ind]\n",
    "        search.fit(X_t, y_t)\n",
    "        y_hat_t = search.predict(X_t)\n",
    "        train_acc.append(accuracy_score(y_t, y_hat_t))\n",
    "        train_rec.append(recall_score(y_t,y_hat_t))\n",
    "        train_prec.append(precision_score(y_t,y_hat_t))\n",
    "        X_val, y_val = X_train.iloc[val_ind], y_train[val_ind]\n",
    "        y_hat_val = search.predict(X_val)\n",
    "        test_acc.append(accuracy_score(y_val, y_hat_val))\n",
    "        test_rec.append(recall_score(y_val, y_hat_val))\n",
    "        test_prec.append(precision_score(y_val, y_hat_val))\n",
    "\n",
    "    if conf_matrix==True:\n",
    "        print(\"Validation set confusion matrix\")\n",
    "        print(_evaluation(y_val, y_hat_val,silent=True))\n",
    "        print()\n",
    "    print('Avg Training Accuracy: {}'.format(np.mean(train_acc)))\n",
    "    print(\"Avg Training Recall: {}\".format(np.mean(train_rec)))\n",
    "    print(\"Avg Training Precision: {}\".format(np.mean(train_prec)))\n",
    "    print()\n",
    "    print('Avg Validation Accuracy: {}'.format(np.mean(test_acc)))\n",
    "    print(\"Avg Validation Recall: {}\".format(np.mean(test_rec)))\n",
    "    print(\"Avg Validation Precision: {}\".format(np.mean(test_prec)))\n",
    "    print()\n",
    "\n",
    "# If grid search used, print best estimator's features\n",
    "    if (param_grid!='none'):\n",
    "        ohe_cols = list(search.best_estimator_.named_steps['preprocess'].named_transformers_['cat'].named_steps['ohe'].get_feature_names_out(\n",
    "        input_features=categorical_columns))\n",
    "        num_feats = list(numerical_columns)\n",
    "        num_feats.extend(ohe_cols)\n",
    "        feat_imp = eli5.explain_weights_df(search.best_estimator_.named_steps['classifier'], top=10, feature_names=num_feats)\n",
    "        print(feat_imp)\n",
    "        print()\n",
    "        print('Grid Search Best Params:')\n",
    "        print()\n",
    "        print(search.best_params_)\n",
    "    if check_best==True:\n",
    "        acc= np.mean(test_acc)\n",
    "        rec=np.mean(test_rec)\n",
    "        prec=np.mean(test_prec)\n",
    "        f1=2*(prec*rec)/(prec+rec)\n",
    "\n",
    "        return acc,rec,prec,f1\n",
    "    else:\n",
    "        return search\n"
   ]
  },
  {
   "cell_type": "markdown",
   "id": "ea40c258",
   "metadata": {},
   "source": [
    "## Validate test - grid approach"
   ]
  },
  {
   "cell_type": "code",
   "execution_count": 9,
   "id": "468a6274",
   "metadata": {},
   "outputs": [],
   "source": [
    "def g_validate_using_test(preprocessor, classifier, param_grid, cv=KFold(),smote_type='nc',scoring='roc_auc'):\n",
    "    '''Creates a pipeline using GridSearchCV, then applies the result immediately to the test data. \n",
    "    Prints results for both\n",
    "    \n",
    "    Parameters\n",
    "    ---------------\n",
    "    preprocessor (ColumnTransformer): Specific ColumnTransformer to apply to scale and code data\n",
    "    classifier (Classification Object): The specific classifier to use (e.g. LogisticRegression() )\n",
    "    param_grid (dictionary): Dictionary of parameters to include i GridSearchCV.  Can get default dictionaries from get_standard_params function.\n",
    "    cv (cross-validation function): Default is KFold()\n",
    "    smote_type (string): SMOTE to use before preprocessor is included.  Upsamples imbalanced data. NC for numerical-categorical by default.\n",
    "    scoring (string): type of scoring to optimize as part of GridSearchCV    \n",
    "\n",
    "    Returns\n",
    "    ---------------\n",
    "    Results of test for train/test\n",
    "\n",
    "    '''\n",
    "    \n",
    "    final_pipeline = GridSearchCV(PipeImb(steps=[\n",
    "            ('preprocess', preprocessor),\n",
    "            ('classifier', classifier)\n",
    "        ]), param_grid, cv=cv,scoring=scoring)\n",
    "    \n",
    "    if smote_type.lower()=='nc':\n",
    "        final_pipeline.steps.insert(0,('smote',SMOTENC(categorical_features=X_train.dtypes==object,random_state=1234,n_jobs=-1)))\n",
    "\n",
    "    \n",
    "    #Fit and predict on train data\n",
    "    final_pipeline.fit(X_train, y_train)\n",
    "\n",
    "    train_pred = final_pipeline.best_estimator_.predict(X_train)\n",
    "    cv_score=final_pipeline.best_score_\n",
    "    #train_pred=final_pipeline.predict(X_train)\n",
    "\n",
    "    print('Evaluation on training data \\n')\n",
    "    print(_evaluation(y_train, train_pred))\n",
    "    print('Cross-validation score train',cv_score)\n",
    "    print('\\n')\n",
    "    #Predict on test data\n",
    "\n",
    "    test_pred = final_pipeline.best_estimator_.predict(X_test)\n",
    "    test_score=final_pipeline.score(X_test,y_test)\n",
    "    #test_pred = final_pipeline.predict(X_test)\n",
    "    print('Evaluation on testing data \\n')\n",
    "    print(_evaluation(y_test, test_pred))\n",
    "    print(\"Test score\", test_score)"
   ]
  },
  {
   "cell_type": "markdown",
   "id": "662d8a72",
   "metadata": {},
   "source": [
    "## Validate test - pipeline approach"
   ]
  },
  {
   "cell_type": "code",
   "execution_count": 10,
   "id": "7c9e9359-1578-4338-a309-2468974cafeb",
   "metadata": {},
   "outputs": [],
   "source": [
    "def f_validate_pipeline_on_test(pipeline):\n",
    "    '''Creates a pipeline using GridSearchCV, then applies the result immediately to the test data. \n",
    "    Prints results for both\n",
    "    \n",
    "    Parameters\n",
    "    ---------------\n",
    "    pipeline (fitted pipeline): Pipeline, which must have been fitted on the X_train data already\n",
    "\n",
    "    Returns\n",
    "    ---------------\n",
    "    Results of test for train/test evaluation for that pipeline\n",
    "    '''\n",
    "\n",
    "    test_pred = pipeline.predict(X_test)\n",
    "    #test_pred = final_pipeline.predict(X_test)\n",
    "    print('Evaluation on testing data \\n')\n",
    "    print(_evaluation(y_test, test_pred))"
   ]
  },
  {
   "cell_type": "markdown",
   "id": "bdb89cb1",
   "metadata": {},
   "source": [
    "## RFE Feature Selection"
   ]
  },
  {
   "cell_type": "code",
   "execution_count": 11,
   "id": "c6608866",
   "metadata": {},
   "outputs": [],
   "source": [
    "def da_RFE_find_features(min_r=1,max_r='all',smote_type='nc',scoring='recall'):\n",
    "    '''Finds best number of features to keep in the dataset.  May or may not be helpful information.\n",
    "    \n",
    "    Parameters\n",
    "    ---------------\n",
    "    min and max features to keep.  Default range is 1-max features\n",
    "    smote type, default nc\n",
    "    scoring type for the cross validation process to return\n",
    "\n",
    "    Returns\n",
    "    ---------------\n",
    "    Results of test for train/test evaluation for that pipeline\n",
    "    '''\n",
    "    results_df=pd.DataFrame(columns=['num_n',scoring])\n",
    "\n",
    "    if smote_type.lower()==\"nc\":\n",
    "        smote=SMOTENC(categorical_features=X_train.dtypes==object,random_state=1234,n_jobs=-1)\n",
    "        X_res,y_res=smote.fit_resample(X_train,y_train)\n",
    "    \n",
    "        X_train_scaled=preprocess.fit_transform(X_res,y_res)\n",
    "        X_test_scaled=preprocess.transform(X_test)\n",
    "    else:\n",
    "        X_train_scaled=preprocess.fit_transform(X_train,y_train)\n",
    "        X_test_scaled=preprocess.transform(X_test)\n",
    "        y_res=y_train\n",
    "    \n",
    "    feature_names=preprocess.get_feature_names_out()\n",
    "    X_train_scaled=pd.DataFrame(data=X_train_scaled,columns=feature_names)\n",
    "    X_test_scaled=pd.DataFrame(data=X_test_scaled,columns=feature_names)\n",
    "    if max_r=='all':\n",
    "        max_r=len(X_train_scaled.columns)\n",
    "\n",
    "    for i in range(min_r,max_r):\n",
    "        model=RFE(DecisionTreeClassifier(random_state=1234),n_features_to_select=i,step=1)\n",
    "        model.fit(X_train_scaled,y_res)\n",
    "\n",
    "        kept_features = model.get_support(indices = True) #returns an array of integers corresponding to nonremoved features\n",
    "        rfe_kept_features = list(X_train_scaled.iloc[:,kept_features].columns)\n",
    "        X_temp=X_train_scaled[rfe_kept_features].copy()\n",
    "        X_test_temp=X_test_scaled[rfe_kept_features].copy()\n",
    "        mod_used=DecisionTreeClassifier(random_state=1234)\n",
    "        train_score=cross_val_score(mod_used, X_temp, y_res, cv=5,scoring=scoring)\n",
    "        test_score=cross_val_score(mod_used, X_test_temp, y_test, cv=5,scoring=scoring)\n",
    "\n",
    "        mean_r2=((train_score.mean()+test_score.mean())/2)\n",
    "        mean_r2=round(mean_r2,2)\n",
    "        results_df.loc[i]=i,mean_r2\n",
    "    return results_df.sort_values(by=scoring,ascending=False),rfe_kept_features"
   ]
  },
  {
   "cell_type": "markdown",
   "id": "3043ea07",
   "metadata": {},
   "source": [
    "## Create stacker"
   ]
  },
  {
   "cell_type": "code",
   "execution_count": 12,
   "id": "b834aad4-986b-4ad1-8030-a4d02f695d37",
   "metadata": {
    "tags": []
   },
   "outputs": [],
   "source": [
    "def h_build_stacking_classifier(model_list):\n",
    "    '''Function to build a stacking classifier.  Format is as follows:\n",
    "        \n",
    "    [('dt',DecisionTreeClassifier()), ('log',LogisticRegression())]\n",
    "\n",
    "    Parameters\n",
    "    ---------------\n",
    "    model list (list): In format above\n",
    "\n",
    "    Returns\n",
    "    ---------------\n",
    "    Classifier object\n",
    "    '''\n",
    "    \n",
    "    # define the base models\n",
    "    level0 = list()\n",
    "    for i in model_list:\n",
    "        level0.append(i)\n",
    "    \n",
    "    # define meta learner model\n",
    "    level1 = LogisticRegression(random_state=1234)\n",
    "    \n",
    "    # define the stacking ensemble\n",
    "    model = StackingClassifier(estimators=level0, final_estimator=level1, cv=5,n_jobs=-1)\n",
    "    return model"
   ]
  },
  {
   "cell_type": "markdown",
   "id": "e3ff394a",
   "metadata": {},
   "source": [
    "## Create VotingClassifier"
   ]
  },
  {
   "cell_type": "code",
   "execution_count": 13,
   "id": "6cd32a20",
   "metadata": {},
   "outputs": [],
   "source": [
    "def i_build_voting_classifier(model_list, weights=None):\n",
    "    '''Function to build a voting classifier with weights.  Format is as follows:\n",
    "        \n",
    "    clf1=LogisticRegression(random_state=1234)\n",
    "    clf2=SVC(probability=True,random_state=1324)\n",
    "    model_list=[('log',clf8),('SVC',clf3)]\n",
    "    weights=[100,75,100]\n",
    "\n",
    "    Parameters\n",
    "    ---------------\n",
    "    model list (list): In format above\n",
    "    weights (list): in format above\n",
    "\n",
    "    Returns\n",
    "    ---------------\n",
    "    Soft Voting and Hard Voting classifier objects\n",
    "    '''\n",
    "    \n",
    "    clf_soft=VotingClassifier(estimators=model_list,weights=weights,voting='soft',n_jobs=-1)\n",
    "    clf_hard=VotingClassifier(estimators=model_list,weights=weights,voting='hard',n_jobs=-1)\n",
    "    return clf_soft,clf_hard\n",
    "\n"
   ]
  },
  {
   "cell_type": "markdown",
   "id": "8592a219",
   "metadata": {},
   "source": [
    "# Code here"
   ]
  },
  {
   "cell_type": "markdown",
   "id": "6930f943",
   "metadata": {},
   "source": [
    "## Load data"
   ]
  },
  {
   "cell_type": "code",
   "execution_count": 14,
   "id": "121dac97-6d7b-4887-b51d-c6c2df1ef523",
   "metadata": {},
   "outputs": [],
   "source": [
    "df=pd.read_csv(r\"Data\\4b.IBM_data_cleaned_dropped - Copy - Copy.csv\")\n",
    "df2=df[df['age']<42].copy()"
   ]
  },
  {
   "cell_type": "markdown",
   "id": "3cfebf8b",
   "metadata": {},
   "source": [
    "## Split XY, prep preprocessor, and GridSearchCV parameter grids"
   ]
  },
  {
   "cell_type": "code",
   "execution_count": 15,
   "id": "c3e1088b",
   "metadata": {},
   "outputs": [],
   "source": [
    "y_name='attrition'\n",
    "X_train, X_test, y_train, y_test,numerical_columns,categorical_columns,cat_col_bool=a_xy_split(df2,y_name,test_size=.3)\n",
    "preprocess=b_preprocessors()\n",
    "rand_forest_parms,xgb_params,log_regress_params,knn_params,gaussian_params,bagging_params,decision_tree_params,svc_params,ada_boost_params=c_get_standard_params()"
   ]
  },
  {
   "cell_type": "markdown",
   "id": "a0636d02",
   "metadata": {},
   "source": [
    "## Check best starting model"
   ]
  },
  {
   "cell_type": "code",
   "execution_count": 302,
   "id": "6828f1a6",
   "metadata": {},
   "outputs": [
    {
     "name": "stdout",
     "output_type": "stream",
     "text": [
      "LogisticRegression()\n",
      "Avg Training Accuracy: 0.8652505561409672\n",
      "Avg Training Recall: 0.7093397085124342\n",
      "Avg Training Precision: 0.6379918892753117\n",
      "\n",
      "Avg Validation Accuracy: 0.8303513186096356\n",
      "Avg Validation Recall: 0.6435675618411991\n",
      "Avg Validation Precision: 0.5520904335420465\n",
      "\n",
      "\n",
      "RandomForestClassifier()\n",
      "Avg Training Accuracy: 1.0\n",
      "Avg Training Recall: 1.0\n",
      "Avg Training Precision: 1.0\n",
      "\n",
      "Avg Validation Accuracy: 0.8317118628273226\n",
      "Avg Validation Recall: 0.4413838303582464\n",
      "Avg Validation Precision: 0.6102121316362803\n",
      "\n",
      "\n",
      "XGBClassifier(base_score=None, booster=None, callbacks=None,\n",
      "              colsample_bylevel=None, colsample_bynode=None,\n",
      "              colsample_bytree=None, early_stopping_rounds=None,\n",
      "              enable_categorical=False, eval_metric=None, gamma=None,\n",
      "              gpu_id=None, grow_policy=None, importance_type=None,\n",
      "              interaction_constraints=None, learning_rate=None, max_bin=None,\n",
      "              max_cat_to_onehot=None, max_delta_step=None, max_depth=None,\n",
      "              max_leaves=None, min_child_weight=None, missing=nan,\n",
      "              monotone_constraints=None, n_estimators=100, n_jobs=None,\n",
      "              num_parallel_tree=None, predictor=None, random_state=None,\n",
      "              reg_alpha=None, reg_lambda=None, ...)\n",
      "Avg Training Accuracy: 1.0\n",
      "Avg Training Recall: 1.0\n",
      "Avg Training Precision: 1.0\n",
      "\n",
      "Avg Validation Accuracy: 0.8303699562016588\n",
      "Avg Validation Recall: 0.5033495065063474\n",
      "Avg Validation Precision: 0.5858921551370064\n",
      "\n",
      "\n",
      "KNeighborsClassifier()\n",
      "Avg Training Accuracy: 0.8857750848846738\n",
      "Avg Training Recall: 0.9244050661679951\n",
      "Avg Training Precision: 0.6430125688364219\n",
      "\n",
      "Avg Validation Accuracy: 0.7797222998788556\n",
      "Avg Validation Recall: 0.587132863675689\n",
      "Avg Validation Precision: 0.44989623379716265\n",
      "\n",
      "\n",
      "DecisionTreeClassifier()\n",
      "Avg Training Accuracy: 1.0\n",
      "Avg Training Recall: 1.0\n",
      "Avg Training Precision: 1.0\n",
      "\n",
      "Avg Validation Accuracy: 0.7400521852576647\n",
      "Avg Validation Recall: 0.4444570510443702\n",
      "Avg Validation Precision: 0.3648181285701235\n",
      "\n",
      "\n",
      "SVC()\n",
      "Avg Training Accuracy: 0.94664676267416\n",
      "Avg Training Recall: 0.8644255148057575\n",
      "Avg Training Precision: 0.8625284096267061\n",
      "\n",
      "Avg Validation Accuracy: 0.8358214518684186\n",
      "Avg Validation Recall: 0.5335548139908541\n",
      "Avg Validation Precision: 0.5920154922538731\n",
      "\n",
      "\n",
      "GaussianNB()\n",
      "Avg Training Accuracy: 0.4104109589041096\n",
      "Avg Training Recall: 0.9090904892753736\n",
      "Avg Training Precision: 0.23619960813650587\n",
      "\n",
      "Avg Validation Accuracy: 0.395284689218153\n",
      "Avg Validation Recall: 0.8932995744831118\n",
      "Avg Validation Precision: 0.22937543327914178\n",
      "\n",
      "\n",
      "BaggingClassifier()\n",
      "Avg Training Accuracy: 0.9928193419974243\n",
      "Avg Training Recall: 0.970203333281097\n",
      "Avg Training Precision: 0.9927626859247216\n",
      "\n",
      "Avg Validation Accuracy: 0.8071288789488398\n",
      "Avg Validation Recall: 0.3740674117626287\n",
      "Avg Validation Precision: 0.5202898550724637\n",
      "\n",
      "\n",
      "AdaBoostClassifier()\n",
      "Avg Training Accuracy: 0.8816684229012995\n",
      "Avg Training Recall: 0.7565215312114931\n",
      "Avg Training Precision: 0.673481669240142\n",
      "\n",
      "Avg Validation Accuracy: 0.8071009225608051\n",
      "Avg Validation Recall: 0.6175598990059502\n",
      "Avg Validation Precision: 0.5016353046594982\n",
      "\n",
      "\n"
     ]
    }
   ],
   "source": [
    "model_overiew=db_check_best_model()"
   ]
  },
  {
   "cell_type": "code",
   "execution_count": 303,
   "id": "fa9e2472",
   "metadata": {},
   "outputs": [
    {
     "data": {
      "text/html": [
       "<div>\n",
       "<style scoped>\n",
       "    .dataframe tbody tr th:only-of-type {\n",
       "        vertical-align: middle;\n",
       "    }\n",
       "\n",
       "    .dataframe tbody tr th {\n",
       "        vertical-align: top;\n",
       "    }\n",
       "\n",
       "    .dataframe thead th {\n",
       "        text-align: right;\n",
       "    }\n",
       "</style>\n",
       "<table border=\"1\" class=\"dataframe\">\n",
       "  <thead>\n",
       "    <tr style=\"text-align: right;\">\n",
       "      <th></th>\n",
       "      <th>model</th>\n",
       "      <th>accuracy</th>\n",
       "      <th>recall</th>\n",
       "      <th>precision</th>\n",
       "      <th>f1</th>\n",
       "    </tr>\n",
       "  </thead>\n",
       "  <tbody>\n",
       "    <tr>\n",
       "      <th>0</th>\n",
       "      <td>LogisticRegression()</td>\n",
       "      <td>0.830351</td>\n",
       "      <td>0.643568</td>\n",
       "      <td>0.552090</td>\n",
       "      <td>0.594330</td>\n",
       "    </tr>\n",
       "    <tr>\n",
       "      <th>5</th>\n",
       "      <td>SVC()</td>\n",
       "      <td>0.835821</td>\n",
       "      <td>0.533555</td>\n",
       "      <td>0.592015</td>\n",
       "      <td>0.561267</td>\n",
       "    </tr>\n",
       "    <tr>\n",
       "      <th>8</th>\n",
       "      <td>AdaBoostClassifier()</td>\n",
       "      <td>0.807101</td>\n",
       "      <td>0.617560</td>\n",
       "      <td>0.501635</td>\n",
       "      <td>0.553594</td>\n",
       "    </tr>\n",
       "    <tr>\n",
       "      <th>2</th>\n",
       "      <td>XGBClassifier(base_score=None, booster=None, c...</td>\n",
       "      <td>0.830370</td>\n",
       "      <td>0.503350</td>\n",
       "      <td>0.585892</td>\n",
       "      <td>0.541493</td>\n",
       "    </tr>\n",
       "    <tr>\n",
       "      <th>1</th>\n",
       "      <td>RandomForestClassifier()</td>\n",
       "      <td>0.831712</td>\n",
       "      <td>0.441384</td>\n",
       "      <td>0.610212</td>\n",
       "      <td>0.512246</td>\n",
       "    </tr>\n",
       "    <tr>\n",
       "      <th>3</th>\n",
       "      <td>KNeighborsClassifier()</td>\n",
       "      <td>0.779722</td>\n",
       "      <td>0.587133</td>\n",
       "      <td>0.449896</td>\n",
       "      <td>0.509434</td>\n",
       "    </tr>\n",
       "    <tr>\n",
       "      <th>7</th>\n",
       "      <td>BaggingClassifier()</td>\n",
       "      <td>0.807129</td>\n",
       "      <td>0.374067</td>\n",
       "      <td>0.520290</td>\n",
       "      <td>0.435225</td>\n",
       "    </tr>\n",
       "    <tr>\n",
       "      <th>4</th>\n",
       "      <td>DecisionTreeClassifier()</td>\n",
       "      <td>0.740052</td>\n",
       "      <td>0.444457</td>\n",
       "      <td>0.364818</td>\n",
       "      <td>0.400719</td>\n",
       "    </tr>\n",
       "    <tr>\n",
       "      <th>6</th>\n",
       "      <td>GaussianNB()</td>\n",
       "      <td>0.395285</td>\n",
       "      <td>0.893300</td>\n",
       "      <td>0.229375</td>\n",
       "      <td>0.365023</td>\n",
       "    </tr>\n",
       "  </tbody>\n",
       "</table>\n",
       "</div>"
      ],
      "text/plain": [
       "                                               model  accuracy    recall  \\\n",
       "0                               LogisticRegression()  0.830351  0.643568   \n",
       "5                                              SVC()  0.835821  0.533555   \n",
       "8                               AdaBoostClassifier()  0.807101  0.617560   \n",
       "2  XGBClassifier(base_score=None, booster=None, c...  0.830370  0.503350   \n",
       "1                           RandomForestClassifier()  0.831712  0.441384   \n",
       "3                             KNeighborsClassifier()  0.779722  0.587133   \n",
       "7                                BaggingClassifier()  0.807129  0.374067   \n",
       "4                           DecisionTreeClassifier()  0.740052  0.444457   \n",
       "6                                       GaussianNB()  0.395285  0.893300   \n",
       "\n",
       "   precision        f1  \n",
       "0   0.552090  0.594330  \n",
       "5   0.592015  0.561267  \n",
       "8   0.501635  0.553594  \n",
       "2   0.585892  0.541493  \n",
       "1   0.610212  0.512246  \n",
       "3   0.449896  0.509434  \n",
       "7   0.520290  0.435225  \n",
       "4   0.364818  0.400719  \n",
       "6   0.229375  0.365023  "
      ]
     },
     "execution_count": 303,
     "metadata": {},
     "output_type": "execute_result"
    }
   ],
   "source": [
    "model_overiew"
   ]
  },
  {
   "cell_type": "code",
   "execution_count": 304,
   "id": "292c0e02",
   "metadata": {},
   "outputs": [],
   "source": [
    "pipeline_lg=e_cross_validate_grid(preprocess,LogisticRegression(),param_grid=log_regress_params)"
   ]
  },
  {
   "cell_type": "code",
   "execution_count": 305,
   "id": "b2390c19",
   "metadata": {},
   "outputs": [
    {
     "name": "stdout",
     "output_type": "stream",
     "text": [
      "Avg Training Accuracy: 0.8317375014635289\n",
      "Avg Training Recall: 0.7037290227138282\n",
      "Avg Training Precision: 0.5535134243410325\n",
      "\n",
      "Avg Validation Accuracy: 0.8056658279750255\n",
      "Avg Validation Recall: 0.657051468121546\n",
      "Avg Validation Precision: 0.506502557118007\n",
      "\n"
     ]
    }
   ],
   "source": [
    "grid={'C': 0.1, 'penalty': 'l1', 'solver': 'liblinear'}\n",
    "pipeline=e_cross_validate_grid(preprocess,LogisticRegression(**grid))"
   ]
  },
  {
   "cell_type": "markdown",
   "id": "7a21e586",
   "metadata": {},
   "source": [
    "## Evolve model, best fitting here"
   ]
  },
  {
   "cell_type": "code",
   "execution_count": 29,
   "id": "4a05c728",
   "metadata": {},
   "outputs": [
    {
     "name": "stderr",
     "output_type": "stream",
     "text": [
      "c:\\Users\\MichaelTaylo_c9zoof3\\anaconda3\\envs\\DA_Env\\lib\\site-packages\\sklearn\\ensemble\\_bagging.py:374: UserWarning: Warm-start fitting without increasing n_estimators does not fit new trees.\n",
      "  warn(\n",
      "c:\\Users\\MichaelTaylo_c9zoof3\\anaconda3\\envs\\DA_Env\\lib\\site-packages\\sklearn\\ensemble\\_bagging.py:374: UserWarning: Warm-start fitting without increasing n_estimators does not fit new trees.\n",
      "  warn(\n",
      "c:\\Users\\MichaelTaylo_c9zoof3\\anaconda3\\envs\\DA_Env\\lib\\site-packages\\sklearn\\ensemble\\_bagging.py:374: UserWarning: Warm-start fitting without increasing n_estimators does not fit new trees.\n",
      "  warn(\n"
     ]
    },
    {
     "name": "stdout",
     "output_type": "stream",
     "text": [
      "Avg Training Accuracy: 0.8529446200679077\n",
      "Avg Training Recall: 0.7255509058132048\n",
      "Avg Training Precision: 0.6006794158557083\n",
      "\n",
      "Avg Validation Accuracy: 0.8508899450191036\n",
      "Avg Validation Recall: 0.7335254692162367\n",
      "Avg Validation Precision: 0.5986104298178601\n",
      "\n",
      "Evaluation on testing data \n",
      "\n",
      "Accuracy:  0.8726114649681529\n",
      "Recall:  0.7142857142857143\n",
      "Precision:  0.5737704918032787\n",
      "F1:  0.6363636363636364\n"
     ]
    },
    {
     "name": "stderr",
     "output_type": "stream",
     "text": [
      "c:\\Users\\MichaelTaylo_c9zoof3\\anaconda3\\envs\\DA_Env\\lib\\site-packages\\sklearn\\ensemble\\_bagging.py:374: UserWarning: Warm-start fitting without increasing n_estimators does not fit new trees.\n",
      "  warn(\n"
     ]
    },
    {
     "data": {
      "image/png": "[encoded data removed]",
      "text/plain": [
       "<Figure size 432x288 with 2 Axes>"
      ]
     },
     "metadata": {
      "needs_background": "light"
     },
     "output_type": "display_data"
    },
    {
     "name": "stdout",
     "output_type": "stream",
     "text": [
      "None\n"
     ]
    }
   ],
   "source": [
    "bag_regressor=BaggingClassifier(base_estimator=LogisticRegression(max_iter=100,penalty='l1',solver='saga',warm_start=True,random_state=1234),n_estimators=15,bootstrap=True,warm_start=True,n_jobs=-1,random_state=1234)\n",
    "pipeline_best=e_cross_validate_grid(preprocess,bag_regressor)\n",
    "f_validate_pipeline_on_test(pipeline_best)"
   ]
  },
  {
   "cell_type": "markdown",
   "id": "c1bf0fb2",
   "metadata": {},
   "source": [
    "## Alternative calculations run, not as good"
   ]
  },
  {
   "cell_type": "markdown",
   "id": "fb228667",
   "metadata": {},
   "source": [
    "### Log Regression only"
   ]
  },
  {
   "cell_type": "code",
   "execution_count": 51,
   "id": "cb931e83-fdd1-4000-ac0e-06da36da7e89",
   "metadata": {},
   "outputs": [
    {
     "name": "stdout",
     "output_type": "stream",
     "text": [
      "Avg Training Accuracy: 0.8652505561409672\n",
      "Avg Training Recall: 0.7093397085124342\n",
      "Avg Training Precision: 0.6379918892753117\n",
      "\n",
      "Avg Validation Accuracy: 0.8303513186096356\n",
      "Avg Validation Recall: 0.6435675618411991\n",
      "Avg Validation Precision: 0.5520904335420465\n",
      "\n",
      "Evaluation on testing data \n",
      "\n",
      "Accuracy:  0.8662420382165605\n",
      "Recall:  0.673469387755102\n",
      "Precision:  0.559322033898305\n",
      "F1:  0.611111111111111\n"
     ]
    },
    {
     "data": {
      "image/png": "[encoded data removed]",
      "text/plain": [
       "<Figure size 432x288 with 2 Axes>"
      ]
     },
     "metadata": {
      "needs_background": "light"
     },
     "output_type": "display_data"
    },
    {
     "name": "stdout",
     "output_type": "stream",
     "text": [
      "None\n"
     ]
    }
   ],
   "source": [
    "pipeline_log=e_cross_validate_grid(preprocess,LogisticRegression(random_state=1234),scoring='recall', cv=KFold(),conf_matrix=False)\n",
    "f_validate_pipeline_on_test(pipeline_log)"
   ]
  },
  {
   "cell_type": "code",
   "execution_count": 46,
   "id": "ade42796",
   "metadata": {},
   "outputs": [],
   "source": [
    "x=list(preprocess.get_feature_names_out())"
   ]
  },
  {
   "cell_type": "markdown",
   "id": "ad0e56e0",
   "metadata": {},
   "source": [
    "### Bag KNN"
   ]
  },
  {
   "cell_type": "code",
   "execution_count": null,
   "id": "37994984-8e53-418e-a28b-f438e449fd18",
   "metadata": {
    "tags": []
   },
   "outputs": [
    {
     "name": "stdout",
     "output_type": "stream",
     "text": [
      "Validation set confusion matrix\n",
      "Accuracy:  0.8287671232876712\n",
      "Recall:  0.6388888888888888\n",
      "Precision:  0.6571428571428571\n",
      "F1:  0.647887323943662\n"
     ]
    },
    {
     "data": {
      "image/png": "[encoded data removed]",
      "text/plain": [
       "<Figure size 432x288 with 2 Axes>"
      ]
     },
     "metadata": {},
     "output_type": "display_data"
    },
    {
     "name": "stdout",
     "output_type": "stream",
     "text": [
      "None\n",
      "\n",
      "Avg Training Accuracy: 0.996580025758108\n",
      "Avg Training Recall: 0.9930094832749699\n",
      "Avg Training Precision: 0.9895829573639091\n",
      "\n",
      "Avg Validation Accuracy: 0.8002516074923118\n",
      "Avg Validation Recall: 0.5968640641276904\n",
      "Avg Validation Precision: 0.4947483509532845\n",
      "\n"
     ]
    }
   ],
   "source": [
    "pipeline_bag_knn=e_cross_validate_grid(preprocess,BaggingClassifier(base_estimator=KNeighborsClassifier(metric='manhattan',n_neighbors=10,weights='distance')),scoring='recall', cv=KFold(),param_grid=knn_params,grid_search=False,conf_matrix=True)\n",
    "f_validate_pipeline_on_test(pipeline_bag_knn)"
   ]
  },
  {
   "cell_type": "markdown",
   "id": "1c451b4b",
   "metadata": {},
   "source": [
    "# Calculate stay/leave probabilities and append to original file"
   ]
  },
  {
   "cell_type": "code",
   "execution_count": null,
   "id": "b22f48de",
   "metadata": {},
   "outputs": [],
   "source": [
    "df5=df2.copy()\n",
    "df5.drop(columns='attrition',axis=1,inplace=True)\n",
    "leave=pipeline_best.predict_proba(df5)\n",
    "df2['stay_prob']=leave[:,0]\n",
    "df2.to_csv(\"Data\\leave_chance.csv\")"
   ]
  }
 ],
 "metadata": {
  "kernelspec": {
   "display_name": "Python 3 (ipykernel)",
   "language": "python",
   "name": "python3"
  },
  "language_info": {
   "codemirror_mode": {
    "name": "ipython",
    "version": 3
   },
   "file_extension": ".py",
   "mimetype": "text/x-python",
   "name": "python",
   "nbconvert_exporter": "python",
   "pygments_lexer": "ipython3",
   "version": "3.9.12"
  },
  "vscode": {
   "interpreter": {
    "hash": "a08fe99de7091861da4136a7c4af3e70f25e0bad2269d33020f7bee7e1bdba20"
   }
  }
 },
 "nbformat": 4,
 "nbformat_minor": 5
}
