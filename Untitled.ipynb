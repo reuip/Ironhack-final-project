{
 "cells": [
  {
   "cell_type": "code",
   "execution_count": 2,
   "id": "57b2f596-e0b9-4ddb-a77a-daa3ba72cdab",
   "metadata": {},
   "outputs": [],
   "source": [
    "from urchin_workflow import urchin_supervised_classification as usc"
   ]
  },
  {
   "cell_type": "code",
   "execution_count": 4,
   "id": "3bbace62-898d-45cc-ba73-92caf0845467",
   "metadata": {},
   "outputs": [],
   "source": [
    "from urchin_workflow import urchin_clean as uc"
   ]
  },
  {
   "cell_type": "code",
   "execution_count": 5,
   "id": "cee02dba-524e-43a9-baee-289a9888d471",
   "metadata": {},
   "outputs": [
    {
     "data": {
      "text/plain": [
       "['__builtins__',\n",
       " '__cached__',\n",
       " '__doc__',\n",
       " '__file__',\n",
       " '__loader__',\n",
       " '__name__',\n",
       " '__package__',\n",
       " '__spec__',\n",
       " '_math',\n",
       " '_np',\n",
       " '_pd',\n",
       " 'a_count_missing_values',\n",
       " 'b_drop_by_input',\n",
       " 'b_drop_by_threshold',\n",
       " 'c_check_categorical',\n",
       " 'c_standardize_categorical',\n",
       " 'da_nan_to_mean',\n",
       " 'db_find_hidden_integers',\n",
       " 'dc_fix_hidden_integers']"
      ]
     },
     "execution_count": 5,
     "metadata": {},
     "output_type": "execute_result"
    }
   ],
   "source": [
    "dir(uc)"
   ]
  },
  {
   "cell_type": "code",
   "execution_count": null,
   "id": "1ce4dbd5-6631-4b0a-a086-80aa56d2723b",
   "metadata": {},
   "outputs": [],
   "source": []
  }
 ],
 "metadata": {
  "kernelspec": {
   "display_name": "Python 3 (ipykernel)",
   "language": "python",
   "name": "python3"
  },
  "language_info": {
   "codemirror_mode": {
    "name": "ipython",
    "version": 3
   },
   "file_extension": ".py",
   "mimetype": "text/x-python",
   "name": "python",
   "nbconvert_exporter": "python",
   "pygments_lexer": "ipython3",
   "version": "3.9.12"
  }
 },
 "nbformat": 4,
 "nbformat_minor": 5
}
