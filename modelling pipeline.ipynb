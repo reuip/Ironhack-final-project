{
 "cells": [
  {
   "cell_type": "code",
   "execution_count": 37,
   "id": "f728c412-9c3f-4d2b-9900-58460a3f729f",
   "metadata": {},
   "outputs": [],
   "source": [
    "# Standard Imports\n",
    "import pandas as pd\n",
    "import seaborn as sns\n",
    "import numpy as np\n",
    "import matplotlib.pyplot as plt\n",
    "import pickle\n",
    "import eli5\n",
    "\n",
    "# Transformers\n",
    "from sklearn.preprocessing import LabelEncoder, OneHotEncoder, StandardScaler, MinMaxScaler\n",
    "\n",
    "# Modeling Evaluation\n",
    "from sklearn.model_selection import train_test_split, cross_val_score, KFold, GridSearchCV\n",
    "from sklearn.metrics import accuracy_score, precision_score, recall_score,f1_score, confusion_matrix, classification_report\n",
    "from IPython.display import display, Markdown\n",
    "\n",
    "# Pipelines\n",
    "from sklearn.pipeline import Pipeline, FeatureUnion\n",
    "from sklearn.base import BaseEstimator, TransformerMixin\n",
    "from sklearn.compose import ColumnTransformer\n",
    "from imblearn.pipeline import Pipeline as PipeImb\n",
    "from imblearn.pipeline import make_pipeline\n",
    "\n",
    "\n",
    "# Machine Learning\n",
    "from sklearn.tree import DecisionTreeClassifier\n",
    "from sklearn.ensemble import RandomForestClassifier\n",
    "from sklearn.neighbors import KNeighborsClassifier\n",
    "from sklearn.linear_model import LogisticRegression\n",
    "from xgboost import XGBClassifier\n",
    "from sklearn.svm import SVC\n",
    "from sklearn.naive_bayes import GaussianNB\n",
    "from sklearn.ensemble import StackingClassifier\n",
    "\n",
    "#Validation methods\n",
    "from sklearn.model_selection import KFold\n",
    "from sklearn.model_selection import RepeatedStratifiedKFold\n",
    "\n",
    "#Sampling methods\n",
    "from imblearn.over_sampling import SMOTENC\n"
   ]
  },
  {
   "cell_type": "code",
   "execution_count": 38,
   "id": "8c93688b",
   "metadata": {},
   "outputs": [],
   "source": [
    "#Look at pipeline and what it does\n",
    "# from sklearn import set_config\n",
    "#set_config(display='diagram')\n",
    "#display(search2)"
   ]
  },
  {
   "cell_type": "markdown",
   "id": "ad9ad139",
   "metadata": {},
   "source": [
    "# User defined functions"
   ]
  },
  {
   "cell_type": "code",
   "execution_count": 39,
   "id": "20e32e12",
   "metadata": {},
   "outputs": [],
   "source": [
    "def a_xy_split(dataframe,y_name,test_size=.3):\n",
    "   \n",
    "    #Get xy split and train/test data ready\n",
    "    X = dataframe.drop([y_name], axis=1)\n",
    "    y = dataframe.attrition\n",
    "    y = LabelEncoder().fit_transform(y)\n",
    "    X_train, X_test, y_train, y_test = train_test_split(X, y, test_size=test_size,random_state=42)\n",
    "\n",
    "    #Prep numerical and other column types for use in preprocessor\n",
    "    numerical=X.select_dtypes(include='number')\n",
    "    categorical=X.select_dtypes(include='object')\n",
    "    numerical_columns=list(numerical.columns)\n",
    "    categorical_columns=list(categorical.columns)\n",
    "    columns=list(X.columns)\n",
    "    cat_col_bool=[True if x in categorical_columns else False for x in columns]\n",
    "\n",
    "    return X_train, X_test, y_train, y_test,numerical_columns,categorical_columns,cat_col_bool"
   ]
  },
  {
   "cell_type": "code",
   "execution_count": 40,
   "id": "57e7ac9b-355b-4c53-8460-484e540fba05",
   "metadata": {},
   "outputs": [],
   "source": [
    "def b_preprocessors():\n",
    "    #Creating ss transformer to scale the continuous numerical data with StandardScaler()\n",
    "    ss = Pipeline(steps=[('ss', StandardScaler())])\n",
    "    #--------------------------------------------------------------------\n",
    "    #Creating ohe transformer to encode the categorical data with OneHotEncoder()\n",
    "    ohe = Pipeline(steps=[('ohe', OneHotEncoder(handle_unknown='ignore', drop='first'))])\n",
    "    #--------------------------------------------------------------------\n",
    "    #Creating preprocess column transformer to combine the ss and ohe pipelines\n",
    "    preprocess = ColumnTransformer(\n",
    "                        transformers=[\n",
    "                            ('num', ss, numerical_columns),\n",
    "                            ('cat', ohe, categorical_columns)\n",
    "                        ])\n",
    "    return preprocess\n",
    "\n"
   ]
  },
  {
   "cell_type": "code",
   "execution_count": 52,
   "id": "03fddc61",
   "metadata": {},
   "outputs": [],
   "source": [
    "def c_get_standard_params():\n",
    "        #Creating parameter grid for Random Forest\n",
    "        rand_forest_parms = {'classifier__n_estimators': [100, 300, 500],\n",
    "                'classifier__max_depth':[6, 25, 50, 70],\n",
    "                'classifier__min_samples_split': [2, 5, 10],\n",
    "                'classifier__min_samples_leaf': [1, 2, 10]}\n",
    "        xgb_params = { 'classifier__max_depth': [3,6,10],\n",
    "                'classifier__learning_rate': [0.01, 0.05, 0.1, 0.2, 0.3],\n",
    "                'classifier__n_estimators': [100, 500, 1000],\n",
    "                'classifier__colsample_bytree': [0.3, 0.7],\n",
    "                'classifier__subsample':[.6,1]}\n",
    "\n",
    "        log_regress_params={'classifier__solver':['newton-cg', 'lbfgs', 'liblinear', 'sag', 'saga'],\n",
    "                        'classifier__penalty':['none','l1','l2','elasticnet'],\n",
    "                        'classifier__C':[100,10,1.0, 0.1,0.01]}\n",
    "        \n",
    "        knn_params={'classifier__n_neighbors':[1, 5, 10],\n",
    "        'classifier__weights': ['uniform', 'distance'],\n",
    "        'classifier__metric': ['euclidean', 'manhattan', 'minkowski']}\n",
    "\n",
    "        gaussian_params={'classifier__var_smoothing': [1e-11, 1e-10, 1e-9]}\n",
    "\n",
    "        return rand_forest_parms,xgb_params,log_regress_params,knn_params,gaussian_params"
   ]
  },
  {
   "cell_type": "code",
   "execution_count": 53,
   "id": "d440f89a",
   "metadata": {},
   "outputs": [],
   "source": [
    "def _evaluation(y, y_hat, title = 'Confusion Matrix'):\n",
    "    cm = confusion_matrix(y, y_hat)\n",
    "    precision = precision_score(y, y_hat)\n",
    "    recall = recall_score(y, y_hat)\n",
    "    accuracy = accuracy_score(y,y_hat)\n",
    "    f1 = f1_score(y,y_hat)\n",
    "    print('Accuracy: ', accuracy)\n",
    "    print('Recall: ', recall)\n",
    "    print('Precision: ', precision)\n",
    "    print('F1: ', f1)\n",
    "    sns.heatmap(cm,  cmap= 'PuBu', annot=True, fmt='g', annot_kws=    {'size':20})\n",
    "    plt.xlabel('predicted', fontsize=18)\n",
    "    plt.ylabel('actual', fontsize=18)\n",
    "    plt.title(title, fontsize=18)\n",
    "    \n",
    "    plt.show()\n",
    "\n",
    "def _get_stacking():\n",
    "\t# define the base models\n",
    "\tlevel0 = list()\n",
    "\tlevel0.append(('lr', LogisticRegression()))\n",
    "\tlevel0.append(('knn', KNeighborsClassifier()))\n",
    "\tlevel0.append(('cart', DecisionTreeClassifier()))\n",
    "\tlevel0.append(('svm', SVC()))\n",
    "\tlevel0.append(('bayes', GaussianNB()))\n",
    "\t# define meta learner model\n",
    "\tlevel1 = LogisticRegression()\n",
    "\t# define the stacking ensemble\n",
    "\tmodel = StackingClassifier(estimators=level0, final_estimator=level1, cv=5)\n",
    "\treturn model"
   ]
  },
  {
   "cell_type": "code",
   "execution_count": 54,
   "id": "5d272411-269c-4b11-9c77-5993fd24e2c4",
   "metadata": {},
   "outputs": [],
   "source": [
    "def d_check_best_model():\n",
    "    stack=_get_stacking()\n",
    "    models=[LogisticRegression(),RandomForestClassifier(),XGBClassifier(),KNeighborsClassifier(),DecisionTreeClassifier(),stack,SVC(),GaussianNB()]\n",
    "    for i in models:\n",
    "        print (i)\n",
    "        e_cross_validate_grid(preprocess,i,cv=KFold(),grid_search=False)\n",
    "        print()"
   ]
  },
  {
   "cell_type": "code",
   "execution_count": 63,
   "id": "c88b95ac",
   "metadata": {},
   "outputs": [],
   "source": [
    "def e_cross_validate_grid(preprocessor, classifier, smote_type='NC', param_grid=\"none\", cv=\"none\", scoring=\"recall\", conf_matrix=False, grid_search=False):\n",
    "    cv = cv\n",
    "\n",
    "    #Set correct pipeline for use in the formula\n",
    "    pipeline = PipeImb(steps=[\n",
    "    ('preprocess', preprocessor),\n",
    "    ('classifier', classifier)])\n",
    "\n",
    "\n",
    "    if smote_type.lower()==\"nc\":\n",
    "        pipeline.steps.insert(0,('smote',SMOTENC(categorical_features=X_train.dtypes==object,random_state=1234,n_jobs=-1)))\n",
    "\n",
    "\n",
    "    if grid_search==True:\n",
    "        search = GridSearchCV(pipeline, param_grid=param_grid, cv=cv,scoring=scoring)\n",
    "    else:\n",
    "        search=pipeline\n",
    "# Run train and validation methods, print average result for each\n",
    "    train_acc = []\n",
    "    train_rec=[]\n",
    "    train_prec=[]\n",
    "    test_acc = []\n",
    "    test_rec=[]\n",
    "    test_prec=[]\n",
    "    for train_ind, val_ind in cv.split(X_train, y_train):\n",
    "        X_t, y_t = X_train.iloc[train_ind], y_train[train_ind]\n",
    "        search.fit(X_t, y_t)\n",
    "        y_hat_t = search.predict(X_t)\n",
    "        train_acc.append(accuracy_score(y_t, y_hat_t))\n",
    "        train_rec.append(recall_score(y_t,y_hat_t))\n",
    "        train_prec.append(precision_score(y_t,y_hat_t))\n",
    "        X_val, y_val = X_train.iloc[val_ind], y_train[val_ind]\n",
    "        y_hat_val = search.predict(X_val)\n",
    "        test_acc.append(accuracy_score(y_val, y_hat_val))\n",
    "        test_rec.append(recall_score(y_val, y_hat_val))\n",
    "        test_prec.append(precision_score(y_val, y_hat_val))\n",
    "\n",
    "    if conf_matrix==True:\n",
    "        print(\"Validation set confusion matrix\")\n",
    "        print(_evaluation(y_val, y_hat_val))\n",
    "        print()\n",
    "    print('Avg Training Accuracy: {}'.format(np.mean(train_acc)))\n",
    "    print(\"Avg Training Recall: {}\".format(np.mean(train_rec)))\n",
    "    print(\"Avg Training Precision: {}\".format(np.mean(train_prec)))\n",
    "    print()\n",
    "    print('Avg Validation Accuracy: {}'.format(np.mean(test_acc)))\n",
    "    print(\"Avg Validation Recall: {}\".format(np.mean(test_rec)))\n",
    "    print(\"Avg Validation Precision: {}\".format(np.mean(test_prec)))\n",
    "    print()\n",
    "\n",
    "# If grid search used, print best estimator's features\n",
    "    if (grid_search==True):\n",
    "        ohe_cols = list(search.best_estimator_.named_steps['preprocess'].named_transformers_['cat'].named_steps['ohe'].get_feature_names_out(\n",
    "        input_features=categorical_columns))\n",
    "        num_feats = list(numerical_columns)\n",
    "        num_feats.extend(ohe_cols)\n",
    "        feat_imp = eli5.explain_weights_df(search.best_estimator_.named_steps['classifier'], top=10, feature_names=num_feats)\n",
    "        print(feat_imp)\n",
    "        print()\n",
    "        print('Grid Search Best Params:')\n",
    "        print()\n",
    "        print(search.best_params_)\n",
    "    return search\n"
   ]
  },
  {
   "cell_type": "code",
   "execution_count": 56,
   "id": "468a6274",
   "metadata": {},
   "outputs": [],
   "source": [
    "def g_validate_using_test(preprocessor, classifier, grid, cv):\n",
    "    final_pipeline = GridSearchCV(PipeImb(steps=[\n",
    "            ('preprocess', preprocessor),\n",
    "            ('classifier', classifier)\n",
    "        ]), grid, cv=cv)\n",
    "    #Fit and predict on train data\n",
    "    final_pipeline.fit(X_train, y_train)\n",
    "\n",
    "    train_pred = final_pipeline.best_estimator_.predict(X_train)\n",
    "    #train_pred=final_pipeline.predict(X_train)\n",
    "\n",
    "    print('Evaluation on training data \\n')\n",
    "    print(_evaluation(y_train, train_pred))\n",
    "    print('\\n')\n",
    "    #Predict on test data\n",
    "\n",
    "    test_pred = final_pipeline.best_estimator_.predict(X_test)\n",
    "    #test_pred = final_pipeline.predict(X_test)\n",
    "    print('Evaluation on testing data \\n')\n",
    "    print(_evaluation(y_test, test_pred))"
   ]
  },
  {
   "cell_type": "code",
   "execution_count": 57,
   "id": "7c9e9359-1578-4338-a309-2468974cafeb",
   "metadata": {},
   "outputs": [],
   "source": [
    "def f_validate_pipeline_on_test(pipeline):\n",
    "    test_pred = pipeline.predict(X_test)\n",
    "    #test_pred = final_pipeline.predict(X_test)\n",
    "    print('Evaluation on testing data \\n')\n",
    "    print(_evaluation(y_test, test_pred))"
   ]
  },
  {
   "cell_type": "markdown",
   "id": "8592a219",
   "metadata": {},
   "source": [
    "# Code here"
   ]
  },
  {
   "cell_type": "code",
   "execution_count": 89,
   "id": "121dac97-6d7b-4887-b51d-c6c2df1ef523",
   "metadata": {},
   "outputs": [],
   "source": [
    "df=pd.read_csv(r\"Data\\4b.IBM_data_cleaned_dropped.csv\")\n",
    "df2=df[df['age']<42].copy()"
   ]
  },
  {
   "cell_type": "code",
   "execution_count": 90,
   "id": "42627b18-4294-4aa9-9710-3076c83f3617",
   "metadata": {},
   "outputs": [
    {
     "data": {
      "text/plain": [
       "(1045, 28)"
      ]
     },
     "execution_count": 90,
     "metadata": {},
     "output_type": "execute_result"
    }
   ],
   "source": [
    "df2.shape"
   ]
  },
  {
   "cell_type": "code",
   "execution_count": 91,
   "id": "c3e1088b",
   "metadata": {},
   "outputs": [],
   "source": [
    "y_name='attrition'\n",
    "X_train, X_test, y_train, y_test,numerical_columns,categorical_columns,cat_col_bool=a_xy_split(df2,y_name)\n",
    "preprocess=b_preprocessors()\n",
    "rand_forest_parms,xgb_params,log_regress_params,knn_params,gaussian_params=c_get_standard_params()"
   ]
  },
  {
   "cell_type": "code",
   "execution_count": 82,
   "id": "0ecbacb5-0353-407e-8824-8457665df4f6",
   "metadata": {},
   "outputs": [
    {
     "name": "stdout",
     "output_type": "stream",
     "text": [
      "LogisticRegression()\n",
      "Avg Training Accuracy: 0.88902940111984\n",
      "Avg Training Recall: 0.6612755102040816\n",
      "Avg Training Precision: 0.6574112629455715\n",
      "\n",
      "Avg Validation Accuracy: 0.8042378673957622\n",
      "Avg Validation Recall: 0.4546453546453547\n",
      "Avg Validation Precision: 0.4118181818181818\n",
      "\n",
      "\n",
      "RandomForestClassifier()\n",
      "Avg Training Accuracy: 1.0\n",
      "Avg Training Recall: 1.0\n",
      "Avg Training Precision: 1.0\n",
      "\n",
      "Avg Validation Accuracy: 0.8667805878332194\n",
      "Avg Validation Recall: 0.45982350982350984\n",
      "Avg Validation Precision: 0.6592424242424242\n",
      "\n",
      "\n",
      "XGBClassifier(base_score=None, booster=None, callbacks=None,\n",
      "              colsample_bylevel=None, colsample_bynode=None,\n",
      "              colsample_bytree=None, early_stopping_rounds=None,\n",
      "              enable_categorical=False, eval_metric=None, gamma=None,\n",
      "              gpu_id=None, grow_policy=None, importance_type=None,\n",
      "              interaction_constraints=None, learning_rate=None, max_bin=None,\n",
      "              max_cat_to_onehot=None, max_delta_step=None, max_depth=None,\n",
      "              max_leaves=None, min_child_weight=None, missing=nan,\n",
      "              monotone_constraints=None, n_estimators=100, n_jobs=None,\n",
      "              num_parallel_tree=None, predictor=None, random_state=None,\n",
      "              reg_alpha=None, reg_lambda=None, ...)\n",
      "Avg Training Accuracy: 1.0\n",
      "Avg Training Recall: 1.0\n",
      "Avg Training Precision: 1.0\n",
      "\n",
      "Avg Validation Accuracy: 0.8458988380041012\n",
      "Avg Validation Recall: 0.4067932067932068\n",
      "Avg Validation Precision: 0.5685897435897436\n",
      "\n",
      "\n",
      "KNeighborsClassifier()\n",
      "Avg Training Accuracy: 0.8779523535798684\n",
      "Avg Training Recall: 0.8867390956382554\n",
      "Avg Training Precision: 0.5821410909439079\n",
      "\n",
      "Avg Validation Accuracy: 0.7467874231032126\n",
      "Avg Validation Recall: 0.4483682983682984\n",
      "Avg Validation Precision: 0.3202777777777778\n",
      "\n",
      "\n",
      "DecisionTreeClassifier()\n",
      "Avg Training Accuracy: 1.0\n",
      "Avg Training Recall: 1.0\n",
      "Avg Training Precision: 1.0\n",
      "\n",
      "Avg Validation Accuracy: 0.8069719753930279\n",
      "Avg Validation Recall: 0.4756243756243756\n",
      "Avg Validation Precision: 0.4480393290919607\n",
      "\n",
      "\n",
      "StackingClassifier(cv=5,\n",
      "                   estimators=[('lr', LogisticRegression()),\n",
      "                               ('knn', KNeighborsClassifier()),\n",
      "                               ('cart', DecisionTreeClassifier()),\n",
      "                               ('svm', SVC()), ('bayes', GaussianNB())],\n",
      "                   final_estimator=LogisticRegression())\n",
      "Avg Training Accuracy: 0.9699857358795854\n",
      "Avg Training Recall: 0.8870626250500202\n",
      "Avg Training Precision: 0.9241331355237129\n",
      "\n",
      "Avg Validation Accuracy: 0.8407382091592618\n",
      "Avg Validation Recall: 0.32670662670662665\n",
      "Avg Validation Precision: 0.5133333333333333\n",
      "\n",
      "\n",
      "SVC()\n",
      "Avg Training Accuracy: 0.9530114325860637\n",
      "Avg Training Recall: 0.794311324529812\n",
      "Avg Training Precision: 0.9044470535183897\n",
      "\n",
      "Avg Validation Accuracy: 0.8512303485987696\n",
      "Avg Validation Recall: 0.32712287712287713\n",
      "Avg Validation Precision: 0.657142857142857\n",
      "\n",
      "\n",
      "GaussianNB()\n",
      "Avg Training Accuracy: 0.6534031636541695\n",
      "Avg Training Recall: 0.7061054421768707\n",
      "Avg Training Precision: 0.27843639360889705\n",
      "\n",
      "Avg Validation Accuracy: 0.6130895420369105\n",
      "Avg Validation Recall: 0.6444888444888445\n",
      "Avg Validation Precision: 0.25263157894736843\n",
      "\n",
      "\n"
     ]
    }
   ],
   "source": [
    "d_check_best_model()"
   ]
  },
  {
   "cell_type": "code",
   "execution_count": 106,
   "id": "37994984-8e53-418e-a28b-f438e449fd18",
   "metadata": {},
   "outputs": [
    {
     "name": "stdout",
     "output_type": "stream",
     "text": [
      "Avg Training Accuracy: 0.8563616672520784\n",
      "Avg Training Recall: 0.6986607355268081\n",
      "Avg Training Precision: 0.6145159775741185\n",
      "\n",
      "Avg Validation Accuracy: 0.8317118628273226\n",
      "Avg Validation Recall: 0.6373842541095044\n",
      "Avg Validation Precision: 0.5583026835974556\n",
      "\n"
     ]
    }
   ],
   "source": [
    "pipeline=e_cross_validate_grid(preprocess,LogisticRegression(), cv=KFold(),grid_search=False)"
   ]
  },
  {
   "cell_type": "code",
   "execution_count": 110,
   "id": "a26c019f",
   "metadata": {},
   "outputs": [
    {
     "name": "stderr",
     "output_type": "stream",
     "text": [
      "c:\\Users\\MichaelTaylo_c9zoof3\\anaconda3\\envs\\DA_Env\\lib\\site-packages\\sklearn\\base.py:443: UserWarning: X has feature names, but LogisticRegression was fitted without feature names\n",
      "  warnings.warn(\n"
     ]
    },
    {
     "ename": "ValueError",
     "evalue": "could not convert string to float: 'travel_rarely'",
     "output_type": "error",
     "traceback": [
      "\u001b[1;31m---------------------------------------------------------------------------\u001b[0m",
      "\u001b[1;31mValueError\u001b[0m                                Traceback (most recent call last)",
      "\u001b[1;32mc:\\Users\\MichaelTaylo_c9zoof3\\Documents\\GitHub\\Ironhack_final_project\\modelling pipeline.ipynb Cell 18\u001b[0m in \u001b[0;36m<cell line: 1>\u001b[1;34m()\u001b[0m\n\u001b[1;32m----> <a href='vscode-notebook-cell:/c%3A/Users/MichaelTaylo_c9zoof3/Documents/GitHub/Ironhack_final_project/modelling%20pipeline.ipynb#ch0000023?line=0'>1</a>\u001b[0m eli5\u001b[39m.\u001b[39;49mshow_prediction(pipeline\u001b[39m.\u001b[39;49mnamed_steps[\u001b[39m'\u001b[39;49m\u001b[39mclassifier\u001b[39;49m\u001b[39m'\u001b[39;49m],X_test)\n",
      "File \u001b[1;32mc:\\Users\\MichaelTaylo_c9zoof3\\anaconda3\\envs\\DA_Env\\lib\\site-packages\\eli5\\ipython.py:307\u001b[0m, in \u001b[0;36mshow_prediction\u001b[1;34m(estimator, doc, **kwargs)\u001b[0m\n\u001b[0;32m    137\u001b[0m \u001b[39m\"\"\" Return an explanation of estimator prediction\u001b[39;00m\n\u001b[0;32m    138\u001b[0m \u001b[39mas an IPython.display.HTML object. Use this function\u001b[39;00m\n\u001b[0;32m    139\u001b[0m \u001b[39mto show information about classifier prediction in IPython.\u001b[39;00m\n\u001b[1;32m   (...)\u001b[0m\n\u001b[0;32m    304\u001b[0m \n\u001b[0;32m    305\u001b[0m \u001b[39m\"\"\"\u001b[39;00m\n\u001b[0;32m    306\u001b[0m format_kwargs, explain_kwargs \u001b[39m=\u001b[39m _split_kwargs(kwargs)\n\u001b[1;32m--> 307\u001b[0m expl \u001b[39m=\u001b[39m explain_prediction(estimator, doc, \u001b[39m*\u001b[39m\u001b[39m*\u001b[39mexplain_kwargs)\n\u001b[0;32m    308\u001b[0m \u001b[39mif\u001b[39;00m expl\u001b[39m.\u001b[39mimage \u001b[39mis\u001b[39;00m \u001b[39mnot\u001b[39;00m \u001b[39mNone\u001b[39;00m:\n\u001b[0;32m    309\u001b[0m     \u001b[39m# dispatch to image display implementation\u001b[39;00m\n\u001b[0;32m    310\u001b[0m     \u001b[39mif\u001b[39;00m \u001b[39misinstance\u001b[39m(format_as_image, \u001b[39mImportError\u001b[39;00m):\n",
      "File \u001b[1;32mc:\\Users\\MichaelTaylo_c9zoof3\\anaconda3\\envs\\DA_Env\\lib\\functools.py:888\u001b[0m, in \u001b[0;36msingledispatch.<locals>.wrapper\u001b[1;34m(*args, **kw)\u001b[0m\n\u001b[0;32m    884\u001b[0m \u001b[39mif\u001b[39;00m \u001b[39mnot\u001b[39;00m args:\n\u001b[0;32m    885\u001b[0m     \u001b[39mraise\u001b[39;00m \u001b[39mTypeError\u001b[39;00m(\u001b[39mf\u001b[39m\u001b[39m'\u001b[39m\u001b[39m{\u001b[39;00mfuncname\u001b[39m}\u001b[39;00m\u001b[39m requires at least \u001b[39m\u001b[39m'\u001b[39m\n\u001b[0;32m    886\u001b[0m                     \u001b[39m'\u001b[39m\u001b[39m1 positional argument\u001b[39m\u001b[39m'\u001b[39m)\n\u001b[1;32m--> 888\u001b[0m \u001b[39mreturn\u001b[39;00m dispatch(args[\u001b[39m0\u001b[39m]\u001b[39m.\u001b[39m\u001b[39m__class__\u001b[39m)(\u001b[39m*\u001b[39margs, \u001b[39m*\u001b[39m\u001b[39m*\u001b[39mkw)\n",
      "File \u001b[1;32mc:\\Users\\MichaelTaylo_c9zoof3\\anaconda3\\envs\\DA_Env\\lib\\site-packages\\eli5\\sklearn\\explain_prediction.py:172\u001b[0m, in \u001b[0;36mexplain_prediction_linear_classifier\u001b[1;34m(clf, doc, vec, top, top_targets, target_names, targets, feature_names, feature_re, feature_filter, vectorized)\u001b[0m\n\u001b[0;32m    169\u001b[0m vec, feature_names \u001b[39m=\u001b[39m handle_vec(clf, doc, vec, vectorized, feature_names)\n\u001b[0;32m    170\u001b[0m X \u001b[39m=\u001b[39m get_X(doc, vec\u001b[39m=\u001b[39mvec, vectorized\u001b[39m=\u001b[39mvectorized, to_dense\u001b[39m=\u001b[39m\u001b[39mTrue\u001b[39;00m)\n\u001b[1;32m--> 172\u001b[0m proba \u001b[39m=\u001b[39m predict_proba(clf, X)\n\u001b[0;32m    173\u001b[0m score, \u001b[39m=\u001b[39m clf\u001b[39m.\u001b[39mdecision_function(X)\n\u001b[0;32m    175\u001b[0m \u001b[39mif\u001b[39;00m has_intercept(clf):\n",
      "File \u001b[1;32mc:\\Users\\MichaelTaylo_c9zoof3\\anaconda3\\envs\\DA_Env\\lib\\site-packages\\eli5\\sklearn\\utils.py:49\u001b[0m, in \u001b[0;36mpredict_proba\u001b[1;34m(estimator, X)\u001b[0m\n\u001b[0;32m     47\u001b[0m \u001b[39mif\u001b[39;00m is_probabilistic_classifier(estimator):\n\u001b[0;32m     48\u001b[0m     \u001b[39mtry\u001b[39;00m:\n\u001b[1;32m---> 49\u001b[0m         proba, \u001b[39m=\u001b[39m estimator\u001b[39m.\u001b[39;49mpredict_proba(X)\n\u001b[0;32m     50\u001b[0m         \u001b[39mreturn\u001b[39;00m proba\n\u001b[0;32m     51\u001b[0m     \u001b[39mexcept\u001b[39;00m \u001b[39mNotImplementedError\u001b[39;00m:\n",
      "File \u001b[1;32mc:\\Users\\MichaelTaylo_c9zoof3\\anaconda3\\envs\\DA_Env\\lib\\site-packages\\sklearn\\linear_model\\_logistic.py:1670\u001b[0m, in \u001b[0;36mLogisticRegression.predict_proba\u001b[1;34m(self, X)\u001b[0m\n\u001b[0;32m   1665\u001b[0m ovr \u001b[39m=\u001b[39m \u001b[39mself\u001b[39m\u001b[39m.\u001b[39mmulti_class \u001b[39min\u001b[39;00m [\u001b[39m\"\u001b[39m\u001b[39movr\u001b[39m\u001b[39m\"\u001b[39m, \u001b[39m\"\u001b[39m\u001b[39mwarn\u001b[39m\u001b[39m\"\u001b[39m] \u001b[39mor\u001b[39;00m (\n\u001b[0;32m   1666\u001b[0m     \u001b[39mself\u001b[39m\u001b[39m.\u001b[39mmulti_class \u001b[39m==\u001b[39m \u001b[39m\"\u001b[39m\u001b[39mauto\u001b[39m\u001b[39m\"\u001b[39m\n\u001b[0;32m   1667\u001b[0m     \u001b[39mand\u001b[39;00m (\u001b[39mself\u001b[39m\u001b[39m.\u001b[39mclasses_\u001b[39m.\u001b[39msize \u001b[39m<\u001b[39m\u001b[39m=\u001b[39m \u001b[39m2\u001b[39m \u001b[39mor\u001b[39;00m \u001b[39mself\u001b[39m\u001b[39m.\u001b[39msolver \u001b[39m==\u001b[39m \u001b[39m\"\u001b[39m\u001b[39mliblinear\u001b[39m\u001b[39m\"\u001b[39m)\n\u001b[0;32m   1668\u001b[0m )\n\u001b[0;32m   1669\u001b[0m \u001b[39mif\u001b[39;00m ovr:\n\u001b[1;32m-> 1670\u001b[0m     \u001b[39mreturn\u001b[39;00m \u001b[39msuper\u001b[39;49m()\u001b[39m.\u001b[39;49m_predict_proba_lr(X)\n\u001b[0;32m   1671\u001b[0m \u001b[39melse\u001b[39;00m:\n\u001b[0;32m   1672\u001b[0m     decision \u001b[39m=\u001b[39m \u001b[39mself\u001b[39m\u001b[39m.\u001b[39mdecision_function(X)\n",
      "File \u001b[1;32mc:\\Users\\MichaelTaylo_c9zoof3\\anaconda3\\envs\\DA_Env\\lib\\site-packages\\sklearn\\linear_model\\_base.py:439\u001b[0m, in \u001b[0;36mLinearClassifierMixin._predict_proba_lr\u001b[1;34m(self, X)\u001b[0m\n\u001b[0;32m    432\u001b[0m \u001b[39mdef\u001b[39;00m \u001b[39m_predict_proba_lr\u001b[39m(\u001b[39mself\u001b[39m, X):\n\u001b[0;32m    433\u001b[0m     \u001b[39m\"\"\"Probability estimation for OvR logistic regression.\u001b[39;00m\n\u001b[0;32m    434\u001b[0m \n\u001b[0;32m    435\u001b[0m \u001b[39m    Positive class probabilities are computed as\u001b[39;00m\n\u001b[0;32m    436\u001b[0m \u001b[39m    1. / (1. + np.exp(-self.decision_function(X)));\u001b[39;00m\n\u001b[0;32m    437\u001b[0m \u001b[39m    multiclass is handled by normalizing that over all classes.\u001b[39;00m\n\u001b[0;32m    438\u001b[0m \u001b[39m    \"\"\"\u001b[39;00m\n\u001b[1;32m--> 439\u001b[0m     prob \u001b[39m=\u001b[39m \u001b[39mself\u001b[39;49m\u001b[39m.\u001b[39;49mdecision_function(X)\n\u001b[0;32m    440\u001b[0m     expit(prob, out\u001b[39m=\u001b[39mprob)\n\u001b[0;32m    441\u001b[0m     \u001b[39mif\u001b[39;00m prob\u001b[39m.\u001b[39mndim \u001b[39m==\u001b[39m \u001b[39m1\u001b[39m:\n",
      "File \u001b[1;32mc:\\Users\\MichaelTaylo_c9zoof3\\anaconda3\\envs\\DA_Env\\lib\\site-packages\\sklearn\\linear_model\\_base.py:407\u001b[0m, in \u001b[0;36mLinearClassifierMixin.decision_function\u001b[1;34m(self, X)\u001b[0m\n\u001b[0;32m    387\u001b[0m \u001b[39m\"\"\"\u001b[39;00m\n\u001b[0;32m    388\u001b[0m \u001b[39mPredict confidence scores for samples.\u001b[39;00m\n\u001b[0;32m    389\u001b[0m \n\u001b[1;32m   (...)\u001b[0m\n\u001b[0;32m    403\u001b[0m \u001b[39m    this class would be predicted.\u001b[39;00m\n\u001b[0;32m    404\u001b[0m \u001b[39m\"\"\"\u001b[39;00m\n\u001b[0;32m    405\u001b[0m check_is_fitted(\u001b[39mself\u001b[39m)\n\u001b[1;32m--> 407\u001b[0m X \u001b[39m=\u001b[39m \u001b[39mself\u001b[39;49m\u001b[39m.\u001b[39;49m_validate_data(X, accept_sparse\u001b[39m=\u001b[39;49m\u001b[39m\"\u001b[39;49m\u001b[39mcsr\u001b[39;49m\u001b[39m\"\u001b[39;49m, reset\u001b[39m=\u001b[39;49m\u001b[39mFalse\u001b[39;49;00m)\n\u001b[0;32m    408\u001b[0m scores \u001b[39m=\u001b[39m safe_sparse_dot(X, \u001b[39mself\u001b[39m\u001b[39m.\u001b[39mcoef_\u001b[39m.\u001b[39mT, dense_output\u001b[39m=\u001b[39m\u001b[39mTrue\u001b[39;00m) \u001b[39m+\u001b[39m \u001b[39mself\u001b[39m\u001b[39m.\u001b[39mintercept_\n\u001b[0;32m    409\u001b[0m \u001b[39mreturn\u001b[39;00m scores\u001b[39m.\u001b[39mravel() \u001b[39mif\u001b[39;00m scores\u001b[39m.\u001b[39mshape[\u001b[39m1\u001b[39m] \u001b[39m==\u001b[39m \u001b[39m1\u001b[39m \u001b[39melse\u001b[39;00m scores\n",
      "File \u001b[1;32mc:\\Users\\MichaelTaylo_c9zoof3\\anaconda3\\envs\\DA_Env\\lib\\site-packages\\sklearn\\base.py:566\u001b[0m, in \u001b[0;36mBaseEstimator._validate_data\u001b[1;34m(self, X, y, reset, validate_separately, **check_params)\u001b[0m\n\u001b[0;32m    564\u001b[0m     \u001b[39mraise\u001b[39;00m \u001b[39mValueError\u001b[39;00m(\u001b[39m\"\u001b[39m\u001b[39mValidation should be done on X, y or both.\u001b[39m\u001b[39m\"\u001b[39m)\n\u001b[0;32m    565\u001b[0m \u001b[39melif\u001b[39;00m \u001b[39mnot\u001b[39;00m no_val_X \u001b[39mand\u001b[39;00m no_val_y:\n\u001b[1;32m--> 566\u001b[0m     X \u001b[39m=\u001b[39m check_array(X, \u001b[39m*\u001b[39m\u001b[39m*\u001b[39mcheck_params)\n\u001b[0;32m    567\u001b[0m     out \u001b[39m=\u001b[39m X\n\u001b[0;32m    568\u001b[0m \u001b[39melif\u001b[39;00m no_val_X \u001b[39mand\u001b[39;00m \u001b[39mnot\u001b[39;00m no_val_y:\n",
      "File \u001b[1;32mc:\\Users\\MichaelTaylo_c9zoof3\\anaconda3\\envs\\DA_Env\\lib\\site-packages\\sklearn\\utils\\validation.py:746\u001b[0m, in \u001b[0;36mcheck_array\u001b[1;34m(array, accept_sparse, accept_large_sparse, dtype, order, copy, force_all_finite, ensure_2d, allow_nd, ensure_min_samples, ensure_min_features, estimator)\u001b[0m\n\u001b[0;32m    744\u001b[0m         array \u001b[39m=\u001b[39m array\u001b[39m.\u001b[39mastype(dtype, casting\u001b[39m=\u001b[39m\u001b[39m\"\u001b[39m\u001b[39munsafe\u001b[39m\u001b[39m\"\u001b[39m, copy\u001b[39m=\u001b[39m\u001b[39mFalse\u001b[39;00m)\n\u001b[0;32m    745\u001b[0m     \u001b[39melse\u001b[39;00m:\n\u001b[1;32m--> 746\u001b[0m         array \u001b[39m=\u001b[39m np\u001b[39m.\u001b[39;49masarray(array, order\u001b[39m=\u001b[39;49morder, dtype\u001b[39m=\u001b[39;49mdtype)\n\u001b[0;32m    747\u001b[0m \u001b[39mexcept\u001b[39;00m ComplexWarning \u001b[39mas\u001b[39;00m complex_warning:\n\u001b[0;32m    748\u001b[0m     \u001b[39mraise\u001b[39;00m \u001b[39mValueError\u001b[39;00m(\n\u001b[0;32m    749\u001b[0m         \u001b[39m\"\u001b[39m\u001b[39mComplex data not supported\u001b[39m\u001b[39m\\n\u001b[39;00m\u001b[39m{}\u001b[39;00m\u001b[39m\\n\u001b[39;00m\u001b[39m\"\u001b[39m\u001b[39m.\u001b[39mformat(array)\n\u001b[0;32m    750\u001b[0m     ) \u001b[39mfrom\u001b[39;00m \u001b[39mcomplex_warning\u001b[39;00m\n",
      "File \u001b[1;32mc:\\Users\\MichaelTaylo_c9zoof3\\anaconda3\\envs\\DA_Env\\lib\\site-packages\\numpy\\core\\_asarray.py:83\u001b[0m, in \u001b[0;36masarray\u001b[1;34m(a, dtype, order)\u001b[0m\n\u001b[0;32m     14\u001b[0m \u001b[39m@set_module\u001b[39m(\u001b[39m'\u001b[39m\u001b[39mnumpy\u001b[39m\u001b[39m'\u001b[39m)\n\u001b[0;32m     15\u001b[0m \u001b[39mdef\u001b[39;00m \u001b[39masarray\u001b[39m(a, dtype\u001b[39m=\u001b[39m\u001b[39mNone\u001b[39;00m, order\u001b[39m=\u001b[39m\u001b[39mNone\u001b[39;00m):\n\u001b[0;32m     16\u001b[0m     \u001b[39m\"\"\"Convert the input to an array.\u001b[39;00m\n\u001b[0;32m     17\u001b[0m \n\u001b[0;32m     18\u001b[0m \u001b[39m    Parameters\u001b[39;00m\n\u001b[1;32m   (...)\u001b[0m\n\u001b[0;32m     81\u001b[0m \n\u001b[0;32m     82\u001b[0m \u001b[39m    \"\"\"\u001b[39;00m\n\u001b[1;32m---> 83\u001b[0m     \u001b[39mreturn\u001b[39;00m array(a, dtype, copy\u001b[39m=\u001b[39;49m\u001b[39mFalse\u001b[39;49;00m, order\u001b[39m=\u001b[39;49morder)\n",
      "File \u001b[1;32mc:\\Users\\MichaelTaylo_c9zoof3\\anaconda3\\envs\\DA_Env\\lib\\site-packages\\pandas\\core\\generic.py:2064\u001b[0m, in \u001b[0;36mNDFrame.__array__\u001b[1;34m(self, dtype)\u001b[0m\n\u001b[0;32m   2063\u001b[0m \u001b[39mdef\u001b[39;00m \u001b[39m__array__\u001b[39m(\u001b[39mself\u001b[39m, dtype: npt\u001b[39m.\u001b[39mDTypeLike \u001b[39m|\u001b[39m \u001b[39mNone\u001b[39;00m \u001b[39m=\u001b[39m \u001b[39mNone\u001b[39;00m) \u001b[39m-\u001b[39m\u001b[39m>\u001b[39m np\u001b[39m.\u001b[39mndarray:\n\u001b[1;32m-> 2064\u001b[0m     \u001b[39mreturn\u001b[39;00m np\u001b[39m.\u001b[39;49masarray(\u001b[39mself\u001b[39;49m\u001b[39m.\u001b[39;49m_values, dtype\u001b[39m=\u001b[39;49mdtype)\n",
      "File \u001b[1;32mc:\\Users\\MichaelTaylo_c9zoof3\\anaconda3\\envs\\DA_Env\\lib\\site-packages\\numpy\\core\\_asarray.py:83\u001b[0m, in \u001b[0;36masarray\u001b[1;34m(a, dtype, order)\u001b[0m\n\u001b[0;32m     14\u001b[0m \u001b[39m@set_module\u001b[39m(\u001b[39m'\u001b[39m\u001b[39mnumpy\u001b[39m\u001b[39m'\u001b[39m)\n\u001b[0;32m     15\u001b[0m \u001b[39mdef\u001b[39;00m \u001b[39masarray\u001b[39m(a, dtype\u001b[39m=\u001b[39m\u001b[39mNone\u001b[39;00m, order\u001b[39m=\u001b[39m\u001b[39mNone\u001b[39;00m):\n\u001b[0;32m     16\u001b[0m     \u001b[39m\"\"\"Convert the input to an array.\u001b[39;00m\n\u001b[0;32m     17\u001b[0m \n\u001b[0;32m     18\u001b[0m \u001b[39m    Parameters\u001b[39;00m\n\u001b[1;32m   (...)\u001b[0m\n\u001b[0;32m     81\u001b[0m \n\u001b[0;32m     82\u001b[0m \u001b[39m    \"\"\"\u001b[39;00m\n\u001b[1;32m---> 83\u001b[0m     \u001b[39mreturn\u001b[39;00m array(a, dtype, copy\u001b[39m=\u001b[39;49m\u001b[39mFalse\u001b[39;49;00m, order\u001b[39m=\u001b[39;49morder)\n",
      "\u001b[1;31mValueError\u001b[0m: could not convert string to float: 'travel_rarely'"
     ]
    }
   ],
   "source": [
    "eli5.show_prediction(pipeline.named_steps['classifier'],X_test)"
   ]
  },
  {
   "cell_type": "code",
   "execution_count": 93,
   "id": "6700e233-47b0-4e4f-bae7-03aecbd89275",
   "metadata": {},
   "outputs": [
    {
     "name": "stdout",
     "output_type": "stream",
     "text": [
      "Evaluation on testing data \n",
      "\n",
      "Accuracy:  0.34076433121019106\n",
      "Recall:  0.8979591836734694\n",
      "Precision:  0.17886178861788618\n",
      "F1:  0.2983050847457627\n"
     ]
    },
    {
     "data": {
      "image/png": "[encoded data removed]",
      "text/plain": [
       "<Figure size 432x288 with 2 Axes>"
      ]
     },
     "metadata": {
      "needs_background": "light"
     },
     "output_type": "display_data"
    },
    {
     "name": "stdout",
     "output_type": "stream",
     "text": [
      "None\n"
     ]
    }
   ],
   "source": [
    "f_validate_pipeline_on_test(pipeline)"
   ]
  },
  {
   "cell_type": "code",
   "execution_count": 66,
   "id": "70cfb98a-0c01-44a0-a5af-1d248c85cb5a",
   "metadata": {},
   "outputs": [
    {
     "name": "stdout",
     "output_type": "stream",
     "text": [
      "Avg Training Accuracy: 0.44790650050273506\n",
      "Avg Training Recall: 0.896421734407346\n",
      "Avg Training Precision: 0.22275981531971562\n",
      "\n",
      "Avg Validation Accuracy: 0.4473277178464115\n",
      "Avg Validation Recall: 0.8572980033324861\n",
      "Avg Validation Precision: 0.21838595012208387\n",
      "\n"
     ]
    }
   ],
   "source": [
    "pipeline=d_cross_validate_grid(preprocess,GaussianNB(),cv=KFold(),grid_search=False)"
   ]
  },
  {
   "cell_type": "code",
   "execution_count": 170,
   "id": "ea337e26-7c8b-4e13-852d-cd6af4bfb27a",
   "metadata": {},
   "outputs": [
    {
     "name": "stdout",
     "output_type": "stream",
     "text": [
      "Evaluation on testing data \n",
      "\n",
      "Accuracy:  0.6190476190476191\n",
      "Recall:  0.5901639344262295\n",
      "Precision:  0.2011173184357542\n",
      "F1:  0.3\n"
     ]
    },
    {
     "data": {
      "image/png": "[encoded data removed]",
      "text/plain": [
       "<Figure size 432x288 with 2 Axes>"
      ]
     },
     "metadata": {
      "needs_background": "light"
     },
     "output_type": "display_data"
    },
    {
     "name": "stdout",
     "output_type": "stream",
     "text": [
      "None\n"
     ]
    }
   ],
   "source": [
    "f_validate_pipeline_on_test(pipeline)"
   ]
  },
  {
   "cell_type": "code",
   "execution_count": null,
   "id": "e7e171d3-73a2-4715-88a3-6844950c5a3e",
   "metadata": {},
   "outputs": [],
   "source": []
  }
 ],
 "metadata": {
  "kernelspec": {
   "display_name": "Python 3 (ipykernel)",
   "language": "python",
   "name": "python3"
  },
  "language_info": {
   "codemirror_mode": {
    "name": "ipython",
    "version": 3
   },
   "file_extension": ".py",
   "mimetype": "text/x-python",
   "name": "python",
   "nbconvert_exporter": "python",
   "pygments_lexer": "ipython3",
   "version": "3.9.12"
  },
  "vscode": {
   "interpreter": {
    "hash": "a08fe99de7091861da4136a7c4af3e70f25e0bad2269d33020f7bee7e1bdba20"
   }
  }
 },
 "nbformat": 4,
 "nbformat_minor": 5
}
