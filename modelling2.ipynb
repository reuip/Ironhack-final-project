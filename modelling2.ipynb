{
 "cells": [
  {
   "cell_type": "code",
   "execution_count": 37,
   "metadata": {},
   "outputs": [],
   "source": [
    "# Standard Imports\n",
    "import pandas as pd\n",
    "import seaborn as sns\n",
    "import numpy as np\n",
    "import matplotlib.pyplot as plt\n",
    "import pickle\n",
    "import eli5\n",
    "\n",
    "# Transformers\n",
    "from sklearn.preprocessing import LabelEncoder, OneHotEncoder, StandardScaler, MinMaxScaler\n",
    "\n",
    "# Modeling Evaluation\n",
    "from sklearn.model_selection import train_test_split, cross_val_score, KFold, GridSearchCV\n",
    "from sklearn.metrics import accuracy_score, precision_score, recall_score,f1_score, confusion_matrix, classification_report\n",
    "from IPython.display import display, Markdown\n",
    "\n",
    "# Pipelines\n",
    "from sklearn.pipeline import Pipeline, FeatureUnion\n",
    "from sklearn.base import BaseEstimator, TransformerMixin\n",
    "from sklearn.compose import ColumnTransformer\n",
    "from imblearn.pipeline import Pipeline as PipeImb\n",
    "from imblearn.pipeline import make_pipeline\n",
    "\n",
    "# Machine Learning\n",
    "from sklearn.tree import DecisionTreeClassifier\n",
    "from sklearn.ensemble import RandomForestClassifier\n",
    "from sklearn.neighbors import KNeighborsClassifier\n",
    "from sklearn.linear_model import LogisticRegression\n",
    "from xgboost import XGBClassifier\n",
    "from sklearn.svm import SVC\n",
    "from sklearn.naive_bayes import GaussianNB\n",
    "from sklearn.ensemble import StackingClassifier\n",
    "from sklearn.ensemble import BaggingClassifier\n",
    "\n",
    "\n",
    "#Validation methods\n",
    "from sklearn.model_selection import KFold\n",
    "from sklearn.model_selection import RepeatedStratifiedKFold\n",
    "\n",
    "#Sampling methods\n",
    "from imblearn.over_sampling import SMOTE,SMOTENC\n",
    "\n",
    "from urchin_workflow import urchin_supervised_classification as usc\n",
    "from urchin_workflow import urchin_supervised_preprocessing as usp\n"
   ]
  },
  {
   "cell_type": "code",
   "execution_count": 24,
   "metadata": {},
   "outputs": [],
   "source": [
    "df=pd.read_csv(r\"Data\\4b.IBM_data_cleaned_dropped - Copy - Copy.csv\")\n",
    "y_name='attrition'\n"
   ]
  },
  {
   "cell_type": "code",
   "execution_count": 25,
   "metadata": {},
   "outputs": [
    {
     "name": "stdout",
     "output_type": "stream",
     "text": [
      "Remove outliers\n",
      "# rows before removal 1470\n",
      "# rows after outliers removed 1425\n",
      "\n"
     ]
    }
   ],
   "source": [
    "df=usp.a_remove_outliers(df)"
   ]
  },
  {
   "cell_type": "code",
   "execution_count": 26,
   "metadata": {},
   "outputs": [],
   "source": [
    "x_train, y_train, x_train_scaled, x_test_scaled, y_test, x_test=usp.e_prep_xy(df,y_name)"
   ]
  },
  {
   "cell_type": "code",
   "execution_count": 38,
   "metadata": {},
   "outputs": [],
   "source": [
    "xylist=usp.f_xysplit_compile(x_train_scaled,x_test_scaled,y_train,y_test)\n",
    "smote = SMOTE()\n",
    "x_train_scaled, y_train = smote.fit_resample(x_train_scaled, y_train)"
   ]
  },
  {
   "cell_type": "code",
   "execution_count": 40,
   "metadata": {},
   "outputs": [],
   "source": [
    "y_train.value_counts()\n",
    "xylist=usp.f_xysplit_compile(x_train_scaled,x_test_scaled,y_train,y_test)\n"
   ]
  },
  {
   "cell_type": "code",
   "execution_count": 41,
   "metadata": {},
   "outputs": [
    {
     "name": "stdout",
     "output_type": "stream",
     "text": [
      "\n",
      "RFE suggests 45 be dropped\n",
      "Features to drop using RFE: ['cat__businesstravel_travel_frequently', 'cat__businesstravel_travel_rarely', 'cat__department_research & development', 'cat__department_sales', 'cat__educationfield_life sciences', 'cat__educationfield_marketing', 'cat__educationfield_medical', 'cat__educationfield_other', 'cat__educationfield_technical degree', 'cat__gender_male', 'cat__jobrole_human resources', 'cat__jobrole_laboratory technician', 'cat__jobrole_manager', 'cat__jobrole_manufacturing director', 'cat__jobrole_research director', 'cat__jobrole_research scientist', 'cat__jobrole_sales executive', 'cat__jobrole_sales representative', 'cat__maritalstatus_married', 'cat__maritalstatus_single', 'cat__overtime_yes', 'num__age', 'num__distancefromhome', 'num__education', 'num__environmentsatisfaction', 'num__jobinvolvement', 'num__joblevel', 'num__jobsatisfaction', 'num__numcompaniesworked', 'num__percentsalaryhike', 'num__performancerating', 'num__relationshipsatisfaction', 'num__stockoptionlevel', 'num__totalworkingyears', 'num__trainingtimeslastyear', 'num__worklifebalance', 'num__yearsatcompany', 'num__yearsincurrentrole', 'num__yearssincelastpromotion', 'num__yearswithcurrmanager', 'num__salaryquartile', 'num__worklesstwoyears', 'num__newatcompany', 'num__highriskjob', 'num__youngsingleoverworked']\n"
     ]
    },
    {
     "data": {
      "text/html": [
       "<div>\n",
       "<style scoped>\n",
       "    .dataframe tbody tr th:only-of-type {\n",
       "        vertical-align: middle;\n",
       "    }\n",
       "\n",
       "    .dataframe tbody tr th {\n",
       "        vertical-align: top;\n",
       "    }\n",
       "\n",
       "    .dataframe thead th {\n",
       "        text-align: right;\n",
       "    }\n",
       "</style>\n",
       "<table border=\"1\" class=\"dataframe\">\n",
       "  <thead>\n",
       "    <tr style=\"text-align: right;\">\n",
       "      <th></th>\n",
       "      <th>model</th>\n",
       "      <th>train_scores</th>\n",
       "      <th>train_result</th>\n",
       "      <th>test_scores</th>\n",
       "      <th>test_result</th>\n",
       "    </tr>\n",
       "  </thead>\n",
       "  <tbody>\n",
       "    <tr>\n",
       "      <th>0</th>\n",
       "      <td>DecisionTreeClassifier(random_state=1234)</td>\n",
       "      <td>[0.6, 0.64, 0.6, 0.58, 0.63]</td>\n",
       "      <td>accuracy: 0.61, stdev: 0.02</td>\n",
       "      <td>[0.65, 0.76, 0.74, 0.68, 0.75]</td>\n",
       "      <td>accuracy: 0.72, stdev: 0.04</td>\n",
       "    </tr>\n",
       "  </tbody>\n",
       "</table>\n",
       "</div>"
      ],
      "text/plain": [
       "                                       model                  train_scores  \\\n",
       "0  DecisionTreeClassifier(random_state=1234)  [0.6, 0.64, 0.6, 0.58, 0.63]   \n",
       "\n",
       "                  train_result                     test_scores  \\\n",
       "0  accuracy: 0.61, stdev: 0.02  [0.65, 0.76, 0.74, 0.68, 0.75]   \n",
       "\n",
       "                   test_result  \n",
       "0  accuracy: 0.72, stdev: 0.04  "
      ]
     },
     "metadata": {},
     "output_type": "display_data"
    },
    {
     "name": "stdout",
     "output_type": "stream",
     "text": [
      "\n",
      "\n",
      "\n",
      "RFE suggests 44 be dropped\n",
      "Features to drop using RFE: ['cat__businesstravel_travel_frequently', 'cat__businesstravel_travel_rarely', 'cat__department_research & development', 'cat__department_sales', 'cat__educationfield_life sciences', 'cat__educationfield_marketing', 'cat__educationfield_medical', 'cat__educationfield_other', 'cat__educationfield_technical degree', 'cat__gender_male', 'cat__jobrole_human resources', 'cat__jobrole_laboratory technician', 'cat__jobrole_manager', 'cat__jobrole_manufacturing director', 'cat__jobrole_research director', 'cat__jobrole_research scientist', 'cat__jobrole_sales executive', 'cat__jobrole_sales representative', 'cat__maritalstatus_married', 'cat__maritalstatus_single', 'cat__overtime_yes', 'num__age', 'num__distancefromhome', 'num__education', 'num__environmentsatisfaction', 'num__jobinvolvement', 'num__joblevel', 'num__jobsatisfaction', 'num__numcompaniesworked', 'num__percentsalaryhike', 'num__performancerating', 'num__relationshipsatisfaction', 'num__stockoptionlevel', 'num__trainingtimeslastyear', 'num__worklifebalance', 'num__yearsatcompany', 'num__yearsincurrentrole', 'num__yearssincelastpromotion', 'num__yearswithcurrmanager', 'num__salaryquartile', 'num__worklesstwoyears', 'num__newatcompany', 'num__highriskjob', 'num__youngsingleoverworked']\n"
     ]
    },
    {
     "data": {
      "text/html": [
       "<div>\n",
       "<style scoped>\n",
       "    .dataframe tbody tr th:only-of-type {\n",
       "        vertical-align: middle;\n",
       "    }\n",
       "\n",
       "    .dataframe tbody tr th {\n",
       "        vertical-align: top;\n",
       "    }\n",
       "\n",
       "    .dataframe thead th {\n",
       "        text-align: right;\n",
       "    }\n",
       "</style>\n",
       "<table border=\"1\" class=\"dataframe\">\n",
       "  <thead>\n",
       "    <tr style=\"text-align: right;\">\n",
       "      <th></th>\n",
       "      <th>model</th>\n",
       "      <th>train_scores</th>\n",
       "      <th>train_result</th>\n",
       "      <th>test_scores</th>\n",
       "      <th>test_result</th>\n",
       "    </tr>\n",
       "  </thead>\n",
       "  <tbody>\n",
       "    <tr>\n",
       "      <th>0</th>\n",
       "      <td>DecisionTreeClassifier(random_state=1234)</td>\n",
       "      <td>[0.63, 0.77, 0.77, 0.73, 0.78]</td>\n",
       "      <td>accuracy: 0.74, stdev: 0.06</td>\n",
       "      <td>[0.69, 0.73, 0.73, 0.74, 0.81]</td>\n",
       "      <td>accuracy: 0.74, stdev: 0.04</td>\n",
       "    </tr>\n",
       "  </tbody>\n",
       "</table>\n",
       "</div>"
      ],
      "text/plain": [
       "                                       model                    train_scores  \\\n",
       "0  DecisionTreeClassifier(random_state=1234)  [0.63, 0.77, 0.77, 0.73, 0.78]   \n",
       "\n",
       "                  train_result                     test_scores  \\\n",
       "0  accuracy: 0.74, stdev: 0.06  [0.69, 0.73, 0.73, 0.74, 0.81]   \n",
       "\n",
       "                   test_result  \n",
       "0  accuracy: 0.74, stdev: 0.04  "
      ]
     },
     "metadata": {},
     "output_type": "display_data"
    },
    {
     "name": "stdout",
     "output_type": "stream",
     "text": [
      "\n",
      "\n",
      "\n",
      "RFE suggests 43 be dropped\n",
      "Features to drop using RFE: ['cat__businesstravel_travel_frequently', 'cat__businesstravel_travel_rarely', 'cat__department_research & development', 'cat__department_sales', 'cat__educationfield_life sciences', 'cat__educationfield_marketing', 'cat__educationfield_medical', 'cat__educationfield_other', 'cat__educationfield_technical degree', 'cat__gender_male', 'cat__jobrole_human resources', 'cat__jobrole_laboratory technician', 'cat__jobrole_manager', 'cat__jobrole_manufacturing director', 'cat__jobrole_research director', 'cat__jobrole_research scientist', 'cat__jobrole_sales executive', 'cat__jobrole_sales representative', 'cat__maritalstatus_married', 'cat__maritalstatus_single', 'num__age', 'num__distancefromhome', 'num__education', 'num__environmentsatisfaction', 'num__jobinvolvement', 'num__joblevel', 'num__jobsatisfaction', 'num__numcompaniesworked', 'num__percentsalaryhike', 'num__performancerating', 'num__relationshipsatisfaction', 'num__stockoptionlevel', 'num__trainingtimeslastyear', 'num__worklifebalance', 'num__yearsatcompany', 'num__yearsincurrentrole', 'num__yearssincelastpromotion', 'num__yearswithcurrmanager', 'num__salaryquartile', 'num__worklesstwoyears', 'num__newatcompany', 'num__highriskjob', 'num__youngsingleoverworked']\n"
     ]
    },
    {
     "data": {
      "text/html": [
       "<div>\n",
       "<style scoped>\n",
       "    .dataframe tbody tr th:only-of-type {\n",
       "        vertical-align: middle;\n",
       "    }\n",
       "\n",
       "    .dataframe tbody tr th {\n",
       "        vertical-align: top;\n",
       "    }\n",
       "\n",
       "    .dataframe thead th {\n",
       "        text-align: right;\n",
       "    }\n",
       "</style>\n",
       "<table border=\"1\" class=\"dataframe\">\n",
       "  <thead>\n",
       "    <tr style=\"text-align: right;\">\n",
       "      <th></th>\n",
       "      <th>model</th>\n",
       "      <th>train_scores</th>\n",
       "      <th>train_result</th>\n",
       "      <th>test_scores</th>\n",
       "      <th>test_result</th>\n",
       "    </tr>\n",
       "  </thead>\n",
       "  <tbody>\n",
       "    <tr>\n",
       "      <th>0</th>\n",
       "      <td>DecisionTreeClassifier(random_state=1234)</td>\n",
       "      <td>[0.66, 0.83, 0.79, 0.79, 0.79]</td>\n",
       "      <td>accuracy: 0.77, stdev: 0.06</td>\n",
       "      <td>[0.74, 0.74, 0.8, 0.74, 0.8]</td>\n",
       "      <td>accuracy: 0.77, stdev: 0.03</td>\n",
       "    </tr>\n",
       "  </tbody>\n",
       "</table>\n",
       "</div>"
      ],
      "text/plain": [
       "                                       model                    train_scores  \\\n",
       "0  DecisionTreeClassifier(random_state=1234)  [0.66, 0.83, 0.79, 0.79, 0.79]   \n",
       "\n",
       "                  train_result                   test_scores  \\\n",
       "0  accuracy: 0.77, stdev: 0.06  [0.74, 0.74, 0.8, 0.74, 0.8]   \n",
       "\n",
       "                   test_result  \n",
       "0  accuracy: 0.77, stdev: 0.03  "
      ]
     },
     "metadata": {},
     "output_type": "display_data"
    },
    {
     "name": "stdout",
     "output_type": "stream",
     "text": [
      "\n",
      "\n",
      "\n",
      "RFE suggests 42 be dropped\n",
      "Features to drop using RFE: ['cat__businesstravel_travel_frequently', 'cat__businesstravel_travel_rarely', 'cat__department_research & development', 'cat__department_sales', 'cat__educationfield_life sciences', 'cat__educationfield_marketing', 'cat__educationfield_medical', 'cat__educationfield_other', 'cat__educationfield_technical degree', 'cat__gender_male', 'cat__jobrole_human resources', 'cat__jobrole_laboratory technician', 'cat__jobrole_manager', 'cat__jobrole_manufacturing director', 'cat__jobrole_research director', 'cat__jobrole_research scientist', 'cat__jobrole_sales executive', 'cat__jobrole_sales representative', 'cat__maritalstatus_married', 'cat__maritalstatus_single', 'num__age', 'num__distancefromhome', 'num__education', 'num__jobinvolvement', 'num__joblevel', 'num__jobsatisfaction', 'num__numcompaniesworked', 'num__percentsalaryhike', 'num__performancerating', 'num__relationshipsatisfaction', 'num__stockoptionlevel', 'num__trainingtimeslastyear', 'num__worklifebalance', 'num__yearsatcompany', 'num__yearsincurrentrole', 'num__yearssincelastpromotion', 'num__yearswithcurrmanager', 'num__salaryquartile', 'num__worklesstwoyears', 'num__newatcompany', 'num__highriskjob', 'num__youngsingleoverworked']\n"
     ]
    },
    {
     "data": {
      "text/html": [
       "<div>\n",
       "<style scoped>\n",
       "    .dataframe tbody tr th:only-of-type {\n",
       "        vertical-align: middle;\n",
       "    }\n",
       "\n",
       "    .dataframe tbody tr th {\n",
       "        vertical-align: top;\n",
       "    }\n",
       "\n",
       "    .dataframe thead th {\n",
       "        text-align: right;\n",
       "    }\n",
       "</style>\n",
       "<table border=\"1\" class=\"dataframe\">\n",
       "  <thead>\n",
       "    <tr style=\"text-align: right;\">\n",
       "      <th></th>\n",
       "      <th>model</th>\n",
       "      <th>train_scores</th>\n",
       "      <th>train_result</th>\n",
       "      <th>test_scores</th>\n",
       "      <th>test_result</th>\n",
       "    </tr>\n",
       "  </thead>\n",
       "  <tbody>\n",
       "    <tr>\n",
       "      <th>0</th>\n",
       "      <td>DecisionTreeClassifier(random_state=1234)</td>\n",
       "      <td>[0.7, 0.89, 0.89, 0.88, 0.85]</td>\n",
       "      <td>accuracy: 0.84, stdev: 0.07</td>\n",
       "      <td>[0.78, 0.7, 0.73, 0.71, 0.73]</td>\n",
       "      <td>accuracy: 0.73, stdev: 0.03</td>\n",
       "    </tr>\n",
       "  </tbody>\n",
       "</table>\n",
       "</div>"
      ],
      "text/plain": [
       "                                       model                   train_scores  \\\n",
       "0  DecisionTreeClassifier(random_state=1234)  [0.7, 0.89, 0.89, 0.88, 0.85]   \n",
       "\n",
       "                  train_result                    test_scores  \\\n",
       "0  accuracy: 0.84, stdev: 0.07  [0.78, 0.7, 0.73, 0.71, 0.73]   \n",
       "\n",
       "                   test_result  \n",
       "0  accuracy: 0.73, stdev: 0.03  "
      ]
     },
     "metadata": {},
     "output_type": "display_data"
    },
    {
     "name": "stdout",
     "output_type": "stream",
     "text": [
      "\n",
      "\n",
      "\n",
      "RFE suggests 41 be dropped\n",
      "Features to drop using RFE: ['cat__businesstravel_travel_frequently', 'cat__businesstravel_travel_rarely', 'cat__department_sales', 'cat__educationfield_life sciences', 'cat__educationfield_marketing', 'cat__educationfield_medical', 'cat__educationfield_other', 'cat__educationfield_technical degree', 'cat__gender_male', 'cat__jobrole_human resources', 'cat__jobrole_laboratory technician', 'cat__jobrole_manager', 'cat__jobrole_manufacturing director', 'cat__jobrole_research director', 'cat__jobrole_research scientist', 'cat__jobrole_sales executive', 'cat__jobrole_sales representative', 'cat__maritalstatus_married', 'cat__maritalstatus_single', 'num__age', 'num__distancefromhome', 'num__education', 'num__jobinvolvement', 'num__joblevel', 'num__jobsatisfaction', 'num__numcompaniesworked', 'num__percentsalaryhike', 'num__performancerating', 'num__relationshipsatisfaction', 'num__stockoptionlevel', 'num__trainingtimeslastyear', 'num__worklifebalance', 'num__yearsatcompany', 'num__yearsincurrentrole', 'num__yearssincelastpromotion', 'num__yearswithcurrmanager', 'num__salaryquartile', 'num__worklesstwoyears', 'num__newatcompany', 'num__highriskjob', 'num__youngsingleoverworked']\n"
     ]
    },
    {
     "data": {
      "text/html": [
       "<div>\n",
       "<style scoped>\n",
       "    .dataframe tbody tr th:only-of-type {\n",
       "        vertical-align: middle;\n",
       "    }\n",
       "\n",
       "    .dataframe tbody tr th {\n",
       "        vertical-align: top;\n",
       "    }\n",
       "\n",
       "    .dataframe thead th {\n",
       "        text-align: right;\n",
       "    }\n",
       "</style>\n",
       "<table border=\"1\" class=\"dataframe\">\n",
       "  <thead>\n",
       "    <tr style=\"text-align: right;\">\n",
       "      <th></th>\n",
       "      <th>model</th>\n",
       "      <th>train_scores</th>\n",
       "      <th>train_result</th>\n",
       "      <th>test_scores</th>\n",
       "      <th>test_result</th>\n",
       "    </tr>\n",
       "  </thead>\n",
       "  <tbody>\n",
       "    <tr>\n",
       "      <th>0</th>\n",
       "      <td>DecisionTreeClassifier(random_state=1234)</td>\n",
       "      <td>[0.72, 0.89, 0.87, 0.89, 0.85]</td>\n",
       "      <td>accuracy: 0.84, stdev: 0.06</td>\n",
       "      <td>[0.74, 0.71, 0.76, 0.74, 0.69]</td>\n",
       "      <td>accuracy: 0.73, stdev: 0.02</td>\n",
       "    </tr>\n",
       "  </tbody>\n",
       "</table>\n",
       "</div>"
      ],
      "text/plain": [
       "                                       model                    train_scores  \\\n",
       "0  DecisionTreeClassifier(random_state=1234)  [0.72, 0.89, 0.87, 0.89, 0.85]   \n",
       "\n",
       "                  train_result                     test_scores  \\\n",
       "0  accuracy: 0.84, stdev: 0.06  [0.74, 0.71, 0.76, 0.74, 0.69]   \n",
       "\n",
       "                   test_result  \n",
       "0  accuracy: 0.73, stdev: 0.02  "
      ]
     },
     "metadata": {},
     "output_type": "display_data"
    },
    {
     "name": "stdout",
     "output_type": "stream",
     "text": [
      "\n",
      "\n",
      "\n",
      "RFE suggests 40 be dropped\n",
      "Features to drop using RFE: ['cat__businesstravel_travel_frequently', 'cat__businesstravel_travel_rarely', 'cat__department_sales', 'cat__educationfield_life sciences', 'cat__educationfield_marketing', 'cat__educationfield_medical', 'cat__educationfield_other', 'cat__educationfield_technical degree', 'cat__gender_male', 'cat__jobrole_human resources', 'cat__jobrole_laboratory technician', 'cat__jobrole_manager', 'cat__jobrole_manufacturing director', 'cat__jobrole_research director', 'cat__jobrole_research scientist', 'cat__jobrole_sales executive', 'cat__jobrole_sales representative', 'cat__maritalstatus_married', 'num__age', 'num__distancefromhome', 'num__education', 'num__jobinvolvement', 'num__joblevel', 'num__jobsatisfaction', 'num__numcompaniesworked', 'num__percentsalaryhike', 'num__performancerating', 'num__relationshipsatisfaction', 'num__stockoptionlevel', 'num__trainingtimeslastyear', 'num__worklifebalance', 'num__yearsatcompany', 'num__yearsincurrentrole', 'num__yearssincelastpromotion', 'num__yearswithcurrmanager', 'num__salaryquartile', 'num__worklesstwoyears', 'num__newatcompany', 'num__highriskjob', 'num__youngsingleoverworked']\n"
     ]
    },
    {
     "data": {
      "text/html": [
       "<div>\n",
       "<style scoped>\n",
       "    .dataframe tbody tr th:only-of-type {\n",
       "        vertical-align: middle;\n",
       "    }\n",
       "\n",
       "    .dataframe tbody tr th {\n",
       "        vertical-align: top;\n",
       "    }\n",
       "\n",
       "    .dataframe thead th {\n",
       "        text-align: right;\n",
       "    }\n",
       "</style>\n",
       "<table border=\"1\" class=\"dataframe\">\n",
       "  <thead>\n",
       "    <tr style=\"text-align: right;\">\n",
       "      <th></th>\n",
       "      <th>model</th>\n",
       "      <th>train_scores</th>\n",
       "      <th>train_result</th>\n",
       "      <th>test_scores</th>\n",
       "      <th>test_result</th>\n",
       "    </tr>\n",
       "  </thead>\n",
       "  <tbody>\n",
       "    <tr>\n",
       "      <th>0</th>\n",
       "      <td>DecisionTreeClassifier(random_state=1234)</td>\n",
       "      <td>[0.73, 0.91, 0.9, 0.89, 0.89]</td>\n",
       "      <td>accuracy: 0.87, stdev: 0.07</td>\n",
       "      <td>[0.79, 0.7, 0.73, 0.75, 0.72]</td>\n",
       "      <td>accuracy: 0.74, stdev: 0.03</td>\n",
       "    </tr>\n",
       "  </tbody>\n",
       "</table>\n",
       "</div>"
      ],
      "text/plain": [
       "                                       model                   train_scores  \\\n",
       "0  DecisionTreeClassifier(random_state=1234)  [0.73, 0.91, 0.9, 0.89, 0.89]   \n",
       "\n",
       "                  train_result                    test_scores  \\\n",
       "0  accuracy: 0.87, stdev: 0.07  [0.79, 0.7, 0.73, 0.75, 0.72]   \n",
       "\n",
       "                   test_result  \n",
       "0  accuracy: 0.74, stdev: 0.03  "
      ]
     },
     "metadata": {},
     "output_type": "display_data"
    },
    {
     "name": "stdout",
     "output_type": "stream",
     "text": [
      "\n",
      "\n",
      "\n",
      "RFE suggests 39 be dropped\n",
      "Features to drop using RFE: ['cat__businesstravel_travel_frequently', 'cat__businesstravel_travel_rarely', 'cat__department_sales', 'cat__educationfield_life sciences', 'cat__educationfield_marketing', 'cat__educationfield_medical', 'cat__educationfield_other', 'cat__educationfield_technical degree', 'cat__gender_male', 'cat__jobrole_human resources', 'cat__jobrole_laboratory technician', 'cat__jobrole_manager', 'cat__jobrole_manufacturing director', 'cat__jobrole_research director', 'cat__jobrole_research scientist', 'cat__jobrole_sales executive', 'cat__jobrole_sales representative', 'cat__maritalstatus_married', 'num__age', 'num__education', 'num__jobinvolvement', 'num__joblevel', 'num__jobsatisfaction', 'num__numcompaniesworked', 'num__percentsalaryhike', 'num__performancerating', 'num__relationshipsatisfaction', 'num__stockoptionlevel', 'num__trainingtimeslastyear', 'num__worklifebalance', 'num__yearsatcompany', 'num__yearsincurrentrole', 'num__yearssincelastpromotion', 'num__yearswithcurrmanager', 'num__salaryquartile', 'num__worklesstwoyears', 'num__newatcompany', 'num__highriskjob', 'num__youngsingleoverworked']\n"
     ]
    },
    {
     "data": {
      "text/html": [
       "<div>\n",
       "<style scoped>\n",
       "    .dataframe tbody tr th:only-of-type {\n",
       "        vertical-align: middle;\n",
       "    }\n",
       "\n",
       "    .dataframe tbody tr th {\n",
       "        vertical-align: top;\n",
       "    }\n",
       "\n",
       "    .dataframe thead th {\n",
       "        text-align: right;\n",
       "    }\n",
       "</style>\n",
       "<table border=\"1\" class=\"dataframe\">\n",
       "  <thead>\n",
       "    <tr style=\"text-align: right;\">\n",
       "      <th></th>\n",
       "      <th>model</th>\n",
       "      <th>train_scores</th>\n",
       "      <th>train_result</th>\n",
       "      <th>test_scores</th>\n",
       "      <th>test_result</th>\n",
       "    </tr>\n",
       "  </thead>\n",
       "  <tbody>\n",
       "    <tr>\n",
       "      <th>0</th>\n",
       "      <td>DecisionTreeClassifier(random_state=1234)</td>\n",
       "      <td>[0.72, 0.9, 0.9, 0.91, 0.88]</td>\n",
       "      <td>accuracy: 0.86, stdev: 0.07</td>\n",
       "      <td>[0.74, 0.69, 0.73, 0.75, 0.75]</td>\n",
       "      <td>accuracy: 0.73, stdev: 0.02</td>\n",
       "    </tr>\n",
       "  </tbody>\n",
       "</table>\n",
       "</div>"
      ],
      "text/plain": [
       "                                       model                  train_scores  \\\n",
       "0  DecisionTreeClassifier(random_state=1234)  [0.72, 0.9, 0.9, 0.91, 0.88]   \n",
       "\n",
       "                  train_result                     test_scores  \\\n",
       "0  accuracy: 0.86, stdev: 0.07  [0.74, 0.69, 0.73, 0.75, 0.75]   \n",
       "\n",
       "                   test_result  \n",
       "0  accuracy: 0.73, stdev: 0.02  "
      ]
     },
     "metadata": {},
     "output_type": "display_data"
    },
    {
     "name": "stdout",
     "output_type": "stream",
     "text": [
      "\n",
      "\n",
      "\n",
      "RFE suggests 38 be dropped\n",
      "Features to drop using RFE: ['cat__businesstravel_travel_frequently', 'cat__businesstravel_travel_rarely', 'cat__department_sales', 'cat__educationfield_life sciences', 'cat__educationfield_marketing', 'cat__educationfield_medical', 'cat__educationfield_other', 'cat__educationfield_technical degree', 'cat__gender_male', 'cat__jobrole_human resources', 'cat__jobrole_laboratory technician', 'cat__jobrole_manager', 'cat__jobrole_manufacturing director', 'cat__jobrole_research director', 'cat__jobrole_research scientist', 'cat__jobrole_sales executive', 'cat__jobrole_sales representative', 'cat__maritalstatus_married', 'num__age', 'num__education', 'num__jobinvolvement', 'num__jobsatisfaction', 'num__numcompaniesworked', 'num__percentsalaryhike', 'num__performancerating', 'num__relationshipsatisfaction', 'num__stockoptionlevel', 'num__trainingtimeslastyear', 'num__worklifebalance', 'num__yearsatcompany', 'num__yearsincurrentrole', 'num__yearssincelastpromotion', 'num__yearswithcurrmanager', 'num__salaryquartile', 'num__worklesstwoyears', 'num__newatcompany', 'num__highriskjob', 'num__youngsingleoverworked']\n"
     ]
    },
    {
     "data": {
      "text/html": [
       "<div>\n",
       "<style scoped>\n",
       "    .dataframe tbody tr th:only-of-type {\n",
       "        vertical-align: middle;\n",
       "    }\n",
       "\n",
       "    .dataframe tbody tr th {\n",
       "        vertical-align: top;\n",
       "    }\n",
       "\n",
       "    .dataframe thead th {\n",
       "        text-align: right;\n",
       "    }\n",
       "</style>\n",
       "<table border=\"1\" class=\"dataframe\">\n",
       "  <thead>\n",
       "    <tr style=\"text-align: right;\">\n",
       "      <th></th>\n",
       "      <th>model</th>\n",
       "      <th>train_scores</th>\n",
       "      <th>train_result</th>\n",
       "      <th>test_scores</th>\n",
       "      <th>test_result</th>\n",
       "    </tr>\n",
       "  </thead>\n",
       "  <tbody>\n",
       "    <tr>\n",
       "      <th>0</th>\n",
       "      <td>DecisionTreeClassifier(random_state=1234)</td>\n",
       "      <td>[0.71, 0.9, 0.91, 0.89, 0.89]</td>\n",
       "      <td>accuracy: 0.86, stdev: 0.07</td>\n",
       "      <td>[0.73, 0.67, 0.77, 0.79, 0.72]</td>\n",
       "      <td>accuracy: 0.74, stdev: 0.04</td>\n",
       "    </tr>\n",
       "  </tbody>\n",
       "</table>\n",
       "</div>"
      ],
      "text/plain": [
       "                                       model                   train_scores  \\\n",
       "0  DecisionTreeClassifier(random_state=1234)  [0.71, 0.9, 0.91, 0.89, 0.89]   \n",
       "\n",
       "                  train_result                     test_scores  \\\n",
       "0  accuracy: 0.86, stdev: 0.07  [0.73, 0.67, 0.77, 0.79, 0.72]   \n",
       "\n",
       "                   test_result  \n",
       "0  accuracy: 0.74, stdev: 0.04  "
      ]
     },
     "metadata": {},
     "output_type": "display_data"
    },
    {
     "name": "stdout",
     "output_type": "stream",
     "text": [
      "\n",
      "\n",
      "\n",
      "RFE suggests 37 be dropped\n",
      "Features to drop using RFE: ['cat__businesstravel_travel_frequently', 'cat__businesstravel_travel_rarely', 'cat__department_sales', 'cat__educationfield_life sciences', 'cat__educationfield_marketing', 'cat__educationfield_medical', 'cat__educationfield_other', 'cat__educationfield_technical degree', 'cat__gender_male', 'cat__jobrole_human resources', 'cat__jobrole_laboratory technician', 'cat__jobrole_manager', 'cat__jobrole_manufacturing director', 'cat__jobrole_research director', 'cat__jobrole_research scientist', 'cat__jobrole_sales executive', 'cat__jobrole_sales representative', 'cat__maritalstatus_married', 'num__age', 'num__education', 'num__jobinvolvement', 'num__numcompaniesworked', 'num__percentsalaryhike', 'num__performancerating', 'num__relationshipsatisfaction', 'num__stockoptionlevel', 'num__trainingtimeslastyear', 'num__worklifebalance', 'num__yearsatcompany', 'num__yearsincurrentrole', 'num__yearssincelastpromotion', 'num__yearswithcurrmanager', 'num__salaryquartile', 'num__worklesstwoyears', 'num__newatcompany', 'num__highriskjob', 'num__youngsingleoverworked']\n"
     ]
    },
    {
     "data": {
      "text/html": [
       "<div>\n",
       "<style scoped>\n",
       "    .dataframe tbody tr th:only-of-type {\n",
       "        vertical-align: middle;\n",
       "    }\n",
       "\n",
       "    .dataframe tbody tr th {\n",
       "        vertical-align: top;\n",
       "    }\n",
       "\n",
       "    .dataframe thead th {\n",
       "        text-align: right;\n",
       "    }\n",
       "</style>\n",
       "<table border=\"1\" class=\"dataframe\">\n",
       "  <thead>\n",
       "    <tr style=\"text-align: right;\">\n",
       "      <th></th>\n",
       "      <th>model</th>\n",
       "      <th>train_scores</th>\n",
       "      <th>train_result</th>\n",
       "      <th>test_scores</th>\n",
       "      <th>test_result</th>\n",
       "    </tr>\n",
       "  </thead>\n",
       "  <tbody>\n",
       "    <tr>\n",
       "      <th>0</th>\n",
       "      <td>DecisionTreeClassifier(random_state=1234)</td>\n",
       "      <td>[0.74, 0.89, 0.9, 0.9, 0.89]</td>\n",
       "      <td>accuracy: 0.86, stdev: 0.06</td>\n",
       "      <td>[0.71, 0.74, 0.78, 0.74, 0.73]</td>\n",
       "      <td>accuracy: 0.74, stdev: 0.02</td>\n",
       "    </tr>\n",
       "  </tbody>\n",
       "</table>\n",
       "</div>"
      ],
      "text/plain": [
       "                                       model                  train_scores  \\\n",
       "0  DecisionTreeClassifier(random_state=1234)  [0.74, 0.89, 0.9, 0.9, 0.89]   \n",
       "\n",
       "                  train_result                     test_scores  \\\n",
       "0  accuracy: 0.86, stdev: 0.06  [0.71, 0.74, 0.78, 0.74, 0.73]   \n",
       "\n",
       "                   test_result  \n",
       "0  accuracy: 0.74, stdev: 0.02  "
      ]
     },
     "metadata": {},
     "output_type": "display_data"
    },
    {
     "name": "stdout",
     "output_type": "stream",
     "text": [
      "\n",
      "\n"
     ]
    }
   ],
   "source": [
    "temp=usc.ba_RFE_best_n(xylist)"
   ]
  },
  {
   "cell_type": "code",
   "execution_count": 42,
   "metadata": {},
   "outputs": [
    {
     "data": {
      "text/html": [
       "<div>\n",
       "<style scoped>\n",
       "    .dataframe tbody tr th:only-of-type {\n",
       "        vertical-align: middle;\n",
       "    }\n",
       "\n",
       "    .dataframe tbody tr th {\n",
       "        vertical-align: top;\n",
       "    }\n",
       "\n",
       "    .dataframe thead th {\n",
       "        text-align: right;\n",
       "    }\n",
       "</style>\n",
       "<table border=\"1\" class=\"dataframe\">\n",
       "  <thead>\n",
       "    <tr style=\"text-align: right;\">\n",
       "      <th></th>\n",
       "      <th>num_n</th>\n",
       "      <th>accuracy</th>\n",
       "    </tr>\n",
       "  </thead>\n",
       "  <tbody>\n",
       "    <tr>\n",
       "      <th>6</th>\n",
       "      <td>6.0</td>\n",
       "      <td>0.80</td>\n",
       "    </tr>\n",
       "    <tr>\n",
       "      <th>7</th>\n",
       "      <td>7.0</td>\n",
       "      <td>0.80</td>\n",
       "    </tr>\n",
       "    <tr>\n",
       "      <th>8</th>\n",
       "      <td>8.0</td>\n",
       "      <td>0.80</td>\n",
       "    </tr>\n",
       "    <tr>\n",
       "      <th>9</th>\n",
       "      <td>9.0</td>\n",
       "      <td>0.80</td>\n",
       "    </tr>\n",
       "    <tr>\n",
       "      <th>4</th>\n",
       "      <td>4.0</td>\n",
       "      <td>0.79</td>\n",
       "    </tr>\n",
       "    <tr>\n",
       "      <th>5</th>\n",
       "      <td>5.0</td>\n",
       "      <td>0.79</td>\n",
       "    </tr>\n",
       "    <tr>\n",
       "      <th>3</th>\n",
       "      <td>3.0</td>\n",
       "      <td>0.77</td>\n",
       "    </tr>\n",
       "    <tr>\n",
       "      <th>2</th>\n",
       "      <td>2.0</td>\n",
       "      <td>0.74</td>\n",
       "    </tr>\n",
       "    <tr>\n",
       "      <th>1</th>\n",
       "      <td>1.0</td>\n",
       "      <td>0.66</td>\n",
       "    </tr>\n",
       "  </tbody>\n",
       "</table>\n",
       "</div>"
      ],
      "text/plain": [
       "   num_n  accuracy\n",
       "6    6.0      0.80\n",
       "7    7.0      0.80\n",
       "8    8.0      0.80\n",
       "9    9.0      0.80\n",
       "4    4.0      0.79\n",
       "5    5.0      0.79\n",
       "3    3.0      0.77\n",
       "2    2.0      0.74\n",
       "1    1.0      0.66"
      ]
     },
     "execution_count": 42,
     "metadata": {},
     "output_type": "execute_result"
    }
   ],
   "source": [
    "temp"
   ]
  },
  {
   "cell_type": "code",
   "execution_count": 44,
   "metadata": {},
   "outputs": [
    {
     "name": "stdout",
     "output_type": "stream",
     "text": [
      "\n",
      "RFE suggests 37 be dropped\n",
      "Features to drop using RFE: ['cat__businesstravel_travel_frequently', 'cat__businesstravel_travel_rarely', 'cat__department_sales', 'cat__educationfield_life sciences', 'cat__educationfield_marketing', 'cat__educationfield_medical', 'cat__educationfield_other', 'cat__educationfield_technical degree', 'cat__gender_male', 'cat__jobrole_human resources', 'cat__jobrole_laboratory technician', 'cat__jobrole_manager', 'cat__jobrole_manufacturing director', 'cat__jobrole_research director', 'cat__jobrole_research scientist', 'cat__jobrole_sales executive', 'cat__jobrole_sales representative', 'cat__maritalstatus_married', 'num__age', 'num__education', 'num__jobinvolvement', 'num__numcompaniesworked', 'num__percentsalaryhike', 'num__performancerating', 'num__relationshipsatisfaction', 'num__stockoptionlevel', 'num__trainingtimeslastyear', 'num__worklifebalance', 'num__yearsatcompany', 'num__yearsincurrentrole', 'num__yearssincelastpromotion', 'num__yearswithcurrmanager', 'num__salaryquartile', 'num__worklesstwoyears', 'num__newatcompany', 'num__highriskjob', 'num__youngsingleoverworked']\n"
     ]
    }
   ],
   "source": [
    "mod,keep,remove=usc.bb_feature_selection_RFE(xylist,9)"
   ]
  },
  {
   "cell_type": "code",
   "execution_count": 47,
   "metadata": {},
   "outputs": [],
   "source": [
    "x_test_scaled=x_test_scaled[keep]\n",
    "x_train_scaled=x_train_scaled[keep]"
   ]
  },
  {
   "cell_type": "code",
   "execution_count": 48,
   "metadata": {},
   "outputs": [
    {
     "name": "stdout",
     "output_type": "stream",
     "text": [
      "Minimum error:- 0.2336448598130841 at K = 1\n"
     ]
    },
    {
     "data": {
      "image/png": "[encoded data removed]",
      "text/plain": [
       "<Figure size 720x432 with 1 Axes>"
      ]
     },
     "metadata": {
      "needs_background": "light"
     },
     "output_type": "display_data"
    }
   ],
   "source": [
    "usc.ca_check_knn_error_rate(xylist)b"
   ]
  },
  {
   "cell_type": "code",
   "execution_count": 49,
   "metadata": {},
   "outputs": [
    {
     "name": "stdout",
     "output_type": "stream",
     "text": [
      "Maximum accuracy:- 0.6818181818181818 at K = 26\n"
     ]
    },
    {
     "data": {
      "image/png": "[encoded data removed]",
      "text/plain": [
       "<Figure size 720x432 with 1 Axes>"
      ]
     },
     "metadata": {
      "needs_background": "light"
     },
     "output_type": "display_data"
    }
   ],
   "source": [
    "usc.cb_check_knn_performance_rate(xylist)"
   ]
  },
  {
   "cell_type": "code",
   "execution_count": 58,
   "metadata": {},
   "outputs": [],
   "source": [
    "knn_mod,knn_err=usc.cc_conduct_knn(xylist,27)"
   ]
  },
  {
   "cell_type": "code",
   "execution_count": 59,
   "metadata": {},
   "outputs": [
    {
     "data": {
      "text/html": [
       "<div>\n",
       "<style scoped>\n",
       "    .dataframe tbody tr th:only-of-type {\n",
       "        vertical-align: middle;\n",
       "    }\n",
       "\n",
       "    .dataframe tbody tr th {\n",
       "        vertical-align: top;\n",
       "    }\n",
       "\n",
       "    .dataframe thead th {\n",
       "        text-align: right;\n",
       "    }\n",
       "</style>\n",
       "<table border=\"1\" class=\"dataframe\">\n",
       "  <thead>\n",
       "    <tr style=\"text-align: right;\">\n",
       "      <th></th>\n",
       "      <th>Error_metric</th>\n",
       "      <th>Train</th>\n",
       "      <th>Test</th>\n",
       "    </tr>\n",
       "  </thead>\n",
       "  <tbody>\n",
       "    <tr>\n",
       "      <th>0</th>\n",
       "      <td>Accuracy</td>\n",
       "      <td>0.79</td>\n",
       "      <td>0.61</td>\n",
       "    </tr>\n",
       "    <tr>\n",
       "      <th>1</th>\n",
       "      <td>Precision</td>\n",
       "      <td>0.72</td>\n",
       "      <td>0.23</td>\n",
       "    </tr>\n",
       "    <tr>\n",
       "      <th>2</th>\n",
       "      <td>Recall</td>\n",
       "      <td>0.95</td>\n",
       "      <td>0.68</td>\n",
       "    </tr>\n",
       "  </tbody>\n",
       "</table>\n",
       "</div>"
      ],
      "text/plain": [
       "  Error_metric  Train  Test\n",
       "0     Accuracy   0.79  0.61\n",
       "1    Precision   0.72  0.23\n",
       "2       Recall   0.95  0.68"
      ]
     },
     "execution_count": 59,
     "metadata": {},
     "output_type": "execute_result"
    }
   ],
   "source": [
    "knn_err"
   ]
  },
  {
   "cell_type": "code",
   "execution_count": 60,
   "metadata": {},
   "outputs": [
    {
     "name": "stdout",
     "output_type": "stream",
     "text": [
      "Maximum accuracy:- 0.5151515151515151 at depth = 1\n"
     ]
    },
    {
     "data": {
      "image/png": "[encoded data removed]",
      "text/plain": [
       "<Figure size 720x432 with 1 Axes>"
      ]
     },
     "metadata": {
      "needs_background": "light"
     },
     "output_type": "display_data"
    }
   ],
   "source": [
    "usc.da_check_dt_performance_rate(xylist)"
   ]
  },
  {
   "cell_type": "code",
   "execution_count": null,
   "metadata": {},
   "outputs": [],
   "source": []
  }
 ],
 "metadata": {
  "kernelspec": {
   "display_name": "Python 3.9.12 ('DA_Env')",
   "language": "python",
   "name": "python3"
  },
  "language_info": {
   "codemirror_mode": {
    "name": "ipython",
    "version": 3
   },
   "file_extension": ".py",
   "mimetype": "text/x-python",
   "name": "python",
   "nbconvert_exporter": "python",
   "pygments_lexer": "ipython3",
   "version": "3.9.12"
  },
  "orig_nbformat": 4,
  "vscode": {
   "interpreter": {
    "hash": "a08fe99de7091861da4136a7c4af3e70f25e0bad2269d33020f7bee7e1bdba20"
   }
  }
 },
 "nbformat": 4,
 "nbformat_minor": 2
}
