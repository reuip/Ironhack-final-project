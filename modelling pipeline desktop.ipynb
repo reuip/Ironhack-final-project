{
 "cells": [
  {
   "cell_type": "code",
   "execution_count": 151,
   "id": "f728c412-9c3f-4d2b-9900-58460a3f729f",
   "metadata": {},
   "outputs": [],
   "source": [
    "# Standard Imports\n",
    "import pandas as pd\n",
    "import seaborn as sns\n",
    "import numpy as np\n",
    "import matplotlib.pyplot as plt\n",
    "import pickle\n",
    "import eli5\n",
    "\n",
    "# Transformers\n",
    "from sklearn.preprocessing import LabelEncoder, OneHotEncoder, StandardScaler, MinMaxScaler\n",
    "\n",
    "# Modeling Evaluation\n",
    "from sklearn.model_selection import train_test_split, cross_val_score, KFold, GridSearchCV\n",
    "from sklearn.metrics import accuracy_score, precision_score, recall_score,f1_score, confusion_matrix, classification_report\n",
    "from IPython.display import display, Markdown\n",
    "\n",
    "# Pipelines\n",
    "from sklearn.pipeline import Pipeline, FeatureUnion\n",
    "from sklearn.base import BaseEstimator, TransformerMixin\n",
    "from sklearn.compose import ColumnTransformer\n",
    "from imblearn.pipeline import Pipeline as PipeImb\n",
    "from imblearn.pipeline import make_pipeline\n",
    "\n",
    "\n",
    "# Machine Learning\n",
    "from sklearn.tree import DecisionTreeClassifier\n",
    "from sklearn.ensemble import RandomForestClassifier\n",
    "from sklearn.neighbors import KNeighborsClassifier\n",
    "from sklearn.linear_model import LogisticRegression\n",
    "from xgboost import XGBClassifier\n",
    "from sklearn.svm import SVC\n",
    "from sklearn.naive_bayes import GaussianNB\n",
    "from sklearn.ensemble import StackingClassifier\n",
    "from sklearn.ensemble import BaggingClassifier\n",
    "\n",
    "\n",
    "#Validation methods\n",
    "from sklearn.model_selection import KFold\n",
    "from sklearn.model_selection import RepeatedStratifiedKFold\n",
    "\n",
    "#Sampling methods\n",
    "from imblearn.over_sampling import SMOTENC\n"
   ]
  },
  {
   "cell_type": "code",
   "execution_count": 152,
   "id": "8c93688b",
   "metadata": {},
   "outputs": [],
   "source": [
    "#Look at pipeline and what it does\n",
    "# from sklearn import set_config\n",
    "#set_config(display='diagram')\n",
    "#display(search2)"
   ]
  },
  {
   "cell_type": "markdown",
   "id": "ad9ad139",
   "metadata": {},
   "source": [
    "# User defined functions"
   ]
  },
  {
   "cell_type": "code",
   "execution_count": 153,
   "id": "20e32e12",
   "metadata": {},
   "outputs": [],
   "source": [
    "def a_xy_split(dataframe,y_name,test_size=.3):\n",
    "   \n",
    "    #Get xy split and train/test data ready\n",
    "    X = dataframe.drop([y_name], axis=1)\n",
    "    y = dataframe.attrition\n",
    "    y = LabelEncoder().fit_transform(y)\n",
    "    X_train, X_test, y_train, y_test = train_test_split(X, y, test_size=test_size,random_state=42)\n",
    "\n",
    "    #Prep numerical and other column types for use in preprocessor\n",
    "    numerical=X.select_dtypes(include='number')\n",
    "    categorical=X.select_dtypes(include='object')\n",
    "    numerical_columns=list(numerical.columns)\n",
    "    categorical_columns=list(categorical.columns)\n",
    "    columns=list(X.columns)\n",
    "    cat_col_bool=[True if x in categorical_columns else False for x in columns]\n",
    "\n",
    "    return X_train, X_test, y_train, y_test,numerical_columns,categorical_columns,cat_col_bool"
   ]
  },
  {
   "cell_type": "code",
   "execution_count": 154,
   "id": "57e7ac9b-355b-4c53-8460-484e540fba05",
   "metadata": {},
   "outputs": [],
   "source": [
    "def b_preprocessors():\n",
    "    #Creating ss transformer to scale the continuous numerical data with StandardScaler()\n",
    "    ss = Pipeline(steps=[('ss', StandardScaler())])\n",
    "    #--------------------------------------------------------------------\n",
    "    #Creating ohe transformer to encode the categorical data with OneHotEncoder()\n",
    "    ohe = Pipeline(steps=[('ohe', OneHotEncoder(handle_unknown='ignore', drop='first'))])\n",
    "    #--------------------------------------------------------------------\n",
    "    #Creating preprocess column transformer to combine the ss and ohe pipelines\n",
    "    preprocess = ColumnTransformer(\n",
    "                        transformers=[\n",
    "                            ('num', ss, numerical_columns),\n",
    "                            ('cat', ohe, categorical_columns)\n",
    "                        ])\n",
    "    return preprocess\n",
    "\n"
   ]
  },
  {
   "cell_type": "code",
   "execution_count": 155,
   "id": "03fddc61",
   "metadata": {},
   "outputs": [],
   "source": [
    "def c_get_standard_params():\n",
    "        #Creating parameter grid for Random Forest\n",
    "        rand_forest_parms = {'classifier__n_estimators': [100, 300, 500],\n",
    "                'classifier__max_depth':[6, 25, 50, 70],\n",
    "                'classifier__min_samples_split': [2, 5, 10],\n",
    "                'classifier__min_samples_leaf': [1, 2, 10]}\n",
    "        \n",
    "        decision_tree_params = {'classifier__max_depth':[6, 25, 50, 70],\n",
    "                'classifier__min_samples_split': [2, 5, 10],\n",
    "                'classifier__min_samples_leaf': [1, 2, 10],\n",
    "                'classifier__max_features': [1,2,5,10]}\n",
    "\n",
    "        xgb_params = { 'classifier__max_depth': [3,6,10],\n",
    "                'classifier__learning_rate': [0.01, 0.05, 0.1, 0.2, 0.3],\n",
    "                'classifier__n_estimators': [100, 500, 1000],\n",
    "                'classifier__colsample_bytree': [0.3, 0.7],\n",
    "                'classifier__subsample':[.6,1]}\n",
    "\n",
    "        log_regress_params={'classifier__solver':['newton-cg', 'lbfgs', 'liblinear', 'sag', 'saga'],\n",
    "                        'classifier__penalty':['none','l1','l2','elasticnet'],\n",
    "                        'classifier__C':[100,10,1.0, 0.1,0.01]}\n",
    "        \n",
    "        knn_params={'classifier__n_neighbors':[1, 5, 10],\n",
    "        'classifier__weights': ['uniform', 'distance'],\n",
    "        'classifier__metric': ['euclidean', 'manhattan', 'minkowski']}\n",
    "\n",
    "        gaussian_params={'classifier__var_smoothing': [1e-11, 1e-10, 1e-9]}\n",
    "\n",
    "        bagging_params= {'classifier__base_estimator__max_depth' : [1, 2, 3, 4, 5],\n",
    "        'classifier__max_samples' : [0.05, 0.1, 0.2, 0.5]}\n",
    "\n",
    "        return rand_forest_parms,xgb_params,log_regress_params,knn_params,gaussian_params,bagging_params,decision_tree_params"
   ]
  },
  {
   "cell_type": "code",
   "execution_count": 156,
   "id": "d440f89a",
   "metadata": {},
   "outputs": [],
   "source": [
    "def _evaluation(y, y_hat, title = 'Confusion Matrix'):\n",
    "    cm = confusion_matrix(y, y_hat)\n",
    "    precision = precision_score(y, y_hat)\n",
    "    recall = recall_score(y, y_hat)\n",
    "    accuracy = accuracy_score(y,y_hat)\n",
    "    f1 = f1_score(y,y_hat)\n",
    "    print('Accuracy: ', accuracy)\n",
    "    print('Recall: ', recall)\n",
    "    print('Precision: ', precision)\n",
    "    print('F1: ', f1)\n",
    "    sns.heatmap(cm,  cmap= 'PuBu', annot=True, fmt='g', annot_kws=    {'size':20})\n",
    "    plt.xlabel('predicted', fontsize=18)\n",
    "    plt.ylabel('actual', fontsize=18)\n",
    "    plt.title(title, fontsize=18)\n",
    "    \n",
    "    plt.show()\n",
    "\n"
   ]
  },
  {
   "cell_type": "markdown",
   "id": "f52bce89-78df-41da-8921-2bb4f90966ab",
   "metadata": {},
   "source": [
    "# Stack formula"
   ]
  },
  {
   "cell_type": "code",
   "execution_count": 157,
   "id": "54e39dd6-f3fd-4002-a160-371c906fb191",
   "metadata": {},
   "outputs": [],
   "source": [
    "def _get_stacking():\n",
    "    # define the base models\n",
    "    level0 = list()\n",
    "    level0.append(('bag',BaggingClassifier(base_estimator=LogisticRegression(max_iter=100,penalty='l1',solver='saga',warm_start=True,random_state=1234),n_estimators=15,bootstrap=True,warm_start=True,n_jobs=-1,random_state=1234)))\n",
    "    #level0.append(('dt',DecisionTreeClassifier(max_depth= 6, max_features=1, min_samples_leaf= 2, min_samples_split= 10,random_state=1234)))\n",
    "    #level0.append(('gau',GaussianNB()))\n",
    "    #level0.append(('xgb', XGBClassifier()))\n",
    "    #level0.append(('svm', SVC(random_state=42)))\n",
    "    #level0.append(('lr', LogisticRegression(max_iter=100,penalty='l1',solver='saga',random_state=1234)))\n",
    "    level0.append(('knn', KNeighborsClassifier(metric='manhattan',n_neighbors=10,weights='distance')))\n",
    "    # define meta learner model\n",
    "    level1 = LogisticRegression(random_state=1234)\n",
    "    # define the stacking ensemble\n",
    "    model = StackingClassifier(estimators=level0, final_estimator=level1, cv=5)\n",
    "    return model"
   ]
  },
  {
   "cell_type": "code",
   "execution_count": 158,
   "id": "5d272411-269c-4b11-9c77-5993fd24e2c4",
   "metadata": {},
   "outputs": [],
   "source": [
    "def d_check_best_model(smote_type=\"nc\"):\n",
    "    stack=_get_stacking()\n",
    "    models=[LogisticRegression(),RandomForestClassifier(),XGBClassifier(),KNeighborsClassifier(),DecisionTreeClassifier(),stack,SVC(),GaussianNB(),BaggingClassifier()]\n",
    "    avg_acc=[]\n",
    "    avg_rec=[]\n",
    "    avg_prec=[]\n",
    "    f1=[]\n",
    "    for i in models:\n",
    "        print (i)\n",
    "        a,r,p,f=e_cross_validate_grid(preprocess,i,cv=KFold(),grid_search=False,smote_type=smote_type,check_best=True)\n",
    "        avg_acc.append(a)\n",
    "        avg_rec.append(r)\n",
    "        avg_prec.append(p)\n",
    "        f1.append(f)\n",
    "        print()\n",
    "    res_df=pd.DataFrame(columns=[\"model\",'accuracy','recall','precision','f1'])\n",
    "    res_df['model']=models\n",
    "    res_df['accuracy']=avg_acc\n",
    "    res_df['recall']=avg_rec\n",
    "    res_df['precision']=avg_prec\n",
    "    res_df['f1']=f1\n",
    "    return res_df.sort_values(by=\"f1\",ascending=False)"
   ]
  },
  {
   "cell_type": "code",
   "execution_count": 159,
   "id": "c88b95ac",
   "metadata": {},
   "outputs": [],
   "source": [
    "def e_cross_validate_grid(preprocessor, classifier, smote_type='NC', param_grid=\"none\", cv=\"none\", scoring=\"recall\", conf_matrix=False, grid_search=False,check_best=False):\n",
    "    cv = cv\n",
    "\n",
    "    #Set correct pipeline for use in the formula\n",
    "    pipeline = PipeImb(steps=[\n",
    "    ('preprocess', preprocessor),\n",
    "    ('classifier', classifier)])\n",
    "\n",
    "\n",
    "    if smote_type.lower()==\"nc\":\n",
    "        pipeline.steps.insert(0,('smote',SMOTENC(categorical_features=X_train.dtypes==object,random_state=1234,n_jobs=-1)))\n",
    "\n",
    "\n",
    "    if grid_search==True:\n",
    "        search = GridSearchCV(pipeline, param_grid=param_grid, cv=cv,scoring=scoring)\n",
    "    else:\n",
    "        search=pipeline\n",
    "# Run train and validation methods, print average result for each\n",
    "    train_acc = []\n",
    "    train_rec=[]\n",
    "    train_prec=[]\n",
    "    test_acc = []\n",
    "    test_rec=[]\n",
    "    test_prec=[]\n",
    "    for train_ind, val_ind in cv.split(X_train, y_train):\n",
    "        X_t, y_t = X_train.iloc[train_ind], y_train[train_ind]\n",
    "        search.fit(X_t, y_t)\n",
    "        y_hat_t = search.predict(X_t)\n",
    "        train_acc.append(accuracy_score(y_t, y_hat_t))\n",
    "        train_rec.append(recall_score(y_t,y_hat_t))\n",
    "        train_prec.append(precision_score(y_t,y_hat_t))\n",
    "        X_val, y_val = X_train.iloc[val_ind], y_train[val_ind]\n",
    "        y_hat_val = search.predict(X_val)\n",
    "        test_acc.append(accuracy_score(y_val, y_hat_val))\n",
    "        test_rec.append(recall_score(y_val, y_hat_val))\n",
    "        test_prec.append(precision_score(y_val, y_hat_val))\n",
    "\n",
    "    if conf_matrix==True:\n",
    "        print(\"Validation set confusion matrix\")\n",
    "        print(_evaluation(y_val, y_hat_val))\n",
    "        print()\n",
    "    print('Avg Training Accuracy: {}'.format(np.mean(train_acc)))\n",
    "    print(\"Avg Training Recall: {}\".format(np.mean(train_rec)))\n",
    "    print(\"Avg Training Precision: {}\".format(np.mean(train_prec)))\n",
    "    print()\n",
    "    print('Avg Validation Accuracy: {}'.format(np.mean(test_acc)))\n",
    "    print(\"Avg Validation Recall: {}\".format(np.mean(test_rec)))\n",
    "    print(\"Avg Validation Precision: {}\".format(np.mean(test_prec)))\n",
    "    print()\n",
    "\n",
    "# If grid search used, print best estimator's features\n",
    "    if (grid_search==True):\n",
    "        ohe_cols = list(search.best_estimator_.named_steps['preprocess'].named_transformers_['cat'].named_steps['ohe'].get_feature_names_out(\n",
    "        input_features=categorical_columns))\n",
    "        num_feats = list(numerical_columns)\n",
    "        num_feats.extend(ohe_cols)\n",
    "        feat_imp = eli5.explain_weights_df(search.best_estimator_.named_steps['classifier'], top=10, feature_names=num_feats)\n",
    "        print(feat_imp)\n",
    "        print()\n",
    "        print('Grid Search Best Params:')\n",
    "        print()\n",
    "        print(search.best_params_)\n",
    "    if check_best==True:\n",
    "        acc= np.mean(test_acc)\n",
    "        rec=np.mean(test_rec)\n",
    "        prec=np.mean(test_prec)\n",
    "        f1=2*(prec*rec)/(prec+rec)\n",
    "\n",
    "        return acc,rec,prec,f1\n",
    "    else:\n",
    "        return search\n"
   ]
  },
  {
   "cell_type": "code",
   "execution_count": 160,
   "id": "468a6274",
   "metadata": {},
   "outputs": [],
   "source": [
    "def g_validate_using_test(preprocessor, classifier, grid, cv):\n",
    "    final_pipeline = GridSearchCV(PipeImb(steps=[\n",
    "            ('preprocess', preprocessor),\n",
    "            ('classifier', classifier)\n",
    "        ]), grid, cv=cv)\n",
    "    #Fit and predict on train data\n",
    "    final_pipeline.fit(X_train, y_train)\n",
    "\n",
    "    train_pred = final_pipeline.best_estimator_.predict(X_train)\n",
    "    #train_pred=final_pipeline.predict(X_train)\n",
    "\n",
    "    print('Evaluation on training data \\n')\n",
    "    print(_evaluation(y_train, train_pred))\n",
    "    print('\\n')\n",
    "    #Predict on test data\n",
    "\n",
    "    test_pred = final_pipeline.best_estimator_.predict(X_test)\n",
    "    #test_pred = final_pipeline.predict(X_test)\n",
    "    print('Evaluation on testing data \\n')\n",
    "    print(_evaluation(y_test, test_pred))"
   ]
  },
  {
   "cell_type": "code",
   "execution_count": 161,
   "id": "7c9e9359-1578-4338-a309-2468974cafeb",
   "metadata": {},
   "outputs": [],
   "source": [
    "def f_validate_pipeline_on_test(pipeline):\n",
    "    test_pred = pipeline.predict(X_test)\n",
    "    #test_pred = final_pipeline.predict(X_test)\n",
    "    print('Evaluation on testing data \\n')\n",
    "    print(_evaluation(y_test, test_pred))"
   ]
  },
  {
   "cell_type": "markdown",
   "id": "8592a219",
   "metadata": {},
   "source": [
    "# Code here"
   ]
  },
  {
   "cell_type": "code",
   "execution_count": 162,
   "id": "121dac97-6d7b-4887-b51d-c6c2df1ef523",
   "metadata": {},
   "outputs": [],
   "source": [
    "df=pd.read_csv(r\"Data\\4b.IBM_data_cleaned_dropped - Copy - Copy.csv\")\n",
    "df2=df[df['age']<42].copy()\n",
    "df3=df2[df2['jobrole'].isin(['laboratory technician','sales representative'])].copy()"
   ]
  },
  {
   "cell_type": "code",
   "execution_count": 163,
   "id": "42627b18-4294-4aa9-9710-3076c83f3617",
   "metadata": {},
   "outputs": [],
   "source": [
    "#df3['workbeforecompany']=df3['totalworkingyears']-df3['yearsatcompany']\n",
    "#df3['engagement']=((df3['worklifebalance']+df3['jobinvolvement']+df3['environmentsatisfaction']+df3['jobsatisfaction'])/4)\n",
    "#df3['embedded']=df3['stockoptionlevel']*df3['totalworkingyears']*df3['salaryquartile']*df3['yearsatcompany']\n",
    "#df3.drop(columns=['businesstravel','educationfield','gender','percentsalaryhike','yearswithcurrmanager','yearssincelastpromotion','trainingtimeslastyear'],axis=1,inplace=True)"
   ]
  },
  {
   "cell_type": "code",
   "execution_count": 164,
   "id": "c3e1088b",
   "metadata": {},
   "outputs": [],
   "source": [
    "y_name='attrition'\n",
    "X_train, X_test, y_train, y_test,numerical_columns,categorical_columns,cat_col_bool=a_xy_split(df2,y_name,test_size=.3)\n",
    "#X_train, X_test, y_train, y_test,numerical_columns,categorical_columns,cat_col_bool=a_xy_split(df2,y_name,test_size=.2)\n",
    "preprocess=b_preprocessors()\n",
    "rand_forest_parms,xgb_params,log_regress_params,knn_params,gaussian_params,bagging_params,decision_tree_params=c_get_standard_params()\n",
    "stack=_get_stacking()"
   ]
  },
  {
   "cell_type": "code",
   "execution_count": 201,
   "id": "2a3677b6",
   "metadata": {},
   "outputs": [
    {
     "name": "stdout",
     "output_type": "stream",
     "text": [
      "LogisticRegression()\n",
      "Avg Training Accuracy: 0.8652505561409672\n",
      "Avg Training Recall: 0.7093397085124342\n",
      "Avg Training Precision: 0.6379918892753117\n",
      "\n",
      "Avg Validation Accuracy: 0.8303513186096356\n",
      "Avg Validation Recall: 0.6435675618411991\n",
      "Avg Validation Precision: 0.5520904335420465\n",
      "\n",
      "\n",
      "RandomForestClassifier()\n",
      "Avg Training Accuracy: 1.0\n",
      "Avg Training Recall: 1.0\n",
      "Avg Training Precision: 1.0\n",
      "\n",
      "Avg Validation Accuracy: 0.8344515888547199\n",
      "Avg Validation Recall: 0.4818185285237565\n",
      "Avg Validation Precision: 0.5976389552476509\n",
      "\n",
      "\n",
      "XGBClassifier(base_score=None, booster=None, callbacks=None,\n",
      "              colsample_bylevel=None, colsample_bynode=None,\n",
      "              colsample_bytree=None, early_stopping_rounds=None,\n",
      "              enable_categorical=False, eval_metric=None, gamma=None,\n",
      "              gpu_id=None, grow_policy=None, importance_type=None,\n",
      "              interaction_constraints=None, learning_rate=None, max_bin=None,\n",
      "              max_cat_to_onehot=None, max_delta_step=None, max_depth=None,\n",
      "              max_leaves=None, min_child_weight=None, missing=nan,\n",
      "              monotone_constraints=None, n_estimators=100, n_jobs=None,\n",
      "              num_parallel_tree=None, predictor=None, random_state=None,\n",
      "              reg_alpha=None, reg_lambda=None, ...)\n",
      "Avg Training Accuracy: 1.0\n",
      "Avg Training Recall: 1.0\n",
      "Avg Training Precision: 1.0\n",
      "\n",
      "Avg Validation Accuracy: 0.8303699562016588\n",
      "Avg Validation Recall: 0.5033495065063474\n",
      "Avg Validation Precision: 0.5858921551370064\n",
      "\n",
      "\n",
      "KNeighborsClassifier()\n",
      "Avg Training Accuracy: 0.8857750848846738\n",
      "Avg Training Recall: 0.9244050661679951\n",
      "Avg Training Precision: 0.6430125688364219\n",
      "\n",
      "Avg Validation Accuracy: 0.7797222998788556\n",
      "Avg Validation Recall: 0.587132863675689\n",
      "Avg Validation Precision: 0.44989623379716265\n",
      "\n",
      "\n",
      "DecisionTreeClassifier()\n",
      "Avg Training Accuracy: 1.0\n",
      "Avg Training Recall: 1.0\n",
      "Avg Training Precision: 1.0\n",
      "\n",
      "Avg Validation Accuracy: 0.734600689590905\n",
      "Avg Validation Recall: 0.45248162861733493\n",
      "Avg Validation Precision: 0.3511217891411884\n",
      "\n",
      "\n",
      "StackingClassifier(cv=5,\n",
      "                   estimators=[('bag',\n",
      "                                BaggingClassifier(base_estimator=LogisticRegression(penalty='l1',\n",
      "                                                                                    random_state=1234,\n",
      "                                                                                    solver='saga',\n",
      "                                                                                    warm_start=True),\n",
      "                                                  n_estimators=15, n_jobs=-1,\n",
      "                                                  random_state=1234,\n",
      "                                                  warm_start=True)),\n",
      "                               ('knn',\n",
      "                                KNeighborsClassifier(metric='manhattan',\n",
      "                                                     n_neighbors=10,\n",
      "                                                     weights='distance'))],\n",
      "                   final_estimator=LogisticRegression(random_state=1234))\n",
      "Avg Training Accuracy: 1.0\n",
      "Avg Training Recall: 1.0\n",
      "Avg Training Precision: 1.0\n",
      "\n",
      "Avg Validation Accuracy: 0.8440033547665642\n",
      "Avg Validation Recall: 0.5297693733778271\n",
      "Avg Validation Precision: 0.6270797299762817\n",
      "\n",
      "\n",
      "SVC()\n",
      "Avg Training Accuracy: 0.94664676267416\n",
      "Avg Training Recall: 0.8644255148057575\n",
      "Avg Training Precision: 0.8625284096267061\n",
      "\n",
      "Avg Validation Accuracy: 0.8358214518684186\n",
      "Avg Validation Recall: 0.5335548139908541\n",
      "Avg Validation Precision: 0.5920154922538731\n",
      "\n",
      "\n",
      "GaussianNB()\n",
      "Avg Training Accuracy: 0.4104109589041096\n",
      "Avg Training Recall: 0.9090904892753736\n",
      "Avg Training Precision: 0.23619960813650587\n",
      "\n",
      "Avg Validation Accuracy: 0.395284689218153\n",
      "Avg Validation Recall: 0.8932995744831118\n",
      "Avg Validation Precision: 0.22937543327914178\n",
      "\n",
      "\n",
      "BaggingClassifier()\n",
      "Avg Training Accuracy: 0.9907680599461421\n",
      "Avg Training Recall: 0.9594147507944013\n",
      "Avg Training Precision: 0.9929152542372881\n",
      "\n",
      "Avg Validation Accuracy: 0.813912962445252\n",
      "Avg Validation Recall: 0.4214683334216149\n",
      "Avg Validation Precision: 0.5294452095219359\n",
      "\n",
      "\n"
     ]
    },
    {
     "data": {
      "text/html": [
       "<div>\n",
       "<style scoped>\n",
       "    .dataframe tbody tr th:only-of-type {\n",
       "        vertical-align: middle;\n",
       "    }\n",
       "\n",
       "    .dataframe tbody tr th {\n",
       "        vertical-align: top;\n",
       "    }\n",
       "\n",
       "    .dataframe thead th {\n",
       "        text-align: right;\n",
       "    }\n",
       "</style>\n",
       "<table border=\"1\" class=\"dataframe\">\n",
       "  <thead>\n",
       "    <tr style=\"text-align: right;\">\n",
       "      <th></th>\n",
       "      <th>model</th>\n",
       "      <th>accuracy</th>\n",
       "      <th>recall</th>\n",
       "      <th>precision</th>\n",
       "      <th>f1</th>\n",
       "    </tr>\n",
       "  </thead>\n",
       "  <tbody>\n",
       "    <tr>\n",
       "      <th>0</th>\n",
       "      <td>LogisticRegression()</td>\n",
       "      <td>0.830351</td>\n",
       "      <td>0.643568</td>\n",
       "      <td>0.552090</td>\n",
       "      <td>0.594330</td>\n",
       "    </tr>\n",
       "    <tr>\n",
       "      <th>5</th>\n",
       "      <td>StackingClassifier(cv=5,\\n                   e...</td>\n",
       "      <td>0.844003</td>\n",
       "      <td>0.529769</td>\n",
       "      <td>0.627080</td>\n",
       "      <td>0.574332</td>\n",
       "    </tr>\n",
       "    <tr>\n",
       "      <th>6</th>\n",
       "      <td>SVC()</td>\n",
       "      <td>0.835821</td>\n",
       "      <td>0.533555</td>\n",
       "      <td>0.592015</td>\n",
       "      <td>0.561267</td>\n",
       "    </tr>\n",
       "    <tr>\n",
       "      <th>2</th>\n",
       "      <td>XGBClassifier(base_score=0.5, booster='gbtree'...</td>\n",
       "      <td>0.830370</td>\n",
       "      <td>0.503350</td>\n",
       "      <td>0.585892</td>\n",
       "      <td>0.541493</td>\n",
       "    </tr>\n",
       "    <tr>\n",
       "      <th>1</th>\n",
       "      <td>(DecisionTreeClassifier(max_features='auto', r...</td>\n",
       "      <td>0.834452</td>\n",
       "      <td>0.481819</td>\n",
       "      <td>0.597639</td>\n",
       "      <td>0.533515</td>\n",
       "    </tr>\n",
       "    <tr>\n",
       "      <th>3</th>\n",
       "      <td>KNeighborsClassifier()</td>\n",
       "      <td>0.779722</td>\n",
       "      <td>0.587133</td>\n",
       "      <td>0.449896</td>\n",
       "      <td>0.509434</td>\n",
       "    </tr>\n",
       "    <tr>\n",
       "      <th>8</th>\n",
       "      <td>(DecisionTreeClassifier(random_state=305674899...</td>\n",
       "      <td>0.813913</td>\n",
       "      <td>0.421468</td>\n",
       "      <td>0.529445</td>\n",
       "      <td>0.469326</td>\n",
       "    </tr>\n",
       "    <tr>\n",
       "      <th>4</th>\n",
       "      <td>DecisionTreeClassifier()</td>\n",
       "      <td>0.734601</td>\n",
       "      <td>0.452482</td>\n",
       "      <td>0.351122</td>\n",
       "      <td>0.395409</td>\n",
       "    </tr>\n",
       "    <tr>\n",
       "      <th>7</th>\n",
       "      <td>GaussianNB()</td>\n",
       "      <td>0.395285</td>\n",
       "      <td>0.893300</td>\n",
       "      <td>0.229375</td>\n",
       "      <td>0.365023</td>\n",
       "    </tr>\n",
       "  </tbody>\n",
       "</table>\n",
       "</div>"
      ],
      "text/plain": [
       "                                               model  accuracy    recall  \\\n",
       "0                               LogisticRegression()  0.830351  0.643568   \n",
       "5  StackingClassifier(cv=5,\\n                   e...  0.844003  0.529769   \n",
       "6                                              SVC()  0.835821  0.533555   \n",
       "2  XGBClassifier(base_score=0.5, booster='gbtree'...  0.830370  0.503350   \n",
       "1  (DecisionTreeClassifier(max_features='auto', r...  0.834452  0.481819   \n",
       "3                             KNeighborsClassifier()  0.779722  0.587133   \n",
       "8  (DecisionTreeClassifier(random_state=305674899...  0.813913  0.421468   \n",
       "4                           DecisionTreeClassifier()  0.734601  0.452482   \n",
       "7                                       GaussianNB()  0.395285  0.893300   \n",
       "\n",
       "   precision        f1  \n",
       "0   0.552090  0.594330  \n",
       "5   0.627080  0.574332  \n",
       "6   0.592015  0.561267  \n",
       "2   0.585892  0.541493  \n",
       "1   0.597639  0.533515  \n",
       "3   0.449896  0.509434  \n",
       "8   0.529445  0.469326  \n",
       "4   0.351122  0.395409  \n",
       "7   0.229375  0.365023  "
      ]
     },
     "execution_count": 201,
     "metadata": {},
     "output_type": "execute_result"
    }
   ],
   "source": [
    "d_check_best_model()"
   ]
  },
  {
   "cell_type": "markdown",
   "id": "00f2a497",
   "metadata": {},
   "source": [
    "# Stack option"
   ]
  },
  {
   "cell_type": "code",
   "execution_count": 166,
   "id": "b834aad4-986b-4ad1-8030-a4d02f695d37",
   "metadata": {
    "tags": []
   },
   "outputs": [
    {
     "name": "stdout",
     "output_type": "stream",
     "text": [
      "Avg Training Accuracy: 1.0\n",
      "Avg Training Recall: 1.0\n",
      "Avg Training Precision: 1.0\n",
      "\n",
      "Avg Validation Accuracy: 0.8440033547665642\n",
      "Avg Validation Recall: 0.5297693733778271\n",
      "Avg Validation Precision: 0.6270797299762817\n",
      "\n"
     ]
    }
   ],
   "source": [
    "pipeline_stack=e_cross_validate_grid(preprocess,stack,scoring='recall', cv=KFold(),grid_search=False,conf_matrix=False)"
   ]
  },
  {
   "cell_type": "code",
   "execution_count": 167,
   "id": "38b1f099",
   "metadata": {},
   "outputs": [
    {
     "name": "stdout",
     "output_type": "stream",
     "text": [
      "Evaluation on testing data \n",
      "\n",
      "Accuracy:  0.8503184713375797\n",
      "Recall:  0.4897959183673469\n",
      "Precision:  0.5217391304347826\n",
      "F1:  0.5052631578947369\n"
     ]
    },
    {
     "data": {
      "image/png": "[encoded data removed]",
      "text/plain": [
       "<Figure size 432x288 with 2 Axes>"
      ]
     },
     "metadata": {
      "needs_background": "light"
     },
     "output_type": "display_data"
    },
    {
     "name": "stdout",
     "output_type": "stream",
     "text": [
      "None\n"
     ]
    }
   ],
   "source": [
    "f_validate_pipeline_on_test(pipeline_stack)"
   ]
  },
  {
   "cell_type": "markdown",
   "id": "fb228667",
   "metadata": {},
   "source": [
    "# Log Regression only"
   ]
  },
  {
   "cell_type": "code",
   "execution_count": 168,
   "id": "cb931e83-fdd1-4000-ac0e-06da36da7e89",
   "metadata": {},
   "outputs": [
    {
     "name": "stdout",
     "output_type": "stream",
     "text": [
      "Avg Training Accuracy: 0.8652505561409672\n",
      "Avg Training Recall: 0.7093397085124342\n",
      "Avg Training Precision: 0.6379918892753117\n",
      "\n",
      "Avg Validation Accuracy: 0.8303513186096356\n",
      "Avg Validation Recall: 0.6435675618411991\n",
      "Avg Validation Precision: 0.5520904335420465\n",
      "\n"
     ]
    }
   ],
   "source": [
    "pipeline_log=e_cross_validate_grid(preprocess,LogisticRegression(random_state=1234),scoring='recall', cv=KFold(),grid_search=False,conf_matrix=False)"
   ]
  },
  {
   "cell_type": "code",
   "execution_count": 169,
   "id": "96b34d39",
   "metadata": {},
   "outputs": [
    {
     "name": "stdout",
     "output_type": "stream",
     "text": [
      "Evaluation on testing data \n",
      "\n",
      "Accuracy:  0.8662420382165605\n",
      "Recall:  0.673469387755102\n",
      "Precision:  0.559322033898305\n",
      "F1:  0.611111111111111\n"
     ]
    },
    {
     "data": {
      "image/png": "[encoded data removed]",
      "text/plain": [
       "<Figure size 432x288 with 2 Axes>"
      ]
     },
     "metadata": {
      "needs_background": "light"
     },
     "output_type": "display_data"
    },
    {
     "name": "stdout",
     "output_type": "stream",
     "text": [
      "None\n"
     ]
    }
   ],
   "source": [
    "f_validate_pipeline_on_test(pipeline_log)"
   ]
  },
  {
   "cell_type": "markdown",
   "id": "ad0e56e0",
   "metadata": {},
   "source": [
    "# Bag KNN"
   ]
  },
  {
   "cell_type": "code",
   "execution_count": 170,
   "id": "37994984-8e53-418e-a28b-f438e449fd18",
   "metadata": {
    "tags": []
   },
   "outputs": [
    {
     "name": "stdout",
     "output_type": "stream",
     "text": [
      "Validation set confusion matrix\n",
      "Accuracy:  0.815068493150685\n",
      "Recall:  0.6111111111111112\n",
      "Precision:  0.6285714285714286\n",
      "F1:  0.619718309859155\n"
     ]
    },
    {
     "data": {
      "image/png": "[encoded data removed]",
      "text/plain": [
       "<Figure size 432x288 with 2 Axes>"
      ]
     },
     "metadata": {
      "needs_background": "light"
     },
     "output_type": "display_data"
    },
    {
     "name": "stdout",
     "output_type": "stream",
     "text": [
      "None\n",
      "\n",
      "Avg Training Accuracy: 0.9958968504858916\n",
      "Avg Training Recall: 0.994835903926813\n",
      "Avg Training Precision: 0.984192564662784\n",
      "\n",
      "Avg Validation Accuracy: 0.8002422886963005\n",
      "Avg Validation Recall: 0.5733397602274132\n",
      "Avg Validation Precision: 0.4890341451631774\n",
      "\n"
     ]
    }
   ],
   "source": [
    "pipeline_bag_knn=e_cross_validate_grid(preprocess,BaggingClassifier(base_estimator=KNeighborsClassifier(metric='manhattan',n_neighbors=10,weights='distance')),scoring='recall', cv=KFold(),param_grid=knn_params,grid_search=False,conf_matrix=True)"
   ]
  },
  {
   "cell_type": "code",
   "execution_count": 171,
   "id": "6bb866d7",
   "metadata": {},
   "outputs": [
    {
     "name": "stdout",
     "output_type": "stream",
     "text": [
      "Evaluation on testing data \n",
      "\n",
      "Accuracy:  0.7643312101910829\n",
      "Recall:  0.5102040816326531\n",
      "Precision:  0.3333333333333333\n",
      "F1:  0.4032258064516129\n"
     ]
    },
    {
     "data": {
      "image/png": "[encoded data removed]",
      "text/plain": [
       "<Figure size 432x288 with 2 Axes>"
      ]
     },
     "metadata": {
      "needs_background": "light"
     },
     "output_type": "display_data"
    },
    {
     "name": "stdout",
     "output_type": "stream",
     "text": [
      "None\n"
     ]
    }
   ],
   "source": [
    "f_validate_pipeline_on_test(pipeline_bag_knn)"
   ]
  },
  {
   "cell_type": "markdown",
   "id": "818be07d",
   "metadata": {},
   "source": [
    "# Bag LR"
   ]
  },
  {
   "cell_type": "code",
   "execution_count": 172,
   "id": "7a604218-4453-4dd6-bf78-8d328c14e55b",
   "metadata": {},
   "outputs": [
    {
     "name": "stderr",
     "output_type": "stream",
     "text": [
      "c:\\Users\\MichaelTaylo_c9zoof3\\anaconda3\\envs\\DA_Env\\lib\\site-packages\\sklearn\\ensemble\\_bagging.py:374: UserWarning: Warm-start fitting without increasing n_estimators does not fit new trees.\n",
      "  warn(\n",
      "c:\\Users\\MichaelTaylo_c9zoof3\\anaconda3\\envs\\DA_Env\\lib\\site-packages\\sklearn\\ensemble\\_bagging.py:374: UserWarning: Warm-start fitting without increasing n_estimators does not fit new trees.\n",
      "  warn(\n",
      "c:\\Users\\MichaelTaylo_c9zoof3\\anaconda3\\envs\\DA_Env\\lib\\site-packages\\sklearn\\ensemble\\_bagging.py:374: UserWarning: Warm-start fitting without increasing n_estimators does not fit new trees.\n",
      "  warn(\n"
     ]
    },
    {
     "name": "stdout",
     "output_type": "stream",
     "text": [
      "Validation set confusion matrix\n",
      "Accuracy:  0.8698630136986302\n",
      "Recall:  0.75\n",
      "Precision:  0.7297297297297297\n",
      "F1:  0.7397260273972601\n"
     ]
    },
    {
     "name": "stderr",
     "output_type": "stream",
     "text": [
      "c:\\Users\\MichaelTaylo_c9zoof3\\anaconda3\\envs\\DA_Env\\lib\\site-packages\\sklearn\\ensemble\\_bagging.py:374: UserWarning: Warm-start fitting without increasing n_estimators does not fit new trees.\n",
      "  warn(\n"
     ]
    },
    {
     "data": {
      "image/png": "[encoded data removed]",
      "text/plain": [
       "<Figure size 432x288 with 2 Axes>"
      ]
     },
     "metadata": {
      "needs_background": "light"
     },
     "output_type": "display_data"
    },
    {
     "name": "stdout",
     "output_type": "stream",
     "text": [
      "None\n",
      "\n",
      "Avg Training Accuracy: 0.8515747570542092\n",
      "Avg Training Recall: 0.7428344535875008\n",
      "Avg Training Precision: 0.5941603428145518\n",
      "\n",
      "Avg Validation Accuracy: 0.8467803559780076\n",
      "Avg Validation Recall: 0.7441916415064357\n",
      "Avg Validation Precision: 0.5836829354786011\n",
      "\n"
     ]
    }
   ],
   "source": [
    "#One of better predictors\n",
    "pipeline_bag_lr=e_cross_validate_grid(preprocess,BaggingClassifier(base_estimator=LogisticRegression(max_iter=100,penalty='l1',solver='saga',warm_start=True),n_estimators=10,bootstrap=True,warm_start=True,n_jobs=-1),scoring='recall', cv=KFold(),param_grid=knn_params,grid_search=False,conf_matrix=True)"
   ]
  },
  {
   "cell_type": "code",
   "execution_count": 173,
   "id": "a26c019f",
   "metadata": {},
   "outputs": [
    {
     "name": "stdout",
     "output_type": "stream",
     "text": [
      "Evaluation on testing data \n",
      "\n",
      "Accuracy:  0.8694267515923567\n",
      "Recall:  0.7142857142857143\n",
      "Precision:  0.5645161290322581\n",
      "F1:  0.6306306306306306\n"
     ]
    },
    {
     "data": {
      "image/png": "[encoded data removed]",
      "text/plain": [
       "<Figure size 432x288 with 2 Axes>"
      ]
     },
     "metadata": {
      "needs_background": "light"
     },
     "output_type": "display_data"
    },
    {
     "name": "stdout",
     "output_type": "stream",
     "text": [
      "None\n"
     ]
    }
   ],
   "source": [
    "f_validate_pipeline_on_test(pipeline_bag_lr)"
   ]
  },
  {
   "cell_type": "markdown",
   "id": "4b7b14cb",
   "metadata": {},
   "source": [
    "# Bag LR best so far\n"
   ]
  },
  {
   "cell_type": "code",
   "execution_count": 174,
   "id": "85e95a8b-78a8-4ba3-898c-18b461ba6fe3",
   "metadata": {},
   "outputs": [
    {
     "name": "stderr",
     "output_type": "stream",
     "text": [
      "c:\\Users\\MichaelTaylo_c9zoof3\\anaconda3\\envs\\DA_Env\\lib\\site-packages\\sklearn\\ensemble\\_bagging.py:374: UserWarning: Warm-start fitting without increasing n_estimators does not fit new trees.\n",
      "  warn(\n",
      "c:\\Users\\MichaelTaylo_c9zoof3\\anaconda3\\envs\\DA_Env\\lib\\site-packages\\sklearn\\ensemble\\_bagging.py:374: UserWarning: Warm-start fitting without increasing n_estimators does not fit new trees.\n",
      "  warn(\n",
      "c:\\Users\\MichaelTaylo_c9zoof3\\anaconda3\\envs\\DA_Env\\lib\\site-packages\\sklearn\\ensemble\\_bagging.py:374: UserWarning: Warm-start fitting without increasing n_estimators does not fit new trees.\n",
      "  warn(\n"
     ]
    },
    {
     "name": "stdout",
     "output_type": "stream",
     "text": [
      "Validation set confusion matrix\n",
      "Accuracy:  0.863013698630137\n",
      "Recall:  0.6944444444444444\n",
      "Precision:  0.7352941176470589\n",
      "F1:  0.7142857142857144\n"
     ]
    },
    {
     "name": "stderr",
     "output_type": "stream",
     "text": [
      "c:\\Users\\MichaelTaylo_c9zoof3\\anaconda3\\envs\\DA_Env\\lib\\site-packages\\sklearn\\ensemble\\_bagging.py:374: UserWarning: Warm-start fitting without increasing n_estimators does not fit new trees.\n",
      "  warn(\n"
     ]
    },
    {
     "data": {
      "image/png": "[encoded data removed]",
      "text/plain": [
       "<Figure size 432x288 with 2 Axes>"
      ]
     },
     "metadata": {
      "needs_background": "light"
     },
     "output_type": "display_data"
    },
    {
     "name": "stdout",
     "output_type": "stream",
     "text": [
      "None\n",
      "\n",
      "Avg Training Accuracy: 0.8529446200679077\n",
      "Avg Training Recall: 0.7255509058132048\n",
      "Avg Training Precision: 0.6006794158557083\n",
      "\n",
      "Avg Validation Accuracy: 0.8508899450191036\n",
      "Avg Validation Recall: 0.7335254692162367\n",
      "Avg Validation Precision: 0.5986104298178601\n",
      "\n",
      "Evaluation on testing data \n",
      "\n",
      "Accuracy:  0.8726114649681529\n",
      "Recall:  0.7142857142857143\n",
      "Precision:  0.5737704918032787\n",
      "F1:  0.6363636363636364\n"
     ]
    },
    {
     "data": {
      "image/png": "[encoded data removed]",
      "text/plain": [
       "<Figure size 432x288 with 2 Axes>"
      ]
     },
     "metadata": {
      "needs_background": "light"
     },
     "output_type": "display_data"
    },
    {
     "name": "stdout",
     "output_type": "stream",
     "text": [
      "None\n"
     ]
    }
   ],
   "source": [
    "#One of better predictors\n",
    "pipeline_bag_lr2=e_cross_validate_grid(preprocess,BaggingClassifier(base_estimator=LogisticRegression(max_iter=100,penalty='l1',solver='saga',warm_start=True,random_state=1234),n_estimators=15,bootstrap=True,warm_start=True,n_jobs=-1,random_state=1234),scoring='recall', cv=KFold(),param_grid=knn_params,grid_search=False,conf_matrix=True)\n",
    "f_validate_pipeline_on_test(pipeline_bag_lr2)"
   ]
  },
  {
   "cell_type": "code",
   "execution_count": 186,
   "id": "389f07b5",
   "metadata": {},
   "outputs": [],
   "source": [
    "df5=df2.copy()\n",
    "df5.drop(columns='attrition',axis=1,inplace=True)"
   ]
  },
  {
   "cell_type": "code",
   "execution_count": 187,
   "id": "be7abb99",
   "metadata": {},
   "outputs": [],
   "source": [
    "leave=pipeline_bag_lr2.predict_proba(df5)"
   ]
  },
  {
   "cell_type": "code",
   "execution_count": 188,
   "id": "39953970",
   "metadata": {},
   "outputs": [
    {
     "data": {
      "text/plain": [
       "1045"
      ]
     },
     "execution_count": 188,
     "metadata": {},
     "output_type": "execute_result"
    }
   ],
   "source": [
    "len(leave)"
   ]
  },
  {
   "cell_type": "code",
   "execution_count": 189,
   "id": "5f55bdb6",
   "metadata": {},
   "outputs": [],
   "source": [
    "df2['stay_prob']=leave[:,0]"
   ]
  },
  {
   "cell_type": "code",
   "execution_count": 191,
   "id": "84594a5a",
   "metadata": {},
   "outputs": [],
   "source": [
    "df2.to_csv(\"Data\\leave_chance.csv\")"
   ]
  },
  {
   "cell_type": "markdown",
   "id": "e3ff394a",
   "metadata": {},
   "source": [
    "# VotingClassifier"
   ]
  },
  {
   "cell_type": "code",
   "execution_count": 299,
   "id": "6cd32a20",
   "metadata": {},
   "outputs": [],
   "source": [
    "from sklearn.ensemble import RandomForestClassifier, VotingClassifier\n",
    "clf1=LogisticRegression(random_state=1234)\n",
    "clf2=stack\n",
    "clf3=SVC(probability=True,random_state=1324)\n",
    "clf4=BaggingClassifier(base_estimator=LogisticRegression(max_iter=100,penalty='l1',solver='saga',warm_start=True,random_state=1234),n_estimators=15,bootstrap=True,warm_start=True,n_jobs=-1,random_state=1234)\n",
    "clf5=XGBClassifier()\n",
    "clf7=GaussianNB()\n",
    "clf6=DecisionTreeClassifier(max_depth= 6, max_features=1, min_samples_leaf= 2, min_samples_split= 10,random_state=1234)\n",
    "weght=[100,30,40]\n",
    "est=[('bag',clf4),('svc',clf3),('stack',clf2)]\n",
    "vote_c3=VotingClassifier(estimators=est,weights=weght,voting='soft',n_jobs=-1)\n",
    "vote_c4=VotingClassifier(estimators=est,voting='hard',weights=weght)\n",
    "\n"
   ]
  },
  {
   "cell_type": "code",
   "execution_count": 300,
   "id": "c50cc709",
   "metadata": {},
   "outputs": [
    {
     "name": "stdout",
     "output_type": "stream",
     "text": [
      "Avg Training Accuracy: 0.9394649338484955\n",
      "Avg Training Recall: 0.8345652453638307\n",
      "Avg Training Precision: 0.8514791688112882\n",
      "\n",
      "Avg Validation Accuracy: 0.8440126735625757\n",
      "Avg Validation Recall: 0.6215527305471689\n",
      "Avg Validation Precision: 0.5999222999223\n",
      "\n",
      "Evaluation on testing data \n",
      "\n",
      "Accuracy:  0.8789808917197452\n",
      "Recall:  0.6530612244897959\n",
      "Precision:  0.6037735849056604\n",
      "F1:  0.6274509803921567\n"
     ]
    },
    {
     "data": {
      "image/png": "[encoded data removed]",
      "text/plain": [
       "<Figure size 432x288 with 2 Axes>"
      ]
     },
     "metadata": {
      "needs_background": "light"
     },
     "output_type": "display_data"
    },
    {
     "name": "stdout",
     "output_type": "stream",
     "text": [
      "None\n"
     ]
    }
   ],
   "source": [
    "pipeline_vote2=e_cross_validate_grid(preprocess,vote_c3,scoring='recall', cv=KFold(),param_grid=knn_params,grid_search=False,conf_matrix=False)\n",
    "f_validate_pipeline_on_test(pipeline_vote2)"
   ]
  },
  {
   "cell_type": "code",
   "execution_count": null,
   "id": "f7b38192",
   "metadata": {},
   "outputs": [],
   "source": [
    "KNeighborsClassifier(n_jobs=)"
   ]
  }
 ],
 "metadata": {
  "kernelspec": {
   "display_name": "Python 3 (ipykernel)",
   "language": "python",
   "name": "python3"
  },
  "language_info": {
   "codemirror_mode": {
    "name": "ipython",
    "version": 3
   },
   "file_extension": ".py",
   "mimetype": "text/x-python",
   "name": "python",
   "nbconvert_exporter": "python",
   "pygments_lexer": "ipython3",
   "version": "3.9.12"
  },
  "vscode": {
   "interpreter": {
    "hash": "a08fe99de7091861da4136a7c4af3e70f25e0bad2269d33020f7bee7e1bdba20"
   }
  }
 },
 "nbformat": 4,
 "nbformat_minor": 5
}
