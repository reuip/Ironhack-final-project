{
 "cells": [
  {
   "cell_type": "code",
   "execution_count": 23,
   "id": "f728c412-9c3f-4d2b-9900-58460a3f729f",
   "metadata": {},
   "outputs": [],
   "source": [
    "# Standard Imports\n",
    "import pandas as pd\n",
    "import seaborn as sns\n",
    "import numpy as np\n",
    "import matplotlib.pyplot as plt\n",
    "import pickle\n",
    "import eli5\n",
    "\n",
    "# Transformers\n",
    "from sklearn.preprocessing import LabelEncoder, OneHotEncoder, StandardScaler, MinMaxScaler\n",
    "\n",
    "# Modeling Evaluation\n",
    "from sklearn.model_selection import train_test_split, cross_val_score, KFold, GridSearchCV\n",
    "from sklearn.metrics import accuracy_score, precision_score, recall_score,f1_score, confusion_matrix, classification_report\n",
    "from IPython.display import display, Markdown\n",
    "\n",
    "# Pipelines\n",
    "from sklearn.pipeline import Pipeline, FeatureUnion\n",
    "from sklearn.base import BaseEstimator, TransformerMixin\n",
    "from sklearn.compose import ColumnTransformer\n",
    "from imblearn.pipeline import Pipeline as PipeImb\n",
    "from imblearn.pipeline import make_pipeline\n",
    "\n",
    "\n",
    "# Machine Learning\n",
    "from sklearn.tree import DecisionTreeClassifier\n",
    "from sklearn.ensemble import RandomForestClassifier\n",
    "from sklearn.neighbors import KNeighborsClassifier\n",
    "from sklearn.linear_model import LogisticRegression\n",
    "from xgboost import XGBClassifier\n",
    "from sklearn.svm import SVC\n",
    "from sklearn.naive_bayes import GaussianNB\n",
    "from sklearn.ensemble import StackingClassifier\n",
    "from sklearn.ensemble import BaggingClassifier\n",
    "\n",
    "\n",
    "#Validation methods\n",
    "from sklearn.model_selection import KFold\n",
    "from sklearn.model_selection import RepeatedStratifiedKFold\n",
    "\n",
    "#Sampling methods\n",
    "from imblearn.over_sampling import SMOTENC\n"
   ]
  },
  {
   "cell_type": "code",
   "execution_count": 24,
   "id": "8c93688b",
   "metadata": {},
   "outputs": [],
   "source": [
    "#Look at pipeline and what it does\n",
    "# from sklearn import set_config\n",
    "#set_config(display='diagram')\n",
    "#display(search2)"
   ]
  },
  {
   "cell_type": "markdown",
   "id": "ad9ad139",
   "metadata": {},
   "source": [
    "# User defined functions"
   ]
  },
  {
   "cell_type": "code",
   "execution_count": 25,
   "id": "20e32e12",
   "metadata": {},
   "outputs": [],
   "source": [
    "def a_xy_split(dataframe,y_name,test_size=.3):\n",
    "   \n",
    "    #Get xy split and train/test data ready\n",
    "    X = dataframe.drop([y_name], axis=1)\n",
    "    y = dataframe.attrition\n",
    "    y = LabelEncoder().fit_transform(y)\n",
    "    X_train, X_test, y_train, y_test = train_test_split(X, y, test_size=test_size,random_state=42)\n",
    "\n",
    "    #Prep numerical and other column types for use in preprocessor\n",
    "    numerical=X.select_dtypes(include='number')\n",
    "    categorical=X.select_dtypes(include='object')\n",
    "    numerical_columns=list(numerical.columns)\n",
    "    categorical_columns=list(categorical.columns)\n",
    "    columns=list(X.columns)\n",
    "    cat_col_bool=[True if x in categorical_columns else False for x in columns]\n",
    "\n",
    "    return X_train, X_test, y_train, y_test,numerical_columns,categorical_columns,cat_col_bool"
   ]
  },
  {
   "cell_type": "code",
   "execution_count": 26,
   "id": "57e7ac9b-355b-4c53-8460-484e540fba05",
   "metadata": {},
   "outputs": [],
   "source": [
    "def b_preprocessors():\n",
    "    #Creating ss transformer to scale the continuous numerical data with StandardScaler()\n",
    "    ss = Pipeline(steps=[('ss', StandardScaler())])\n",
    "    #--------------------------------------------------------------------\n",
    "    #Creating ohe transformer to encode the categorical data with OneHotEncoder()\n",
    "    ohe = Pipeline(steps=[('ohe', OneHotEncoder(handle_unknown='ignore', drop='first'))])\n",
    "    #--------------------------------------------------------------------\n",
    "    #Creating preprocess column transformer to combine the ss and ohe pipelines\n",
    "    preprocess = ColumnTransformer(\n",
    "                        transformers=[\n",
    "                            ('num', ss, numerical_columns),\n",
    "                            ('cat', ohe, categorical_columns)\n",
    "                        ])\n",
    "    return preprocess\n",
    "\n"
   ]
  },
  {
   "cell_type": "code",
   "execution_count": 27,
   "id": "03fddc61",
   "metadata": {},
   "outputs": [],
   "source": [
    "def c_get_standard_params():\n",
    "        #Creating parameter grid for Random Forest\n",
    "        rand_forest_parms = {'classifier__n_estimators': [100, 300, 500],\n",
    "                'classifier__max_depth':[6, 25, 50, 70],\n",
    "                'classifier__min_samples_split': [2, 5, 10],\n",
    "                'classifier__min_samples_leaf': [1, 2, 10]}\n",
    "        \n",
    "        decision_tree_params = {'classifier__max_depth':[6, 25, 50, 70],\n",
    "                'classifier__min_samples_split': [2, 5, 10],\n",
    "                'classifier__min_samples_leaf': [1, 2, 10],\n",
    "                'classifier__max_features': [1,2,5,10]}\n",
    "\n",
    "        xgb_params = { 'classifier__max_depth': [3,6,10],\n",
    "                'classifier__learning_rate': [0.01, 0.05, 0.1, 0.2, 0.3],\n",
    "                'classifier__n_estimators': [100, 500, 1000],\n",
    "                'classifier__colsample_bytree': [0.3, 0.7],\n",
    "                'classifier__subsample':[.6,1]}\n",
    "\n",
    "        log_regress_params={'classifier__solver':['newton-cg', 'lbfgs', 'liblinear', 'sag', 'saga'],\n",
    "                        'classifier__penalty':['none','l1','l2','elasticnet'],\n",
    "                        'classifier__C':[100,10,1.0, 0.1,0.01]}\n",
    "        \n",
    "        knn_params={'classifier__n_neighbors':[1, 5, 10],\n",
    "        'classifier__weights': ['uniform', 'distance'],\n",
    "        'classifier__metric': ['euclidean', 'manhattan', 'minkowski']}\n",
    "\n",
    "        gaussian_params={'classifier__var_smoothing': [1e-11, 1e-10, 1e-9]}\n",
    "\n",
    "        bagging_params= {'classifier__base_estimator__max_depth' : [1, 2, 3, 4, 5],\n",
    "        'classifier__max_samples' : [0.05, 0.1, 0.2, 0.5]}\n",
    "\n",
    "        return rand_forest_parms,xgb_params,log_regress_params,knn_params,gaussian_params,bagging_params,decision_tree_params"
   ]
  },
  {
   "cell_type": "code",
   "execution_count": 28,
   "id": "d440f89a",
   "metadata": {},
   "outputs": [],
   "source": [
    "def _evaluation(y, y_hat, title = 'Confusion Matrix'):\n",
    "    cm = confusion_matrix(y, y_hat)\n",
    "    precision = precision_score(y, y_hat)\n",
    "    recall = recall_score(y, y_hat)\n",
    "    accuracy = accuracy_score(y,y_hat)\n",
    "    f1 = f1_score(y,y_hat)\n",
    "    print('Accuracy: ', accuracy)\n",
    "    print('Recall: ', recall)\n",
    "    print('Precision: ', precision)\n",
    "    print('F1: ', f1)\n",
    "    sns.heatmap(cm,  cmap= 'PuBu', annot=True, fmt='g', annot_kws=    {'size':20})\n",
    "    plt.xlabel('predicted', fontsize=18)\n",
    "    plt.ylabel('actual', fontsize=18)\n",
    "    plt.title(title, fontsize=18)\n",
    "    \n",
    "    plt.show()\n",
    "\n"
   ]
  },
  {
   "cell_type": "markdown",
   "id": "f52bce89-78df-41da-8921-2bb4f90966ab",
   "metadata": {},
   "source": [
    "# Stack formula"
   ]
  },
  {
   "cell_type": "code",
   "execution_count": 29,
   "id": "54e39dd6-f3fd-4002-a160-371c906fb191",
   "metadata": {},
   "outputs": [],
   "source": [
    "def _get_stacking():\n",
    "    # define the base models\n",
    "    level0 = list()\n",
    "    level0.append(('bag',BaggingClassifier(base_estimator=LogisticRegression(max_iter=100,penalty='l1',solver='saga',warm_start=True,random_state=1234),n_estimators=15,bootstrap=True,warm_start=True,n_jobs=-1,random_state=1234)))\n",
    "    #level0.append(('dt',DecisionTreeClassifier(max_depth= 6, max_features=1, min_samples_leaf= 2, min_samples_split= 10,random_state=1234)))\n",
    "    #level0.append(('gau',GaussianNB()))\n",
    "    #level0.append(('xgb', XGBClassifier()))\n",
    "    #level0.append(('svm', SVC(random_state=42)))\n",
    "    #level0.append(('lr', LogisticRegression(max_iter=100,penalty='l1',solver='saga',random_state=1234)))\n",
    "    level0.append(('knn', KNeighborsClassifier(metric='manhattan',n_neighbors=10,weights='distance')))\n",
    "    # define meta learner model\n",
    "    level1 = LogisticRegression(random_state=1234)\n",
    "    # define the stacking ensemble\n",
    "    model = StackingClassifier(estimators=level0, final_estimator=level1, cv=5)\n",
    "    return model"
   ]
  },
  {
   "cell_type": "code",
   "execution_count": 30,
   "id": "5d272411-269c-4b11-9c77-5993fd24e2c4",
   "metadata": {},
   "outputs": [],
   "source": [
    "def d_check_best_model(smote_type=\"nc\"):\n",
    "    stack=_get_stacking()\n",
    "    models=[LogisticRegression(),RandomForestClassifier(),XGBClassifier(),KNeighborsClassifier(),DecisionTreeClassifier(),stack,SVC(),GaussianNB(),BaggingClassifier()]\n",
    "    avg_acc=[]\n",
    "    avg_rec=[]\n",
    "    avg_prec=[]\n",
    "    f1=[]\n",
    "    for i in models:\n",
    "        print (i)\n",
    "        a,r,p,f=e_cross_validate_grid(preprocess,i,cv=KFold(),grid_search=False,smote_type=smote_type,check_best=True)\n",
    "        avg_acc.append(a)\n",
    "        avg_rec.append(r)\n",
    "        avg_prec.append(p)\n",
    "        f1.append(f)\n",
    "        print()\n",
    "    res_df=pd.DataFrame(columns=[\"model\",'accuracy','recall','precision','f1'])\n",
    "    res_df['model']=models\n",
    "    res_df['accuracy']=avg_acc\n",
    "    res_df['recall']=avg_rec\n",
    "    res_df['precision']=avg_prec\n",
    "    res_df['f1']=f1\n",
    "    return res_df.sort_values(by=\"f1\",ascending=False)"
   ]
  },
  {
   "cell_type": "code",
   "execution_count": 31,
   "id": "c88b95ac",
   "metadata": {},
   "outputs": [],
   "source": [
    "def e_cross_validate_grid(preprocessor, classifier, smote_type='NC', param_grid=\"none\", cv=\"none\", scoring=\"recall\", conf_matrix=False, grid_search=False,check_best=False):\n",
    "    cv = cv\n",
    "\n",
    "    #Set correct pipeline for use in the formula\n",
    "    pipeline = PipeImb(steps=[\n",
    "    ('preprocess', preprocessor),\n",
    "    ('classifier', classifier)])\n",
    "\n",
    "\n",
    "    if smote_type.lower()==\"nc\":\n",
    "        pipeline.steps.insert(0,('smote',SMOTENC(categorical_features=X_train.dtypes==object,random_state=1234,n_jobs=-1)))\n",
    "\n",
    "\n",
    "    if grid_search==True:\n",
    "        search = GridSearchCV(pipeline, param_grid=param_grid, cv=cv,scoring=scoring)\n",
    "    else:\n",
    "        search=pipeline\n",
    "# Run train and validation methods, print average result for each\n",
    "    train_acc = []\n",
    "    train_rec=[]\n",
    "    train_prec=[]\n",
    "    test_acc = []\n",
    "    test_rec=[]\n",
    "    test_prec=[]\n",
    "    for train_ind, val_ind in cv.split(X_train, y_train):\n",
    "        X_t, y_t = X_train.iloc[train_ind], y_train[train_ind]\n",
    "        search.fit(X_t, y_t)\n",
    "        y_hat_t = search.predict(X_t)\n",
    "        train_acc.append(accuracy_score(y_t, y_hat_t))\n",
    "        train_rec.append(recall_score(y_t,y_hat_t))\n",
    "        train_prec.append(precision_score(y_t,y_hat_t))\n",
    "        X_val, y_val = X_train.iloc[val_ind], y_train[val_ind]\n",
    "        y_hat_val = search.predict(X_val)\n",
    "        test_acc.append(accuracy_score(y_val, y_hat_val))\n",
    "        test_rec.append(recall_score(y_val, y_hat_val))\n",
    "        test_prec.append(precision_score(y_val, y_hat_val))\n",
    "\n",
    "    if conf_matrix==True:\n",
    "        print(\"Validation set confusion matrix\")\n",
    "        print(_evaluation(y_val, y_hat_val))\n",
    "        print()\n",
    "    print('Avg Training Accuracy: {}'.format(np.mean(train_acc)))\n",
    "    print(\"Avg Training Recall: {}\".format(np.mean(train_rec)))\n",
    "    print(\"Avg Training Precision: {}\".format(np.mean(train_prec)))\n",
    "    print()\n",
    "    print('Avg Validation Accuracy: {}'.format(np.mean(test_acc)))\n",
    "    print(\"Avg Validation Recall: {}\".format(np.mean(test_rec)))\n",
    "    print(\"Avg Validation Precision: {}\".format(np.mean(test_prec)))\n",
    "    print()\n",
    "\n",
    "# If grid search used, print best estimator's features\n",
    "    if (grid_search==True):\n",
    "        ohe_cols = list(search.best_estimator_.named_steps['preprocess'].named_transformers_['cat'].named_steps['ohe'].get_feature_names_out(\n",
    "        input_features=categorical_columns))\n",
    "        num_feats = list(numerical_columns)\n",
    "        num_feats.extend(ohe_cols)\n",
    "        feat_imp = eli5.explain_weights_df(search.best_estimator_.named_steps['classifier'], top=10, feature_names=num_feats)\n",
    "        print(feat_imp)\n",
    "        print()\n",
    "        print('Grid Search Best Params:')\n",
    "        print()\n",
    "        print(search.best_params_)\n",
    "    if check_best==True:\n",
    "        acc= np.mean(test_acc)\n",
    "        rec=np.mean(test_rec)\n",
    "        prec=np.mean(test_prec)\n",
    "        f1=2*(prec*rec)/(prec+rec)\n",
    "\n",
    "        return acc,rec,prec,f1\n",
    "    else:\n",
    "        return search\n"
   ]
  },
  {
   "cell_type": "code",
   "execution_count": 32,
   "id": "468a6274",
   "metadata": {},
   "outputs": [],
   "source": [
    "def g_validate_using_test(preprocessor, classifier, grid, cv):\n",
    "    final_pipeline = GridSearchCV(PipeImb(steps=[\n",
    "            ('preprocess', preprocessor),\n",
    "            ('classifier', classifier)\n",
    "        ]), grid, cv=cv)\n",
    "    #Fit and predict on train data\n",
    "    final_pipeline.fit(X_train, y_train)\n",
    "\n",
    "    train_pred = final_pipeline.best_estimator_.predict(X_train)\n",
    "    #train_pred=final_pipeline.predict(X_train)\n",
    "\n",
    "    print('Evaluation on training data \\n')\n",
    "    print(_evaluation(y_train, train_pred))\n",
    "    print('\\n')\n",
    "    #Predict on test data\n",
    "\n",
    "    test_pred = final_pipeline.best_estimator_.predict(X_test)\n",
    "    #test_pred = final_pipeline.predict(X_test)\n",
    "    print('Evaluation on testing data \\n')\n",
    "    print(_evaluation(y_test, test_pred))"
   ]
  },
  {
   "cell_type": "code",
   "execution_count": 33,
   "id": "7c9e9359-1578-4338-a309-2468974cafeb",
   "metadata": {},
   "outputs": [],
   "source": [
    "def f_validate_pipeline_on_test(pipeline):\n",
    "    test_pred = pipeline.predict(X_test)\n",
    "    #test_pred = final_pipeline.predict(X_test)\n",
    "    print('Evaluation on testing data \\n')\n",
    "    print(_evaluation(y_test, test_pred))"
   ]
  },
  {
   "cell_type": "markdown",
   "id": "8592a219",
   "metadata": {},
   "source": [
    "# Code here"
   ]
  },
  {
   "cell_type": "code",
   "execution_count": 34,
   "id": "121dac97-6d7b-4887-b51d-c6c2df1ef523",
   "metadata": {},
   "outputs": [],
   "source": [
    "df=pd.read_csv(r\"Data\\4b.IBM_data_cleaned_dropped - Copy - Copy.csv\")\n",
    "df2=df[df['age']<42].copy()\n"
   ]
  },
  {
   "cell_type": "code",
   "execution_count": 35,
   "id": "c3e1088b",
   "metadata": {},
   "outputs": [],
   "source": [
    "y_name='attrition'\n",
    "X_train, X_test, y_train, y_test,numerical_columns,categorical_columns,cat_col_bool=a_xy_split(df2,y_name,test_size=.3)\n",
    "#X_train, X_test, y_train, y_test,numerical_columns,categorical_columns,cat_col_bool=a_xy_split(df2,y_name,test_size=.2)\n",
    "preprocess=b_preprocessors()\n",
    "rand_forest_parms,xgb_params,log_regress_params,knn_params,gaussian_params,bagging_params,decision_tree_params=c_get_standard_params()\n",
    "stack=_get_stacking()"
   ]
  },
  {
   "cell_type": "code",
   "execution_count": 36,
   "id": "2a3677b6",
   "metadata": {},
   "outputs": [
    {
     "name": "stdout",
     "output_type": "stream",
     "text": [
      "LogisticRegression()\n",
      "Avg Training Accuracy: 0.8652505561409672\n",
      "Avg Training Recall: 0.7093397085124342\n",
      "Avg Training Precision: 0.6379918892753117\n",
      "\n",
      "Avg Validation Accuracy: 0.8303513186096356\n",
      "Avg Validation Recall: 0.6435675618411991\n",
      "Avg Validation Precision: 0.5520904335420465\n",
      "\n",
      "\n",
      "RandomForestClassifier()\n",
      "Avg Training Accuracy: 1.0\n",
      "Avg Training Recall: 1.0\n",
      "Avg Training Precision: 1.0\n",
      "\n",
      "Avg Validation Accuracy: 0.8399217221135029\n",
      "Avg Validation Recall: 0.4638108656885075\n",
      "Avg Validation Precision: 0.6302105263157894\n",
      "\n",
      "\n",
      "XGBClassifier(base_score=None, booster=None, callbacks=None,\n",
      "              colsample_bylevel=None, colsample_bynode=None,\n",
      "              colsample_bytree=None, early_stopping_rounds=None,\n",
      "              enable_categorical=False, eval_metric=None, gamma=None,\n",
      "              gpu_id=None, grow_policy=None, importance_type=None,\n",
      "              interaction_constraints=None, learning_rate=None, max_bin=None,\n",
      "              max_cat_to_onehot=None, max_delta_step=None, max_depth=None,\n",
      "              max_leaves=None, min_child_weight=None, missing=nan,\n",
      "              monotone_constraints=None, n_estimators=100, n_jobs=None,\n",
      "              num_parallel_tree=None, predictor=None, random_state=None,\n",
      "              reg_alpha=None, reg_lambda=None, ...)\n",
      "Avg Training Accuracy: 1.0\n",
      "Avg Training Recall: 1.0\n",
      "Avg Training Precision: 1.0\n",
      "\n",
      "Avg Validation Accuracy: 0.8303699562016588\n",
      "Avg Validation Recall: 0.5033495065063474\n",
      "Avg Validation Precision: 0.5858921551370064\n",
      "\n",
      "\n",
      "KNeighborsClassifier()\n",
      "Avg Training Accuracy: 0.8857750848846738\n",
      "Avg Training Recall: 0.9244050661679951\n",
      "Avg Training Precision: 0.6430125688364219\n",
      "\n",
      "Avg Validation Accuracy: 0.7797222998788556\n",
      "Avg Validation Recall: 0.587132863675689\n",
      "Avg Validation Precision: 0.44989623379716265\n",
      "\n",
      "\n",
      "DecisionTreeClassifier()\n",
      "Avg Training Accuracy: 1.0\n",
      "Avg Training Recall: 1.0\n",
      "Avg Training Precision: 1.0\n",
      "\n",
      "Avg Validation Accuracy: 0.7331842325971485\n",
      "Avg Validation Recall: 0.46505923689460954\n",
      "Avg Validation Precision: 0.3497619047619048\n",
      "\n",
      "\n",
      "StackingClassifier(cv=5,\n",
      "                   estimators=[('bag',\n",
      "                                BaggingClassifier(base_estimator=LogisticRegression(penalty='l1',\n",
      "                                                                                    random_state=1234,\n",
      "                                                                                    solver='saga',\n",
      "                                                                                    warm_start=True),\n",
      "                                                  n_estimators=15, n_jobs=-1,\n",
      "                                                  random_state=1234,\n",
      "                                                  warm_start=True)),\n",
      "                               ('knn',\n",
      "                                KNeighborsClassifier(metric='manhattan',\n",
      "                                                     n_neighbors=10,\n",
      "                                                     weights='distance'))],\n",
      "                   final_estimator=LogisticRegression(random_state=1234))\n",
      "Avg Training Accuracy: 1.0\n",
      "Avg Training Recall: 1.0\n",
      "Avg Training Precision: 1.0\n",
      "\n",
      "Avg Validation Accuracy: 0.8440033547665642\n",
      "Avg Validation Recall: 0.5297693733778271\n",
      "Avg Validation Precision: 0.6270797299762817\n",
      "\n",
      "\n",
      "SVC()\n",
      "Avg Training Accuracy: 0.94664676267416\n",
      "Avg Training Recall: 0.8644255148057575\n",
      "Avg Training Precision: 0.8625284096267061\n",
      "\n",
      "Avg Validation Accuracy: 0.8358214518684186\n",
      "Avg Validation Recall: 0.5335548139908541\n",
      "Avg Validation Precision: 0.5920154922538731\n",
      "\n",
      "\n",
      "GaussianNB()\n",
      "Avg Training Accuracy: 0.4104109589041096\n",
      "Avg Training Recall: 0.9090904892753736\n",
      "Avg Training Precision: 0.23619960813650587\n",
      "\n",
      "Avg Validation Accuracy: 0.395284689218153\n",
      "Avg Validation Recall: 0.8932995744831118\n",
      "Avg Validation Precision: 0.22937543327914178\n",
      "\n",
      "\n",
      "BaggingClassifier()\n",
      "Avg Training Accuracy: 0.9911081840533896\n",
      "Avg Training Recall: 0.9568393294360599\n",
      "Avg Training Precision: 0.995959595959596\n",
      "\n",
      "Avg Validation Accuracy: 0.8111639176218433\n",
      "Avg Validation Recall: 0.4018267916732878\n",
      "Avg Validation Precision: 0.5178375054896793\n",
      "\n",
      "\n"
     ]
    },
    {
     "data": {
      "text/html": [
       "<div>\n",
       "<style scoped>\n",
       "    .dataframe tbody tr th:only-of-type {\n",
       "        vertical-align: middle;\n",
       "    }\n",
       "\n",
       "    .dataframe tbody tr th {\n",
       "        vertical-align: top;\n",
       "    }\n",
       "\n",
       "    .dataframe thead th {\n",
       "        text-align: right;\n",
       "    }\n",
       "</style>\n",
       "<table border=\"1\" class=\"dataframe\">\n",
       "  <thead>\n",
       "    <tr style=\"text-align: right;\">\n",
       "      <th></th>\n",
       "      <th>model</th>\n",
       "      <th>accuracy</th>\n",
       "      <th>recall</th>\n",
       "      <th>precision</th>\n",
       "      <th>f1</th>\n",
       "    </tr>\n",
       "  </thead>\n",
       "  <tbody>\n",
       "    <tr>\n",
       "      <th>0</th>\n",
       "      <td>LogisticRegression()</td>\n",
       "      <td>0.830351</td>\n",
       "      <td>0.643568</td>\n",
       "      <td>0.552090</td>\n",
       "      <td>0.594330</td>\n",
       "    </tr>\n",
       "    <tr>\n",
       "      <th>5</th>\n",
       "      <td>StackingClassifier(cv=5,\\n                   e...</td>\n",
       "      <td>0.844003</td>\n",
       "      <td>0.529769</td>\n",
       "      <td>0.627080</td>\n",
       "      <td>0.574332</td>\n",
       "    </tr>\n",
       "    <tr>\n",
       "      <th>6</th>\n",
       "      <td>SVC()</td>\n",
       "      <td>0.835821</td>\n",
       "      <td>0.533555</td>\n",
       "      <td>0.592015</td>\n",
       "      <td>0.561267</td>\n",
       "    </tr>\n",
       "    <tr>\n",
       "      <th>2</th>\n",
       "      <td>XGBClassifier(base_score=0.5, booster='gbtree'...</td>\n",
       "      <td>0.830370</td>\n",
       "      <td>0.503350</td>\n",
       "      <td>0.585892</td>\n",
       "      <td>0.541493</td>\n",
       "    </tr>\n",
       "    <tr>\n",
       "      <th>1</th>\n",
       "      <td>(DecisionTreeClassifier(max_features='auto', r...</td>\n",
       "      <td>0.839922</td>\n",
       "      <td>0.463811</td>\n",
       "      <td>0.630211</td>\n",
       "      <td>0.534356</td>\n",
       "    </tr>\n",
       "    <tr>\n",
       "      <th>3</th>\n",
       "      <td>KNeighborsClassifier()</td>\n",
       "      <td>0.779722</td>\n",
       "      <td>0.587133</td>\n",
       "      <td>0.449896</td>\n",
       "      <td>0.509434</td>\n",
       "    </tr>\n",
       "    <tr>\n",
       "      <th>8</th>\n",
       "      <td>(DecisionTreeClassifier(random_state=365119911...</td>\n",
       "      <td>0.811164</td>\n",
       "      <td>0.401827</td>\n",
       "      <td>0.517838</td>\n",
       "      <td>0.452515</td>\n",
       "    </tr>\n",
       "    <tr>\n",
       "      <th>4</th>\n",
       "      <td>DecisionTreeClassifier()</td>\n",
       "      <td>0.733184</td>\n",
       "      <td>0.465059</td>\n",
       "      <td>0.349762</td>\n",
       "      <td>0.399253</td>\n",
       "    </tr>\n",
       "    <tr>\n",
       "      <th>7</th>\n",
       "      <td>GaussianNB()</td>\n",
       "      <td>0.395285</td>\n",
       "      <td>0.893300</td>\n",
       "      <td>0.229375</td>\n",
       "      <td>0.365023</td>\n",
       "    </tr>\n",
       "  </tbody>\n",
       "</table>\n",
       "</div>"
      ],
      "text/plain": [
       "                                               model  accuracy    recall  \\\n",
       "0                               LogisticRegression()  0.830351  0.643568   \n",
       "5  StackingClassifier(cv=5,\\n                   e...  0.844003  0.529769   \n",
       "6                                              SVC()  0.835821  0.533555   \n",
       "2  XGBClassifier(base_score=0.5, booster='gbtree'...  0.830370  0.503350   \n",
       "1  (DecisionTreeClassifier(max_features='auto', r...  0.839922  0.463811   \n",
       "3                             KNeighborsClassifier()  0.779722  0.587133   \n",
       "8  (DecisionTreeClassifier(random_state=365119911...  0.811164  0.401827   \n",
       "4                           DecisionTreeClassifier()  0.733184  0.465059   \n",
       "7                                       GaussianNB()  0.395285  0.893300   \n",
       "\n",
       "   precision        f1  \n",
       "0   0.552090  0.594330  \n",
       "5   0.627080  0.574332  \n",
       "6   0.592015  0.561267  \n",
       "2   0.585892  0.541493  \n",
       "1   0.630211  0.534356  \n",
       "3   0.449896  0.509434  \n",
       "8   0.517838  0.452515  \n",
       "4   0.349762  0.399253  \n",
       "7   0.229375  0.365023  "
      ]
     },
     "execution_count": 36,
     "metadata": {},
     "output_type": "execute_result"
    }
   ],
   "source": [
    "d_check_best_model()"
   ]
  },
  {
   "cell_type": "markdown",
   "id": "00f2a497",
   "metadata": {},
   "source": [
    "# Stack option"
   ]
  },
  {
   "cell_type": "code",
   "execution_count": 54,
   "id": "b834aad4-986b-4ad1-8030-a4d02f695d37",
   "metadata": {
    "tags": []
   },
   "outputs": [
    {
     "name": "stdout",
     "output_type": "stream",
     "text": [
      "Avg Training Accuracy: 1.0\n",
      "Avg Training Recall: 1.0\n",
      "Avg Training Precision: 1.0\n",
      "\n",
      "Avg Validation Accuracy: 0.8440033547665642\n",
      "Avg Validation Recall: 0.5297693733778271\n",
      "Avg Validation Precision: 0.6270797299762817\n",
      "\n"
     ]
    }
   ],
   "source": [
    "pipeline_stack=e_cross_validate_grid(preprocess,stack,scoring='recall', cv=KFold(),grid_search=False,conf_matrix=False)"
   ]
  },
  {
   "cell_type": "code",
   "execution_count": 38,
   "id": "38b1f099",
   "metadata": {},
   "outputs": [
    {
     "name": "stdout",
     "output_type": "stream",
     "text": [
      "Evaluation on testing data \n",
      "\n",
      "Accuracy:  0.8503184713375797\n",
      "Recall:  0.4897959183673469\n",
      "Precision:  0.5217391304347826\n",
      "F1:  0.5052631578947369\n"
     ]
    },
    {
     "data": {
      "image/png": "[encoded data removed]",
      "text/plain": [
       "<Figure size 432x288 with 2 Axes>"
      ]
     },
     "metadata": {
      "needs_background": "light"
     },
     "output_type": "display_data"
    },
    {
     "name": "stdout",
     "output_type": "stream",
     "text": [
      "None\n"
     ]
    }
   ],
   "source": [
    "f_validate_pipeline_on_test(pipeline_stack)"
   ]
  },
  {
   "cell_type": "markdown",
   "id": "fb228667",
   "metadata": {},
   "source": [
    "# Log Regression only"
   ]
  },
  {
   "cell_type": "code",
   "execution_count": 39,
   "id": "cb931e83-fdd1-4000-ac0e-06da36da7e89",
   "metadata": {},
   "outputs": [
    {
     "name": "stdout",
     "output_type": "stream",
     "text": [
      "Avg Training Accuracy: 0.8652505561409672\n",
      "Avg Training Recall: 0.7093397085124342\n",
      "Avg Training Precision: 0.6379918892753117\n",
      "\n",
      "Avg Validation Accuracy: 0.8303513186096356\n",
      "Avg Validation Recall: 0.6435675618411991\n",
      "Avg Validation Precision: 0.5520904335420465\n",
      "\n"
     ]
    }
   ],
   "source": [
    "pipeline_log=e_cross_validate_grid(preprocess,LogisticRegression(random_state=1234),scoring='recall', cv=KFold(),grid_search=False,conf_matrix=False)"
   ]
  },
  {
   "cell_type": "code",
   "execution_count": 40,
   "id": "96b34d39",
   "metadata": {},
   "outputs": [
    {
     "name": "stdout",
     "output_type": "stream",
     "text": [
      "Evaluation on testing data \n",
      "\n",
      "Accuracy:  0.8662420382165605\n",
      "Recall:  0.673469387755102\n",
      "Precision:  0.559322033898305\n",
      "F1:  0.611111111111111\n"
     ]
    },
    {
     "data": {
      "image/png": "[encoded data removed]",
      "text/plain": [
       "<Figure size 432x288 with 2 Axes>"
      ]
     },
     "metadata": {
      "needs_background": "light"
     },
     "output_type": "display_data"
    },
    {
     "name": "stdout",
     "output_type": "stream",
     "text": [
      "None\n"
     ]
    }
   ],
   "source": [
    "f_validate_pipeline_on_test(pipeline_log)"
   ]
  },
  {
   "cell_type": "markdown",
   "id": "ad0e56e0",
   "metadata": {},
   "source": [
    "# Bag KNN"
   ]
  },
  {
   "cell_type": "code",
   "execution_count": 41,
   "id": "37994984-8e53-418e-a28b-f438e449fd18",
   "metadata": {
    "tags": []
   },
   "outputs": [
    {
     "name": "stdout",
     "output_type": "stream",
     "text": [
      "Validation set confusion matrix\n",
      "Accuracy:  0.8287671232876712\n",
      "Recall:  0.6388888888888888\n",
      "Precision:  0.6571428571428571\n",
      "F1:  0.647887323943662\n"
     ]
    },
    {
     "data": {
      "image/png": "[encoded data removed]",
      "text/plain": [
       "<Figure size 432x288 with 2 Axes>"
      ]
     },
     "metadata": {
      "needs_background": "light"
     },
     "output_type": "display_data"
    },
    {
     "name": "stdout",
     "output_type": "stream",
     "text": [
      "None\n",
      "\n",
      "Avg Training Accuracy: 0.996580025758108\n",
      "Avg Training Recall: 0.9930094832749699\n",
      "Avg Training Precision: 0.9895829573639091\n",
      "\n",
      "Avg Validation Accuracy: 0.8002516074923118\n",
      "Avg Validation Recall: 0.5968640641276904\n",
      "Avg Validation Precision: 0.4947483509532845\n",
      "\n"
     ]
    }
   ],
   "source": [
    "pipeline_bag_knn=e_cross_validate_grid(preprocess,BaggingClassifier(base_estimator=KNeighborsClassifier(metric='manhattan',n_neighbors=10,weights='distance')),scoring='recall', cv=KFold(),param_grid=knn_params,grid_search=False,conf_matrix=True)"
   ]
  },
  {
   "cell_type": "code",
   "execution_count": 42,
   "id": "6bb866d7",
   "metadata": {},
   "outputs": [
    {
     "name": "stdout",
     "output_type": "stream",
     "text": [
      "Evaluation on testing data \n",
      "\n",
      "Accuracy:  0.7547770700636943\n",
      "Recall:  0.5102040816326531\n",
      "Precision:  0.32051282051282054\n",
      "F1:  0.3937007874015748\n"
     ]
    },
    {
     "data": {
      "image/png": "[encoded data removed]",
      "text/plain": [
       "<Figure size 432x288 with 2 Axes>"
      ]
     },
     "metadata": {
      "needs_background": "light"
     },
     "output_type": "display_data"
    },
    {
     "name": "stdout",
     "output_type": "stream",
     "text": [
      "None\n"
     ]
    }
   ],
   "source": [
    "f_validate_pipeline_on_test(pipeline_bag_knn)"
   ]
  },
  {
   "cell_type": "markdown",
   "id": "818be07d",
   "metadata": {},
   "source": [
    "# Bag LR"
   ]
  },
  {
   "cell_type": "code",
   "execution_count": 43,
   "id": "7a604218-4453-4dd6-bf78-8d328c14e55b",
   "metadata": {},
   "outputs": [
    {
     "name": "stderr",
     "output_type": "stream",
     "text": [
      "c:\\Users\\MichaelTaylo_c9zoof3\\anaconda3\\envs\\DA_Env\\lib\\site-packages\\sklearn\\ensemble\\_bagging.py:374: UserWarning: Warm-start fitting without increasing n_estimators does not fit new trees.\n",
      "  warn(\n",
      "c:\\Users\\MichaelTaylo_c9zoof3\\anaconda3\\envs\\DA_Env\\lib\\site-packages\\sklearn\\ensemble\\_bagging.py:374: UserWarning: Warm-start fitting without increasing n_estimators does not fit new trees.\n",
      "  warn(\n",
      "c:\\Users\\MichaelTaylo_c9zoof3\\anaconda3\\envs\\DA_Env\\lib\\site-packages\\sklearn\\ensemble\\_bagging.py:374: UserWarning: Warm-start fitting without increasing n_estimators does not fit new trees.\n",
      "  warn(\n",
      "c:\\Users\\MichaelTaylo_c9zoof3\\anaconda3\\envs\\DA_Env\\lib\\site-packages\\sklearn\\ensemble\\_bagging.py:374: UserWarning: Warm-start fitting without increasing n_estimators does not fit new trees.\n",
      "  warn(\n"
     ]
    },
    {
     "name": "stdout",
     "output_type": "stream",
     "text": [
      "Validation set confusion matrix\n",
      "Accuracy:  0.8698630136986302\n",
      "Recall:  0.75\n",
      "Precision:  0.7297297297297297\n",
      "F1:  0.7397260273972601\n"
     ]
    },
    {
     "data": {
      "image/png": "[encoded data removed]",
      "text/plain": [
       "<Figure size 432x288 with 2 Axes>"
      ]
     },
     "metadata": {
      "needs_background": "light"
     },
     "output_type": "display_data"
    },
    {
     "name": "stdout",
     "output_type": "stream",
     "text": [
      "None\n",
      "\n",
      "Avg Training Accuracy: 0.8549935604730126\n",
      "Avg Training Recall: 0.7388799311506091\n",
      "Avg Training Precision: 0.6029407474960526\n",
      "\n",
      "Avg Validation Accuracy: 0.854990215264188\n",
      "Avg Validation Recall: 0.7457400286032099\n",
      "Avg Validation Precision: 0.6030782988871224\n",
      "\n"
     ]
    }
   ],
   "source": [
    "#One of better predictors\n",
    "pipeline_bag_lr=e_cross_validate_grid(preprocess,BaggingClassifier(base_estimator=LogisticRegression(max_iter=100,penalty='l1',solver='saga',warm_start=True),n_estimators=10,bootstrap=True,warm_start=True,n_jobs=-1),scoring='recall', cv=KFold(),param_grid=knn_params,grid_search=False,conf_matrix=True)"
   ]
  },
  {
   "cell_type": "code",
   "execution_count": 44,
   "id": "a26c019f",
   "metadata": {},
   "outputs": [
    {
     "name": "stdout",
     "output_type": "stream",
     "text": [
      "Evaluation on testing data \n",
      "\n",
      "Accuracy:  0.8757961783439491\n",
      "Recall:  0.6938775510204082\n",
      "Precision:  0.5862068965517241\n",
      "F1:  0.6355140186915887\n"
     ]
    },
    {
     "data": {
      "image/png": "[encoded data removed]",
      "text/plain": [
       "<Figure size 432x288 with 2 Axes>"
      ]
     },
     "metadata": {
      "needs_background": "light"
     },
     "output_type": "display_data"
    },
    {
     "name": "stdout",
     "output_type": "stream",
     "text": [
      "None\n"
     ]
    }
   ],
   "source": [
    "f_validate_pipeline_on_test(pipeline_bag_lr)"
   ]
  },
  {
   "cell_type": "markdown",
   "id": "4b7b14cb",
   "metadata": {},
   "source": [
    "# Bag LR best so far\n"
   ]
  },
  {
   "cell_type": "code",
   "execution_count": 45,
   "id": "85e95a8b-78a8-4ba3-898c-18b461ba6fe3",
   "metadata": {},
   "outputs": [
    {
     "name": "stderr",
     "output_type": "stream",
     "text": [
      "c:\\Users\\MichaelTaylo_c9zoof3\\anaconda3\\envs\\DA_Env\\lib\\site-packages\\sklearn\\ensemble\\_bagging.py:374: UserWarning: Warm-start fitting without increasing n_estimators does not fit new trees.\n",
      "  warn(\n",
      "c:\\Users\\MichaelTaylo_c9zoof3\\anaconda3\\envs\\DA_Env\\lib\\site-packages\\sklearn\\ensemble\\_bagging.py:374: UserWarning: Warm-start fitting without increasing n_estimators does not fit new trees.\n",
      "  warn(\n",
      "c:\\Users\\MichaelTaylo_c9zoof3\\anaconda3\\envs\\DA_Env\\lib\\site-packages\\sklearn\\ensemble\\_bagging.py:374: UserWarning: Warm-start fitting without increasing n_estimators does not fit new trees.\n",
      "  warn(\n",
      "c:\\Users\\MichaelTaylo_c9zoof3\\anaconda3\\envs\\DA_Env\\lib\\site-packages\\sklearn\\ensemble\\_bagging.py:374: UserWarning: Warm-start fitting without increasing n_estimators does not fit new trees.\n",
      "  warn(\n"
     ]
    },
    {
     "name": "stdout",
     "output_type": "stream",
     "text": [
      "Validation set confusion matrix\n",
      "Accuracy:  0.863013698630137\n",
      "Recall:  0.6944444444444444\n",
      "Precision:  0.7352941176470589\n",
      "F1:  0.7142857142857144\n"
     ]
    },
    {
     "data": {
      "image/png": "[encoded data removed]",
      "text/plain": [
       "<Figure size 432x288 with 2 Axes>"
      ]
     },
     "metadata": {
      "needs_background": "light"
     },
     "output_type": "display_data"
    },
    {
     "name": "stdout",
     "output_type": "stream",
     "text": [
      "None\n",
      "\n",
      "Avg Training Accuracy: 0.8529446200679077\n",
      "Avg Training Recall: 0.7255509058132048\n",
      "Avg Training Precision: 0.6006794158557083\n",
      "\n",
      "Avg Validation Accuracy: 0.8508899450191036\n",
      "Avg Validation Recall: 0.7335254692162367\n",
      "Avg Validation Precision: 0.5986104298178601\n",
      "\n",
      "Evaluation on testing data \n",
      "\n",
      "Accuracy:  0.8726114649681529\n",
      "Recall:  0.7142857142857143\n",
      "Precision:  0.5737704918032787\n",
      "F1:  0.6363636363636364\n"
     ]
    },
    {
     "data": {
      "image/png": "[encoded data removed]",
      "text/plain": [
       "<Figure size 432x288 with 2 Axes>"
      ]
     },
     "metadata": {
      "needs_background": "light"
     },
     "output_type": "display_data"
    },
    {
     "name": "stdout",
     "output_type": "stream",
     "text": [
      "None\n"
     ]
    }
   ],
   "source": [
    "#One of better predictors\n",
    "pipeline_bag_lr2=e_cross_validate_grid(preprocess,BaggingClassifier(base_estimator=LogisticRegression(max_iter=100,penalty='l1',solver='saga',warm_start=True,random_state=1234),n_estimators=15,bootstrap=True,warm_start=True,n_jobs=-1,random_state=1234),scoring='recall', cv=KFold(),param_grid=knn_params,grid_search=False,conf_matrix=True)\n",
    "f_validate_pipeline_on_test(pipeline_bag_lr2)"
   ]
  },
  {
   "cell_type": "code",
   "execution_count": 46,
   "id": "389f07b5",
   "metadata": {},
   "outputs": [],
   "source": [
    "df5=df2.copy()\n",
    "df5.drop(columns='attrition',axis=1,inplace=True)"
   ]
  },
  {
   "cell_type": "code",
   "execution_count": 47,
   "id": "be7abb99",
   "metadata": {},
   "outputs": [],
   "source": [
    "leave=pipeline_bag_lr2.predict_proba(df5)"
   ]
  },
  {
   "cell_type": "code",
   "execution_count": 48,
   "id": "39953970",
   "metadata": {},
   "outputs": [
    {
     "data": {
      "text/plain": [
       "1045"
      ]
     },
     "execution_count": 48,
     "metadata": {},
     "output_type": "execute_result"
    }
   ],
   "source": [
    "len(leave)"
   ]
  },
  {
   "cell_type": "code",
   "execution_count": 49,
   "id": "5f55bdb6",
   "metadata": {},
   "outputs": [],
   "source": [
    "df2['stay_prob']=leave[:,0]"
   ]
  },
  {
   "cell_type": "code",
   "execution_count": 50,
   "id": "84594a5a",
   "metadata": {},
   "outputs": [],
   "source": [
    "df2.to_csv(\"Data\\leave_chance.csv\")"
   ]
  },
  {
   "cell_type": "markdown",
   "id": "e3ff394a",
   "metadata": {},
   "source": [
    "# VotingClassifier"
   ]
  },
  {
   "cell_type": "code",
   "execution_count": 51,
   "id": "6cd32a20",
   "metadata": {},
   "outputs": [],
   "source": [
    "from sklearn.ensemble import RandomForestClassifier, VotingClassifier\n",
    "clf1=LogisticRegression(random_state=1234)\n",
    "clf2=stack\n",
    "clf3=SVC(probability=True,random_state=1324)\n",
    "clf4=BaggingClassifier(base_estimator=LogisticRegression(max_iter=100,penalty='l1',solver='saga',warm_start=True,random_state=1234),n_estimators=15,bootstrap=True,warm_start=True,n_jobs=-1,random_state=1234)\n",
    "clf5=KNeighborsClassifier(27)\n",
    "clf7=GaussianNB()\n",
    "clf6=DecisionTreeClassifier(max_depth= 6, max_features=1, min_samples_leaf= 2, min_samples_split= 10,random_state=1234)\n",
    "weght=[100,90]\n",
    "est=[('bag',clf4),('stack',clf5)]\n",
    "vote_c3=VotingClassifier(estimators=est,weights=weght,voting='soft',n_jobs=-1)\n",
    "vote_c4=VotingClassifier(estimators=est,voting='hard',weights=weght)\n",
    "\n"
   ]
  },
  {
   "cell_type": "code",
   "execution_count": 52,
   "id": "c50cc709",
   "metadata": {},
   "outputs": [
    {
     "name": "stdout",
     "output_type": "stream",
     "text": [
      "Avg Training Accuracy: 0.8573837958084534\n",
      "Avg Training Recall: 0.7657404131151455\n",
      "Avg Training Precision: 0.6050491371608596\n",
      "\n",
      "Avg Validation Accuracy: 0.822132140527444\n",
      "Avg Validation Recall: 0.6669090523862493\n",
      "Avg Validation Precision: 0.5373124538063563\n",
      "\n",
      "Evaluation on testing data \n",
      "\n",
      "Accuracy:  0.8503184713375797\n",
      "Recall:  0.7142857142857143\n",
      "Precision:  0.5147058823529411\n",
      "F1:  0.5982905982905982\n"
     ]
    },
    {
     "data": {
      "image/png": "[encoded data removed]",
      "text/plain": [
       "<Figure size 432x288 with 2 Axes>"
      ]
     },
     "metadata": {
      "needs_background": "light"
     },
     "output_type": "display_data"
    },
    {
     "name": "stdout",
     "output_type": "stream",
     "text": [
      "None\n"
     ]
    }
   ],
   "source": [
    "pipeline_vote2=e_cross_validate_grid(preprocess,vote_c3,scoring='recall', cv=KFold(),param_grid=knn_params,grid_search=False,conf_matrix=False)\n",
    "f_validate_pipeline_on_test(pipeline_vote2)"
   ]
  },
  {
   "cell_type": "code",
   "execution_count": 53,
   "id": "f7b38192",
   "metadata": {},
   "outputs": [
    {
     "name": "stdout",
     "output_type": "stream",
     "text": [
      "Avg Training Accuracy: 0.7773679896967568\n",
      "Avg Training Recall: 0.8200842059689339\n",
      "Avg Training Precision: 0.45996580782764995\n",
      "\n",
      "Avg Validation Accuracy: 0.7428105488770851\n",
      "Avg Validation Recall: 0.7246294118685666\n",
      "Avg Validation Precision: 0.4073206463363377\n",
      "\n"
     ]
    }
   ],
   "source": [
    "knnpipe=e_cross_validate_grid(preprocess,KNeighborsClassifier(27),'nc',cv=KFold())"
   ]
  },
  {
   "cell_type": "code",
   "execution_count": 58,
   "id": "302982d3",
   "metadata": {},
   "outputs": [
    {
     "ename": "KeyboardInterrupt",
     "evalue": "",
     "output_type": "error",
     "traceback": [
      "\u001b[1;31m---------------------------------------------------------------------------\u001b[0m",
      "\u001b[1;31mKeyboardInterrupt\u001b[0m                         Traceback (most recent call last)",
      "\u001b[1;32mc:\\Users\\MichaelTaylo_c9zoof3\\Documents\\GitHub\\Ironhack_final_project\\modelling pipeline desktop.ipynb Cell 41\u001b[0m in \u001b[0;36m<cell line: 1>\u001b[1;34m()\u001b[0m\n\u001b[1;32m----> <a href='vscode-notebook-cell:/c%3A/Users/MichaelTaylo_c9zoof3/Documents/GitHub/Ironhack_final_project/modelling%20pipeline%20desktop.ipynb#ch0000041?line=0'>1</a>\u001b[0m mod\u001b[39m=\u001b[39me_cross_validate_grid(preprocess,RandomForestClassifier(),smote_type\u001b[39m=\u001b[39;49m\u001b[39m'\u001b[39;49m\u001b[39mnc\u001b[39;49m\u001b[39m'\u001b[39;49m,cv\u001b[39m=\u001b[39;49mKFold(),scoring\u001b[39m=\u001b[39;49m\u001b[39m'\u001b[39;49m\u001b[39mprecision\u001b[39;49m\u001b[39m'\u001b[39;49m,grid_search\u001b[39m=\u001b[39;49m\u001b[39mTrue\u001b[39;49;00m,param_grid\u001b[39m=\u001b[39;49mrand_forest_parms)\n",
      "\u001b[1;32mc:\\Users\\MichaelTaylo_c9zoof3\\Documents\\GitHub\\Ironhack_final_project\\modelling pipeline desktop.ipynb Cell 41\u001b[0m in \u001b[0;36me_cross_validate_grid\u001b[1;34m(preprocessor, classifier, smote_type, param_grid, cv, scoring, conf_matrix, grid_search, check_best)\u001b[0m\n\u001b[0;32m     <a href='vscode-notebook-cell:/c%3A/Users/MichaelTaylo_c9zoof3/Documents/GitHub/Ironhack_final_project/modelling%20pipeline%20desktop.ipynb#ch0000041?line=24'>25</a>\u001b[0m \u001b[39mfor\u001b[39;00m train_ind, val_ind \u001b[39min\u001b[39;00m cv\u001b[39m.\u001b[39msplit(X_train, y_train):\n\u001b[0;32m     <a href='vscode-notebook-cell:/c%3A/Users/MichaelTaylo_c9zoof3/Documents/GitHub/Ironhack_final_project/modelling%20pipeline%20desktop.ipynb#ch0000041?line=25'>26</a>\u001b[0m     X_t, y_t \u001b[39m=\u001b[39m X_train\u001b[39m.\u001b[39miloc[train_ind], y_train[train_ind]\n\u001b[1;32m---> <a href='vscode-notebook-cell:/c%3A/Users/MichaelTaylo_c9zoof3/Documents/GitHub/Ironhack_final_project/modelling%20pipeline%20desktop.ipynb#ch0000041?line=26'>27</a>\u001b[0m     search\u001b[39m.\u001b[39;49mfit(X_t, y_t)\n\u001b[0;32m     <a href='vscode-notebook-cell:/c%3A/Users/MichaelTaylo_c9zoof3/Documents/GitHub/Ironhack_final_project/modelling%20pipeline%20desktop.ipynb#ch0000041?line=27'>28</a>\u001b[0m     y_hat_t \u001b[39m=\u001b[39m search\u001b[39m.\u001b[39mpredict(X_t)\n\u001b[0;32m     <a href='vscode-notebook-cell:/c%3A/Users/MichaelTaylo_c9zoof3/Documents/GitHub/Ironhack_final_project/modelling%20pipeline%20desktop.ipynb#ch0000041?line=28'>29</a>\u001b[0m     train_acc\u001b[39m.\u001b[39mappend(accuracy_score(y_t, y_hat_t))\n",
      "File \u001b[1;32mc:\\Users\\MichaelTaylo_c9zoof3\\anaconda3\\envs\\DA_Env\\lib\\site-packages\\sklearn\\model_selection\\_search.py:891\u001b[0m, in \u001b[0;36mBaseSearchCV.fit\u001b[1;34m(self, X, y, groups, **fit_params)\u001b[0m\n\u001b[0;32m    885\u001b[0m     results \u001b[39m=\u001b[39m \u001b[39mself\u001b[39m\u001b[39m.\u001b[39m_format_results(\n\u001b[0;32m    886\u001b[0m         all_candidate_params, n_splits, all_out, all_more_results\n\u001b[0;32m    887\u001b[0m     )\n\u001b[0;32m    889\u001b[0m     \u001b[39mreturn\u001b[39;00m results\n\u001b[1;32m--> 891\u001b[0m \u001b[39mself\u001b[39;49m\u001b[39m.\u001b[39;49m_run_search(evaluate_candidates)\n\u001b[0;32m    893\u001b[0m \u001b[39m# multimetric is determined here because in the case of a callable\u001b[39;00m\n\u001b[0;32m    894\u001b[0m \u001b[39m# self.scoring the return type is only known after calling\u001b[39;00m\n\u001b[0;32m    895\u001b[0m first_test_score \u001b[39m=\u001b[39m all_out[\u001b[39m0\u001b[39m][\u001b[39m\"\u001b[39m\u001b[39mtest_scores\u001b[39m\u001b[39m\"\u001b[39m]\n",
      "File \u001b[1;32mc:\\Users\\MichaelTaylo_c9zoof3\\anaconda3\\envs\\DA_Env\\lib\\site-packages\\sklearn\\model_selection\\_search.py:1392\u001b[0m, in \u001b[0;36mGridSearchCV._run_search\u001b[1;34m(self, evaluate_candidates)\u001b[0m\n\u001b[0;32m   1390\u001b[0m \u001b[39mdef\u001b[39;00m \u001b[39m_run_search\u001b[39m(\u001b[39mself\u001b[39m, evaluate_candidates):\n\u001b[0;32m   1391\u001b[0m     \u001b[39m\"\"\"Search all candidates in param_grid\"\"\"\u001b[39;00m\n\u001b[1;32m-> 1392\u001b[0m     evaluate_candidates(ParameterGrid(\u001b[39mself\u001b[39;49m\u001b[39m.\u001b[39;49mparam_grid))\n",
      "File \u001b[1;32mc:\\Users\\MichaelTaylo_c9zoof3\\anaconda3\\envs\\DA_Env\\lib\\site-packages\\sklearn\\model_selection\\_search.py:838\u001b[0m, in \u001b[0;36mBaseSearchCV.fit.<locals>.evaluate_candidates\u001b[1;34m(candidate_params, cv, more_results)\u001b[0m\n\u001b[0;32m    830\u001b[0m \u001b[39mif\u001b[39;00m \u001b[39mself\u001b[39m\u001b[39m.\u001b[39mverbose \u001b[39m>\u001b[39m \u001b[39m0\u001b[39m:\n\u001b[0;32m    831\u001b[0m     \u001b[39mprint\u001b[39m(\n\u001b[0;32m    832\u001b[0m         \u001b[39m\"\u001b[39m\u001b[39mFitting \u001b[39m\u001b[39m{0}\u001b[39;00m\u001b[39m folds for each of \u001b[39m\u001b[39m{1}\u001b[39;00m\u001b[39m candidates,\u001b[39m\u001b[39m\"\u001b[39m\n\u001b[0;32m    833\u001b[0m         \u001b[39m\"\u001b[39m\u001b[39m totalling \u001b[39m\u001b[39m{2}\u001b[39;00m\u001b[39m fits\u001b[39m\u001b[39m\"\u001b[39m\u001b[39m.\u001b[39mformat(\n\u001b[0;32m    834\u001b[0m             n_splits, n_candidates, n_candidates \u001b[39m*\u001b[39m n_splits\n\u001b[0;32m    835\u001b[0m         )\n\u001b[0;32m    836\u001b[0m     )\n\u001b[1;32m--> 838\u001b[0m out \u001b[39m=\u001b[39m parallel(\n\u001b[0;32m    839\u001b[0m     delayed(_fit_and_score)(\n\u001b[0;32m    840\u001b[0m         clone(base_estimator),\n\u001b[0;32m    841\u001b[0m         X,\n\u001b[0;32m    842\u001b[0m         y,\n\u001b[0;32m    843\u001b[0m         train\u001b[39m=\u001b[39;49mtrain,\n\u001b[0;32m    844\u001b[0m         test\u001b[39m=\u001b[39;49mtest,\n\u001b[0;32m    845\u001b[0m         parameters\u001b[39m=\u001b[39;49mparameters,\n\u001b[0;32m    846\u001b[0m         split_progress\u001b[39m=\u001b[39;49m(split_idx, n_splits),\n\u001b[0;32m    847\u001b[0m         candidate_progress\u001b[39m=\u001b[39;49m(cand_idx, n_candidates),\n\u001b[0;32m    848\u001b[0m         \u001b[39m*\u001b[39;49m\u001b[39m*\u001b[39;49mfit_and_score_kwargs,\n\u001b[0;32m    849\u001b[0m     )\n\u001b[0;32m    850\u001b[0m     \u001b[39mfor\u001b[39;49;00m (cand_idx, parameters), (split_idx, (train, test)) \u001b[39min\u001b[39;49;00m product(\n\u001b[0;32m    851\u001b[0m         \u001b[39menumerate\u001b[39;49m(candidate_params), \u001b[39menumerate\u001b[39;49m(cv\u001b[39m.\u001b[39;49msplit(X, y, groups))\n\u001b[0;32m    852\u001b[0m     )\n\u001b[0;32m    853\u001b[0m )\n\u001b[0;32m    855\u001b[0m \u001b[39mif\u001b[39;00m \u001b[39mlen\u001b[39m(out) \u001b[39m<\u001b[39m \u001b[39m1\u001b[39m:\n\u001b[0;32m    856\u001b[0m     \u001b[39mraise\u001b[39;00m \u001b[39mValueError\u001b[39;00m(\n\u001b[0;32m    857\u001b[0m         \u001b[39m\"\u001b[39m\u001b[39mNo fits were performed. \u001b[39m\u001b[39m\"\u001b[39m\n\u001b[0;32m    858\u001b[0m         \u001b[39m\"\u001b[39m\u001b[39mWas the CV iterator empty? \u001b[39m\u001b[39m\"\u001b[39m\n\u001b[0;32m    859\u001b[0m         \u001b[39m\"\u001b[39m\u001b[39mWere there no candidates?\u001b[39m\u001b[39m\"\u001b[39m\n\u001b[0;32m    860\u001b[0m     )\n",
      "File \u001b[1;32mc:\\Users\\MichaelTaylo_c9zoof3\\anaconda3\\envs\\DA_Env\\lib\\site-packages\\joblib\\parallel.py:1046\u001b[0m, in \u001b[0;36mParallel.__call__\u001b[1;34m(self, iterable)\u001b[0m\n\u001b[0;32m   1043\u001b[0m \u001b[39mif\u001b[39;00m \u001b[39mself\u001b[39m\u001b[39m.\u001b[39mdispatch_one_batch(iterator):\n\u001b[0;32m   1044\u001b[0m     \u001b[39mself\u001b[39m\u001b[39m.\u001b[39m_iterating \u001b[39m=\u001b[39m \u001b[39mself\u001b[39m\u001b[39m.\u001b[39m_original_iterator \u001b[39mis\u001b[39;00m \u001b[39mnot\u001b[39;00m \u001b[39mNone\u001b[39;00m\n\u001b[1;32m-> 1046\u001b[0m \u001b[39mwhile\u001b[39;00m \u001b[39mself\u001b[39;49m\u001b[39m.\u001b[39;49mdispatch_one_batch(iterator):\n\u001b[0;32m   1047\u001b[0m     \u001b[39mpass\u001b[39;00m\n\u001b[0;32m   1049\u001b[0m \u001b[39mif\u001b[39;00m pre_dispatch \u001b[39m==\u001b[39m \u001b[39m\"\u001b[39m\u001b[39mall\u001b[39m\u001b[39m\"\u001b[39m \u001b[39mor\u001b[39;00m n_jobs \u001b[39m==\u001b[39m \u001b[39m1\u001b[39m:\n\u001b[0;32m   1050\u001b[0m     \u001b[39m# The iterable was consumed all at once by the above for loop.\u001b[39;00m\n\u001b[0;32m   1051\u001b[0m     \u001b[39m# No need to wait for async callbacks to trigger to\u001b[39;00m\n\u001b[0;32m   1052\u001b[0m     \u001b[39m# consumption.\u001b[39;00m\n",
      "File \u001b[1;32mc:\\Users\\MichaelTaylo_c9zoof3\\anaconda3\\envs\\DA_Env\\lib\\site-packages\\joblib\\parallel.py:861\u001b[0m, in \u001b[0;36mParallel.dispatch_one_batch\u001b[1;34m(self, iterator)\u001b[0m\n\u001b[0;32m    859\u001b[0m     \u001b[39mreturn\u001b[39;00m \u001b[39mFalse\u001b[39;00m\n\u001b[0;32m    860\u001b[0m \u001b[39melse\u001b[39;00m:\n\u001b[1;32m--> 861\u001b[0m     \u001b[39mself\u001b[39;49m\u001b[39m.\u001b[39;49m_dispatch(tasks)\n\u001b[0;32m    862\u001b[0m     \u001b[39mreturn\u001b[39;00m \u001b[39mTrue\u001b[39;00m\n",
      "File \u001b[1;32mc:\\Users\\MichaelTaylo_c9zoof3\\anaconda3\\envs\\DA_Env\\lib\\site-packages\\joblib\\parallel.py:779\u001b[0m, in \u001b[0;36mParallel._dispatch\u001b[1;34m(self, batch)\u001b[0m\n\u001b[0;32m    777\u001b[0m \u001b[39mwith\u001b[39;00m \u001b[39mself\u001b[39m\u001b[39m.\u001b[39m_lock:\n\u001b[0;32m    778\u001b[0m     job_idx \u001b[39m=\u001b[39m \u001b[39mlen\u001b[39m(\u001b[39mself\u001b[39m\u001b[39m.\u001b[39m_jobs)\n\u001b[1;32m--> 779\u001b[0m     job \u001b[39m=\u001b[39m \u001b[39mself\u001b[39;49m\u001b[39m.\u001b[39;49m_backend\u001b[39m.\u001b[39;49mapply_async(batch, callback\u001b[39m=\u001b[39;49mcb)\n\u001b[0;32m    780\u001b[0m     \u001b[39m# A job can complete so quickly than its callback is\u001b[39;00m\n\u001b[0;32m    781\u001b[0m     \u001b[39m# called before we get here, causing self._jobs to\u001b[39;00m\n\u001b[0;32m    782\u001b[0m     \u001b[39m# grow. To ensure correct results ordering, .insert is\u001b[39;00m\n\u001b[0;32m    783\u001b[0m     \u001b[39m# used (rather than .append) in the following line\u001b[39;00m\n\u001b[0;32m    784\u001b[0m     \u001b[39mself\u001b[39m\u001b[39m.\u001b[39m_jobs\u001b[39m.\u001b[39minsert(job_idx, job)\n",
      "File \u001b[1;32mc:\\Users\\MichaelTaylo_c9zoof3\\anaconda3\\envs\\DA_Env\\lib\\site-packages\\joblib\\_parallel_backends.py:208\u001b[0m, in \u001b[0;36mSequentialBackend.apply_async\u001b[1;34m(self, func, callback)\u001b[0m\n\u001b[0;32m    206\u001b[0m \u001b[39mdef\u001b[39;00m \u001b[39mapply_async\u001b[39m(\u001b[39mself\u001b[39m, func, callback\u001b[39m=\u001b[39m\u001b[39mNone\u001b[39;00m):\n\u001b[0;32m    207\u001b[0m     \u001b[39m\"\"\"Schedule a func to be run\"\"\"\u001b[39;00m\n\u001b[1;32m--> 208\u001b[0m     result \u001b[39m=\u001b[39m ImmediateResult(func)\n\u001b[0;32m    209\u001b[0m     \u001b[39mif\u001b[39;00m callback:\n\u001b[0;32m    210\u001b[0m         callback(result)\n",
      "File \u001b[1;32mc:\\Users\\MichaelTaylo_c9zoof3\\anaconda3\\envs\\DA_Env\\lib\\site-packages\\joblib\\_parallel_backends.py:572\u001b[0m, in \u001b[0;36mImmediateResult.__init__\u001b[1;34m(self, batch)\u001b[0m\n\u001b[0;32m    569\u001b[0m \u001b[39mdef\u001b[39;00m \u001b[39m__init__\u001b[39m(\u001b[39mself\u001b[39m, batch):\n\u001b[0;32m    570\u001b[0m     \u001b[39m# Don't delay the application, to avoid keeping the input\u001b[39;00m\n\u001b[0;32m    571\u001b[0m     \u001b[39m# arguments in memory\u001b[39;00m\n\u001b[1;32m--> 572\u001b[0m     \u001b[39mself\u001b[39m\u001b[39m.\u001b[39mresults \u001b[39m=\u001b[39m batch()\n",
      "File \u001b[1;32mc:\\Users\\MichaelTaylo_c9zoof3\\anaconda3\\envs\\DA_Env\\lib\\site-packages\\joblib\\parallel.py:262\u001b[0m, in \u001b[0;36mBatchedCalls.__call__\u001b[1;34m(self)\u001b[0m\n\u001b[0;32m    258\u001b[0m \u001b[39mdef\u001b[39;00m \u001b[39m__call__\u001b[39m(\u001b[39mself\u001b[39m):\n\u001b[0;32m    259\u001b[0m     \u001b[39m# Set the default nested backend to self._backend but do not set the\u001b[39;00m\n\u001b[0;32m    260\u001b[0m     \u001b[39m# change the default number of processes to -1\u001b[39;00m\n\u001b[0;32m    261\u001b[0m     \u001b[39mwith\u001b[39;00m parallel_backend(\u001b[39mself\u001b[39m\u001b[39m.\u001b[39m_backend, n_jobs\u001b[39m=\u001b[39m\u001b[39mself\u001b[39m\u001b[39m.\u001b[39m_n_jobs):\n\u001b[1;32m--> 262\u001b[0m         \u001b[39mreturn\u001b[39;00m [func(\u001b[39m*\u001b[39margs, \u001b[39m*\u001b[39m\u001b[39m*\u001b[39mkwargs)\n\u001b[0;32m    263\u001b[0m                 \u001b[39mfor\u001b[39;00m func, args, kwargs \u001b[39min\u001b[39;00m \u001b[39mself\u001b[39m\u001b[39m.\u001b[39mitems]\n",
      "File \u001b[1;32mc:\\Users\\MichaelTaylo_c9zoof3\\anaconda3\\envs\\DA_Env\\lib\\site-packages\\joblib\\parallel.py:262\u001b[0m, in \u001b[0;36m<listcomp>\u001b[1;34m(.0)\u001b[0m\n\u001b[0;32m    258\u001b[0m \u001b[39mdef\u001b[39;00m \u001b[39m__call__\u001b[39m(\u001b[39mself\u001b[39m):\n\u001b[0;32m    259\u001b[0m     \u001b[39m# Set the default nested backend to self._backend but do not set the\u001b[39;00m\n\u001b[0;32m    260\u001b[0m     \u001b[39m# change the default number of processes to -1\u001b[39;00m\n\u001b[0;32m    261\u001b[0m     \u001b[39mwith\u001b[39;00m parallel_backend(\u001b[39mself\u001b[39m\u001b[39m.\u001b[39m_backend, n_jobs\u001b[39m=\u001b[39m\u001b[39mself\u001b[39m\u001b[39m.\u001b[39m_n_jobs):\n\u001b[1;32m--> 262\u001b[0m         \u001b[39mreturn\u001b[39;00m [func(\u001b[39m*\u001b[39margs, \u001b[39m*\u001b[39m\u001b[39m*\u001b[39mkwargs)\n\u001b[0;32m    263\u001b[0m                 \u001b[39mfor\u001b[39;00m func, args, kwargs \u001b[39min\u001b[39;00m \u001b[39mself\u001b[39m\u001b[39m.\u001b[39mitems]\n",
      "File \u001b[1;32mc:\\Users\\MichaelTaylo_c9zoof3\\anaconda3\\envs\\DA_Env\\lib\\site-packages\\sklearn\\utils\\fixes.py:216\u001b[0m, in \u001b[0;36m_FuncWrapper.__call__\u001b[1;34m(self, *args, **kwargs)\u001b[0m\n\u001b[0;32m    214\u001b[0m \u001b[39mdef\u001b[39;00m \u001b[39m__call__\u001b[39m(\u001b[39mself\u001b[39m, \u001b[39m*\u001b[39margs, \u001b[39m*\u001b[39m\u001b[39m*\u001b[39mkwargs):\n\u001b[0;32m    215\u001b[0m     \u001b[39mwith\u001b[39;00m config_context(\u001b[39m*\u001b[39m\u001b[39m*\u001b[39m\u001b[39mself\u001b[39m\u001b[39m.\u001b[39mconfig):\n\u001b[1;32m--> 216\u001b[0m         \u001b[39mreturn\u001b[39;00m \u001b[39mself\u001b[39m\u001b[39m.\u001b[39mfunction(\u001b[39m*\u001b[39margs, \u001b[39m*\u001b[39m\u001b[39m*\u001b[39mkwargs)\n",
      "File \u001b[1;32mc:\\Users\\MichaelTaylo_c9zoof3\\anaconda3\\envs\\DA_Env\\lib\\site-packages\\sklearn\\model_selection\\_validation.py:680\u001b[0m, in \u001b[0;36m_fit_and_score\u001b[1;34m(estimator, X, y, scorer, train, test, verbose, parameters, fit_params, return_train_score, return_parameters, return_n_test_samples, return_times, return_estimator, split_progress, candidate_progress, error_score)\u001b[0m\n\u001b[0;32m    678\u001b[0m         estimator\u001b[39m.\u001b[39mfit(X_train, \u001b[39m*\u001b[39m\u001b[39m*\u001b[39mfit_params)\n\u001b[0;32m    679\u001b[0m     \u001b[39melse\u001b[39;00m:\n\u001b[1;32m--> 680\u001b[0m         estimator\u001b[39m.\u001b[39mfit(X_train, y_train, \u001b[39m*\u001b[39m\u001b[39m*\u001b[39mfit_params)\n\u001b[0;32m    682\u001b[0m \u001b[39mexcept\u001b[39;00m \u001b[39mException\u001b[39;00m:\n\u001b[0;32m    683\u001b[0m     \u001b[39m# Note fit time as time until error\u001b[39;00m\n\u001b[0;32m    684\u001b[0m     fit_time \u001b[39m=\u001b[39m time\u001b[39m.\u001b[39mtime() \u001b[39m-\u001b[39m start_time\n",
      "File \u001b[1;32mc:\\Users\\MichaelTaylo_c9zoof3\\anaconda3\\envs\\DA_Env\\lib\\site-packages\\imblearn\\pipeline.py:277\u001b[0m, in \u001b[0;36mPipeline.fit\u001b[1;34m(self, X, y, **fit_params)\u001b[0m\n\u001b[0;32m    250\u001b[0m \u001b[39mdef\u001b[39;00m \u001b[39mfit\u001b[39m(\u001b[39mself\u001b[39m, X, y\u001b[39m=\u001b[39m\u001b[39mNone\u001b[39;00m, \u001b[39m*\u001b[39m\u001b[39m*\u001b[39mfit_params):\n\u001b[0;32m    251\u001b[0m     \u001b[39m\"\"\"Fit the model.\u001b[39;00m\n\u001b[0;32m    252\u001b[0m \n\u001b[0;32m    253\u001b[0m \u001b[39m    Fit all the transforms/samplers one after the other and\u001b[39;00m\n\u001b[1;32m   (...)\u001b[0m\n\u001b[0;32m    275\u001b[0m \u001b[39m        This estimator.\u001b[39;00m\n\u001b[0;32m    276\u001b[0m \u001b[39m    \"\"\"\u001b[39;00m\n\u001b[1;32m--> 277\u001b[0m     Xt, yt, fit_params \u001b[39m=\u001b[39m \u001b[39mself\u001b[39m\u001b[39m.\u001b[39m_fit(X, y, \u001b[39m*\u001b[39m\u001b[39m*\u001b[39mfit_params)\n\u001b[0;32m    278\u001b[0m     \u001b[39mwith\u001b[39;00m _print_elapsed_time(\u001b[39m'\u001b[39m\u001b[39mPipeline\u001b[39m\u001b[39m'\u001b[39m,\n\u001b[0;32m    279\u001b[0m                              \u001b[39mself\u001b[39m\u001b[39m.\u001b[39m_log_message(\u001b[39mlen\u001b[39m(\u001b[39mself\u001b[39m\u001b[39m.\u001b[39msteps) \u001b[39m-\u001b[39m \u001b[39m1\u001b[39m)):\n\u001b[0;32m    280\u001b[0m         \u001b[39mif\u001b[39;00m \u001b[39mself\u001b[39m\u001b[39m.\u001b[39m_final_estimator \u001b[39m!=\u001b[39m \u001b[39m\"\u001b[39m\u001b[39mpassthrough\u001b[39m\u001b[39m\"\u001b[39m:\n",
      "File \u001b[1;32mc:\\Users\\MichaelTaylo_c9zoof3\\anaconda3\\envs\\DA_Env\\lib\\site-packages\\imblearn\\pipeline.py:236\u001b[0m, in \u001b[0;36mPipeline._fit\u001b[1;34m(self, X, y, **fit_params)\u001b[0m\n\u001b[0;32m    229\u001b[0m     X, fitted_transformer \u001b[39m=\u001b[39m fit_transform_one_cached(\n\u001b[0;32m    230\u001b[0m         cloned_transformer, X, y, \u001b[39mNone\u001b[39;00m,\n\u001b[0;32m    231\u001b[0m         message_clsname\u001b[39m=\u001b[39m\u001b[39m'\u001b[39m\u001b[39mPipeline\u001b[39m\u001b[39m'\u001b[39m,\n\u001b[0;32m    232\u001b[0m         message\u001b[39m=\u001b[39m\u001b[39mself\u001b[39m\u001b[39m.\u001b[39m_log_message(step_idx),\n\u001b[0;32m    233\u001b[0m         \u001b[39m*\u001b[39m\u001b[39m*\u001b[39mfit_params_steps[name]\n\u001b[0;32m    234\u001b[0m     )\n\u001b[0;32m    235\u001b[0m \u001b[39melif\u001b[39;00m \u001b[39mhasattr\u001b[39m(cloned_transformer, \u001b[39m\"\u001b[39m\u001b[39mfit_resample\u001b[39m\u001b[39m\"\u001b[39m):\n\u001b[1;32m--> 236\u001b[0m     X, y, fitted_transformer \u001b[39m=\u001b[39m fit_resample_one_cached(\n\u001b[0;32m    237\u001b[0m         cloned_transformer, X, y,\n\u001b[0;32m    238\u001b[0m         message_clsname\u001b[39m=\u001b[39m\u001b[39m'\u001b[39m\u001b[39mPipeline\u001b[39m\u001b[39m'\u001b[39m,\n\u001b[0;32m    239\u001b[0m         message\u001b[39m=\u001b[39m\u001b[39mself\u001b[39m\u001b[39m.\u001b[39m_log_message(step_idx),\n\u001b[0;32m    240\u001b[0m         \u001b[39m*\u001b[39m\u001b[39m*\u001b[39mfit_params_steps[name]\n\u001b[0;32m    241\u001b[0m     )\n\u001b[0;32m    242\u001b[0m \u001b[39m# Replace the transformer of the step with the fitted\u001b[39;00m\n\u001b[0;32m    243\u001b[0m \u001b[39m# transformer. This is necessary when loading the transformer\u001b[39;00m\n\u001b[0;32m    244\u001b[0m \u001b[39m# from the cache.\u001b[39;00m\n\u001b[0;32m    245\u001b[0m \u001b[39mself\u001b[39m\u001b[39m.\u001b[39msteps[step_idx] \u001b[39m=\u001b[39m (name, fitted_transformer)\n",
      "File \u001b[1;32mc:\\Users\\MichaelTaylo_c9zoof3\\anaconda3\\envs\\DA_Env\\lib\\site-packages\\joblib\\memory.py:349\u001b[0m, in \u001b[0;36mNotMemorizedFunc.__call__\u001b[1;34m(self, *args, **kwargs)\u001b[0m\n\u001b[0;32m    348\u001b[0m \u001b[39mdef\u001b[39;00m \u001b[39m__call__\u001b[39m(\u001b[39mself\u001b[39m, \u001b[39m*\u001b[39margs, \u001b[39m*\u001b[39m\u001b[39m*\u001b[39mkwargs):\n\u001b[1;32m--> 349\u001b[0m     \u001b[39mreturn\u001b[39;00m \u001b[39mself\u001b[39m\u001b[39m.\u001b[39mfunc(\u001b[39m*\u001b[39margs, \u001b[39m*\u001b[39m\u001b[39m*\u001b[39mkwargs)\n",
      "File \u001b[1;32mc:\\Users\\MichaelTaylo_c9zoof3\\anaconda3\\envs\\DA_Env\\lib\\site-packages\\imblearn\\pipeline.py:403\u001b[0m, in \u001b[0;36m_fit_resample_one\u001b[1;34m(sampler, X, y, message_clsname, message, **fit_params)\u001b[0m\n\u001b[0;32m    396\u001b[0m \u001b[39mdef\u001b[39;00m \u001b[39m_fit_resample_one\u001b[39m(sampler,\n\u001b[0;32m    397\u001b[0m                       X,\n\u001b[0;32m    398\u001b[0m                       y,\n\u001b[0;32m    399\u001b[0m                       message_clsname\u001b[39m=\u001b[39m\u001b[39m'\u001b[39m\u001b[39m'\u001b[39m,\n\u001b[0;32m    400\u001b[0m                       message\u001b[39m=\u001b[39m\u001b[39mNone\u001b[39;00m,\n\u001b[0;32m    401\u001b[0m                       \u001b[39m*\u001b[39m\u001b[39m*\u001b[39mfit_params):\n\u001b[0;32m    402\u001b[0m     \u001b[39mwith\u001b[39;00m _print_elapsed_time(message_clsname, message):\n\u001b[1;32m--> 403\u001b[0m         X_res, y_res \u001b[39m=\u001b[39m sampler\u001b[39m.\u001b[39mfit_resample(X, y, \u001b[39m*\u001b[39m\u001b[39m*\u001b[39mfit_params)\n\u001b[0;32m    405\u001b[0m         \u001b[39mreturn\u001b[39;00m X_res, y_res, sampler\n",
      "File \u001b[1;32mc:\\Users\\MichaelTaylo_c9zoof3\\anaconda3\\envs\\DA_Env\\lib\\site-packages\\imblearn\\base.py:83\u001b[0m, in \u001b[0;36mSamplerMixin.fit_resample\u001b[1;34m(self, X, y)\u001b[0m\n\u001b[0;32m     77\u001b[0m X, y, binarize_y \u001b[39m=\u001b[39m \u001b[39mself\u001b[39m\u001b[39m.\u001b[39m_check_X_y(X, y)\n\u001b[0;32m     79\u001b[0m \u001b[39mself\u001b[39m\u001b[39m.\u001b[39msampling_strategy_ \u001b[39m=\u001b[39m check_sampling_strategy(\n\u001b[0;32m     80\u001b[0m     \u001b[39mself\u001b[39m\u001b[39m.\u001b[39msampling_strategy, y, \u001b[39mself\u001b[39m\u001b[39m.\u001b[39m_sampling_type\n\u001b[0;32m     81\u001b[0m )\n\u001b[1;32m---> 83\u001b[0m output \u001b[39m=\u001b[39m \u001b[39mself\u001b[39;49m\u001b[39m.\u001b[39;49m_fit_resample(X, y)\n\u001b[0;32m     85\u001b[0m y_ \u001b[39m=\u001b[39m (label_binarize(output[\u001b[39m1\u001b[39m], np\u001b[39m.\u001b[39munique(y))\n\u001b[0;32m     86\u001b[0m       \u001b[39mif\u001b[39;00m binarize_y \u001b[39melse\u001b[39;00m output[\u001b[39m1\u001b[39m])\n\u001b[0;32m     88\u001b[0m X_, y_ \u001b[39m=\u001b[39m arrays_transformer\u001b[39m.\u001b[39mtransform(output[\u001b[39m0\u001b[39m], y_)\n",
      "File \u001b[1;32mc:\\Users\\MichaelTaylo_c9zoof3\\anaconda3\\envs\\DA_Env\\lib\\site-packages\\imblearn\\over_sampling\\_smote.py:998\u001b[0m, in \u001b[0;36mSMOTENC._fit_resample\u001b[1;34m(self, X, y)\u001b[0m\n\u001b[0;32m    996\u001b[0m X_res_cat \u001b[39m=\u001b[39m X_resampled[:, \u001b[39mself\u001b[39m\u001b[39m.\u001b[39mcontinuous_features_\u001b[39m.\u001b[39msize:]\n\u001b[0;32m    997\u001b[0m X_res_cat\u001b[39m.\u001b[39mdata \u001b[39m=\u001b[39m np\u001b[39m.\u001b[39mones_like(X_res_cat\u001b[39m.\u001b[39mdata)\n\u001b[1;32m--> 998\u001b[0m X_res_cat_dec \u001b[39m=\u001b[39m \u001b[39mself\u001b[39;49m\u001b[39m.\u001b[39;49mohe_\u001b[39m.\u001b[39;49minverse_transform(X_res_cat)\n\u001b[0;32m   1000\u001b[0m \u001b[39mif\u001b[39;00m sparse\u001b[39m.\u001b[39missparse(X):\n\u001b[0;32m   1001\u001b[0m     X_resampled \u001b[39m=\u001b[39m sparse\u001b[39m.\u001b[39mhstack(\n\u001b[0;32m   1002\u001b[0m         (\n\u001b[0;32m   1003\u001b[0m             X_resampled[:, : \u001b[39mself\u001b[39m\u001b[39m.\u001b[39mcontinuous_features_\u001b[39m.\u001b[39msize],\n\u001b[1;32m   (...)\u001b[0m\n\u001b[0;32m   1006\u001b[0m         \u001b[39mformat\u001b[39m\u001b[39m=\u001b[39m\u001b[39m\"\u001b[39m\u001b[39mcsr\u001b[39m\u001b[39m\"\u001b[39m,\n\u001b[0;32m   1007\u001b[0m     )\n",
      "File \u001b[1;32mc:\\Users\\MichaelTaylo_c9zoof3\\anaconda3\\envs\\DA_Env\\lib\\site-packages\\sklearn\\preprocessing\\_encoders.py:624\u001b[0m, in \u001b[0;36mOneHotEncoder.inverse_transform\u001b[1;34m(self, X)\u001b[0m\n\u001b[0;32m    622\u001b[0m sub \u001b[39m=\u001b[39m X[:, j : j \u001b[39m+\u001b[39m n_categories]\n\u001b[0;32m    623\u001b[0m \u001b[39m# for sparse X argmax returns 2D matrix, ensure 1D array\u001b[39;00m\n\u001b[1;32m--> 624\u001b[0m labels \u001b[39m=\u001b[39m np\u001b[39m.\u001b[39masarray(sub\u001b[39m.\u001b[39;49margmax(axis\u001b[39m=\u001b[39;49m\u001b[39m1\u001b[39;49m))\u001b[39m.\u001b[39mflatten()\n\u001b[0;32m    625\u001b[0m X_tr[:, i] \u001b[39m=\u001b[39m cats[labels]\n\u001b[0;32m    626\u001b[0m \u001b[39mif\u001b[39;00m \u001b[39mself\u001b[39m\u001b[39m.\u001b[39mhandle_unknown \u001b[39m==\u001b[39m \u001b[39m\"\u001b[39m\u001b[39mignore\u001b[39m\u001b[39m\"\u001b[39m:\n",
      "File \u001b[1;32mc:\\Users\\MichaelTaylo_c9zoof3\\anaconda3\\envs\\DA_Env\\lib\\site-packages\\scipy\\sparse\\data.py:376\u001b[0m, in \u001b[0;36m_minmax_mixin.argmax\u001b[1;34m(self, axis, out)\u001b[0m\n\u001b[0;32m    355\u001b[0m \u001b[39mdef\u001b[39;00m \u001b[39margmax\u001b[39m(\u001b[39mself\u001b[39m, axis\u001b[39m=\u001b[39m\u001b[39mNone\u001b[39;00m, out\u001b[39m=\u001b[39m\u001b[39mNone\u001b[39;00m):\n\u001b[0;32m    356\u001b[0m     \u001b[39m\"\"\"Return indices of maximum elements along an axis.\u001b[39;00m\n\u001b[0;32m    357\u001b[0m \n\u001b[0;32m    358\u001b[0m \u001b[39m    Implicit zero elements are also taken into account. If there are\u001b[39;00m\n\u001b[1;32m   (...)\u001b[0m\n\u001b[0;32m    374\u001b[0m \u001b[39m        Indices of maximum elements. If matrix, its size along `axis` is 1.\u001b[39;00m\n\u001b[0;32m    375\u001b[0m \u001b[39m    \"\"\"\u001b[39;00m\n\u001b[1;32m--> 376\u001b[0m     \u001b[39mreturn\u001b[39;00m \u001b[39mself\u001b[39;49m\u001b[39m.\u001b[39;49m_arg_min_or_max(axis, out, np\u001b[39m.\u001b[39;49margmax, np\u001b[39m.\u001b[39;49mgreater)\n",
      "File \u001b[1;32mc:\\Users\\MichaelTaylo_c9zoof3\\anaconda3\\envs\\DA_Env\\lib\\site-packages\\scipy\\sparse\\data.py:289\u001b[0m, in \u001b[0;36m_minmax_mixin._arg_min_or_max\u001b[1;34m(self, axis, out, op, compare)\u001b[0m\n\u001b[0;32m    286\u001b[0m                 \u001b[39melse\u001b[39;00m:\n\u001b[0;32m    287\u001b[0m                     \u001b[39mreturn\u001b[39;00m zero_ind\n\u001b[1;32m--> 289\u001b[0m \u001b[39mreturn\u001b[39;00m \u001b[39mself\u001b[39;49m\u001b[39m.\u001b[39;49m_arg_min_or_max_axis(axis, op, compare)\n",
      "File \u001b[1;32mc:\\Users\\MichaelTaylo_c9zoof3\\anaconda3\\envs\\DA_Env\\lib\\site-packages\\scipy\\sparse\\data.py:236\u001b[0m, in \u001b[0;36m_minmax_mixin._arg_min_or_max_axis\u001b[1;34m(self, axis, op, compare)\u001b[0m\n\u001b[0;32m    234\u001b[0m data \u001b[39m=\u001b[39m mat\u001b[39m.\u001b[39mdata[p:q]\n\u001b[0;32m    235\u001b[0m indices \u001b[39m=\u001b[39m mat\u001b[39m.\u001b[39mindices[p:q]\n\u001b[1;32m--> 236\u001b[0m am \u001b[39m=\u001b[39m op(data)\n\u001b[0;32m    237\u001b[0m m \u001b[39m=\u001b[39m data[am]\n\u001b[0;32m    238\u001b[0m \u001b[39mif\u001b[39;00m compare(m, zero) \u001b[39mor\u001b[39;00m q \u001b[39m-\u001b[39m p \u001b[39m==\u001b[39m line_size:\n",
      "File \u001b[1;32m<__array_function__ internals>:5\u001b[0m, in \u001b[0;36margmax\u001b[1;34m(*args, **kwargs)\u001b[0m\n",
      "File \u001b[1;32mc:\\Users\\MichaelTaylo_c9zoof3\\anaconda3\\envs\\DA_Env\\lib\\site-packages\\numpy\\core\\fromnumeric.py:1188\u001b[0m, in \u001b[0;36margmax\u001b[1;34m(a, axis, out)\u001b[0m\n\u001b[0;32m   1114\u001b[0m \u001b[39m@array_function_dispatch\u001b[39m(_argmax_dispatcher)\n\u001b[0;32m   1115\u001b[0m \u001b[39mdef\u001b[39;00m \u001b[39margmax\u001b[39m(a, axis\u001b[39m=\u001b[39m\u001b[39mNone\u001b[39;00m, out\u001b[39m=\u001b[39m\u001b[39mNone\u001b[39;00m):\n\u001b[0;32m   1116\u001b[0m     \u001b[39m\"\"\"\u001b[39;00m\n\u001b[0;32m   1117\u001b[0m \u001b[39m    Returns the indices of the maximum values along an axis.\u001b[39;00m\n\u001b[0;32m   1118\u001b[0m \n\u001b[1;32m   (...)\u001b[0m\n\u001b[0;32m   1186\u001b[0m \n\u001b[0;32m   1187\u001b[0m \u001b[39m    \"\"\"\u001b[39;00m\n\u001b[1;32m-> 1188\u001b[0m     \u001b[39mreturn\u001b[39;00m _wrapfunc(a, \u001b[39m'\u001b[39;49m\u001b[39margmax\u001b[39;49m\u001b[39m'\u001b[39;49m, axis\u001b[39m=\u001b[39;49maxis, out\u001b[39m=\u001b[39;49mout)\n",
      "File \u001b[1;32mc:\\Users\\MichaelTaylo_c9zoof3\\anaconda3\\envs\\DA_Env\\lib\\site-packages\\numpy\\core\\fromnumeric.py:58\u001b[0m, in \u001b[0;36m_wrapfunc\u001b[1;34m(obj, method, *args, **kwds)\u001b[0m\n\u001b[0;32m     55\u001b[0m     \u001b[39mreturn\u001b[39;00m _wrapit(obj, method, \u001b[39m*\u001b[39margs, \u001b[39m*\u001b[39m\u001b[39m*\u001b[39mkwds)\n\u001b[0;32m     57\u001b[0m \u001b[39mtry\u001b[39;00m:\n\u001b[1;32m---> 58\u001b[0m     \u001b[39mreturn\u001b[39;00m bound(\u001b[39m*\u001b[39margs, \u001b[39m*\u001b[39m\u001b[39m*\u001b[39mkwds)\n\u001b[0;32m     59\u001b[0m \u001b[39mexcept\u001b[39;00m \u001b[39mTypeError\u001b[39;00m:\n\u001b[0;32m     60\u001b[0m     \u001b[39m# A TypeError occurs if the object does have such a method in its\u001b[39;00m\n\u001b[0;32m     61\u001b[0m     \u001b[39m# class, but its signature is not identical to that of NumPy's. This\u001b[39;00m\n\u001b[1;32m   (...)\u001b[0m\n\u001b[0;32m     65\u001b[0m     \u001b[39m# Call _wrapit from within the except clause to ensure a potential\u001b[39;00m\n\u001b[0;32m     66\u001b[0m     \u001b[39m# exception has a traceback chain.\u001b[39;00m\n\u001b[0;32m     67\u001b[0m     \u001b[39mreturn\u001b[39;00m _wrapit(obj, method, \u001b[39m*\u001b[39margs, \u001b[39m*\u001b[39m\u001b[39m*\u001b[39mkwds)\n",
      "\u001b[1;31mKeyboardInterrupt\u001b[0m: "
     ]
    }
   ],
   "source": [
    "mod=e_cross_validate_grid(preprocess,RandomForestClassifier(),smote_type='nc',cv=KFold(),scoring='precision',grid_search=True,param_grid=rand_forest_parms)"
   ]
  },
  {
   "cell_type": "code",
   "execution_count": 61,
   "id": "5a762a95",
   "metadata": {},
   "outputs": [],
   "source": [
    "from urchin_workflow import urchin_supervised_classification as usc\n",
    "from urchin_workflow import urchin_supervised_preprocessing as usp"
   ]
  },
  {
   "cell_type": "code",
   "execution_count": 74,
   "id": "63dec457",
   "metadata": {},
   "outputs": [],
   "source": [
    "keep=['educationfield',\n",
    " 'overtime',\n",
    " 'age',\n",
    " 'distancefromhome',\n",
    " 'jobsatisfaction',\n",
    " 'monthlyincome',\n",
    " 'stockoptionlevel',\n",
    " 'yearswithcurrmanager',\n",
    " 'salaryquartile']"
   ]
  },
  {
   "cell_type": "code",
   "execution_count": 75,
   "id": "e824ac86",
   "metadata": {},
   "outputs": [],
   "source": [
    "X_train=X_train[keep]\n",
    "X_test=X_test[keep]"
   ]
  },
  {
   "cell_type": "code",
   "execution_count": 76,
   "id": "74e3e526",
   "metadata": {},
   "outputs": [
    {
     "name": "stdout",
     "output_type": "stream",
     "text": [
      "LogisticRegression()\n"
     ]
    },
    {
     "ename": "ValueError",
     "evalue": "A given column is not a column of the dataframe",
     "output_type": "error",
     "traceback": [
      "\u001b[1;31m---------------------------------------------------------------------------\u001b[0m",
      "\u001b[1;31mKeyError\u001b[0m                                  Traceback (most recent call last)",
      "File \u001b[1;32mc:\\Users\\MichaelTaylo_c9zoof3\\anaconda3\\envs\\DA_Env\\lib\\site-packages\\pandas\\core\\indexes\\base.py:3621\u001b[0m, in \u001b[0;36mIndex.get_loc\u001b[1;34m(self, key, method, tolerance)\u001b[0m\n\u001b[0;32m   3620\u001b[0m \u001b[39mtry\u001b[39;00m:\n\u001b[1;32m-> 3621\u001b[0m     \u001b[39mreturn\u001b[39;00m \u001b[39mself\u001b[39;49m\u001b[39m.\u001b[39;49m_engine\u001b[39m.\u001b[39;49mget_loc(casted_key)\n\u001b[0;32m   3622\u001b[0m \u001b[39mexcept\u001b[39;00m \u001b[39mKeyError\u001b[39;00m \u001b[39mas\u001b[39;00m err:\n",
      "File \u001b[1;32mc:\\Users\\MichaelTaylo_c9zoof3\\anaconda3\\envs\\DA_Env\\lib\\site-packages\\pandas\\_libs\\index.pyx:136\u001b[0m, in \u001b[0;36mpandas._libs.index.IndexEngine.get_loc\u001b[1;34m()\u001b[0m\n",
      "File \u001b[1;32mc:\\Users\\MichaelTaylo_c9zoof3\\anaconda3\\envs\\DA_Env\\lib\\site-packages\\pandas\\_libs\\index.pyx:163\u001b[0m, in \u001b[0;36mpandas._libs.index.IndexEngine.get_loc\u001b[1;34m()\u001b[0m\n",
      "File \u001b[1;32mpandas\\_libs\\hashtable_class_helper.pxi:5198\u001b[0m, in \u001b[0;36mpandas._libs.hashtable.PyObjectHashTable.get_item\u001b[1;34m()\u001b[0m\n",
      "File \u001b[1;32mpandas\\_libs\\hashtable_class_helper.pxi:5206\u001b[0m, in \u001b[0;36mpandas._libs.hashtable.PyObjectHashTable.get_item\u001b[1;34m()\u001b[0m\n",
      "\u001b[1;31mKeyError\u001b[0m: 'education'",
      "\nThe above exception was the direct cause of the following exception:\n",
      "\u001b[1;31mKeyError\u001b[0m                                  Traceback (most recent call last)",
      "File \u001b[1;32mc:\\Users\\MichaelTaylo_c9zoof3\\anaconda3\\envs\\DA_Env\\lib\\site-packages\\sklearn\\utils\\__init__.py:433\u001b[0m, in \u001b[0;36m_get_column_indices\u001b[1;34m(X, key)\u001b[0m\n\u001b[0;32m    432\u001b[0m \u001b[39mfor\u001b[39;00m col \u001b[39min\u001b[39;00m columns:\n\u001b[1;32m--> 433\u001b[0m     col_idx \u001b[39m=\u001b[39m all_columns\u001b[39m.\u001b[39;49mget_loc(col)\n\u001b[0;32m    434\u001b[0m     \u001b[39mif\u001b[39;00m \u001b[39mnot\u001b[39;00m \u001b[39misinstance\u001b[39m(col_idx, numbers\u001b[39m.\u001b[39mIntegral):\n",
      "File \u001b[1;32mc:\\Users\\MichaelTaylo_c9zoof3\\anaconda3\\envs\\DA_Env\\lib\\site-packages\\pandas\\core\\indexes\\base.py:3623\u001b[0m, in \u001b[0;36mIndex.get_loc\u001b[1;34m(self, key, method, tolerance)\u001b[0m\n\u001b[0;32m   3622\u001b[0m \u001b[39mexcept\u001b[39;00m \u001b[39mKeyError\u001b[39;00m \u001b[39mas\u001b[39;00m err:\n\u001b[1;32m-> 3623\u001b[0m     \u001b[39mraise\u001b[39;00m \u001b[39mKeyError\u001b[39;00m(key) \u001b[39mfrom\u001b[39;00m \u001b[39merr\u001b[39;00m\n\u001b[0;32m   3624\u001b[0m \u001b[39mexcept\u001b[39;00m \u001b[39mTypeError\u001b[39;00m:\n\u001b[0;32m   3625\u001b[0m     \u001b[39m# If we have a listlike key, _check_indexing_error will raise\u001b[39;00m\n\u001b[0;32m   3626\u001b[0m     \u001b[39m#  InvalidIndexError. Otherwise we fall through and re-raise\u001b[39;00m\n\u001b[0;32m   3627\u001b[0m     \u001b[39m#  the TypeError.\u001b[39;00m\n",
      "\u001b[1;31mKeyError\u001b[0m: 'education'",
      "\nThe above exception was the direct cause of the following exception:\n",
      "\u001b[1;31mValueError\u001b[0m                                Traceback (most recent call last)",
      "\u001b[1;32mc:\\Users\\MichaelTaylo_c9zoof3\\Documents\\GitHub\\Ironhack_final_project\\modelling pipeline desktop.ipynb Cell 45\u001b[0m in \u001b[0;36m<cell line: 1>\u001b[1;34m()\u001b[0m\n\u001b[1;32m----> <a href='vscode-notebook-cell:/c%3A/Users/MichaelTaylo_c9zoof3/Documents/GitHub/Ironhack_final_project/modelling%20pipeline%20desktop.ipynb#ch0000046?line=0'>1</a>\u001b[0m d_check_best_model()\n",
      "\u001b[1;32mc:\\Users\\MichaelTaylo_c9zoof3\\Documents\\GitHub\\Ironhack_final_project\\modelling pipeline desktop.ipynb Cell 45\u001b[0m in \u001b[0;36md_check_best_model\u001b[1;34m(smote_type)\u001b[0m\n\u001b[0;32m      <a href='vscode-notebook-cell:/c%3A/Users/MichaelTaylo_c9zoof3/Documents/GitHub/Ironhack_final_project/modelling%20pipeline%20desktop.ipynb#ch0000046?line=7'>8</a>\u001b[0m \u001b[39mfor\u001b[39;00m i \u001b[39min\u001b[39;00m models:\n\u001b[0;32m      <a href='vscode-notebook-cell:/c%3A/Users/MichaelTaylo_c9zoof3/Documents/GitHub/Ironhack_final_project/modelling%20pipeline%20desktop.ipynb#ch0000046?line=8'>9</a>\u001b[0m     \u001b[39mprint\u001b[39m (i)\n\u001b[1;32m---> <a href='vscode-notebook-cell:/c%3A/Users/MichaelTaylo_c9zoof3/Documents/GitHub/Ironhack_final_project/modelling%20pipeline%20desktop.ipynb#ch0000046?line=9'>10</a>\u001b[0m     a,r,p,f\u001b[39m=\u001b[39me_cross_validate_grid(preprocess,i,cv\u001b[39m=\u001b[39;49mKFold(),grid_search\u001b[39m=\u001b[39;49m\u001b[39mFalse\u001b[39;49;00m,smote_type\u001b[39m=\u001b[39;49msmote_type,check_best\u001b[39m=\u001b[39;49m\u001b[39mTrue\u001b[39;49;00m)\n\u001b[0;32m     <a href='vscode-notebook-cell:/c%3A/Users/MichaelTaylo_c9zoof3/Documents/GitHub/Ironhack_final_project/modelling%20pipeline%20desktop.ipynb#ch0000046?line=10'>11</a>\u001b[0m     avg_acc\u001b[39m.\u001b[39mappend(a)\n\u001b[0;32m     <a href='vscode-notebook-cell:/c%3A/Users/MichaelTaylo_c9zoof3/Documents/GitHub/Ironhack_final_project/modelling%20pipeline%20desktop.ipynb#ch0000046?line=11'>12</a>\u001b[0m     avg_rec\u001b[39m.\u001b[39mappend(r)\n",
      "\u001b[1;32mc:\\Users\\MichaelTaylo_c9zoof3\\Documents\\GitHub\\Ironhack_final_project\\modelling pipeline desktop.ipynb Cell 45\u001b[0m in \u001b[0;36me_cross_validate_grid\u001b[1;34m(preprocessor, classifier, smote_type, param_grid, cv, scoring, conf_matrix, grid_search, check_best)\u001b[0m\n\u001b[0;32m     <a href='vscode-notebook-cell:/c%3A/Users/MichaelTaylo_c9zoof3/Documents/GitHub/Ironhack_final_project/modelling%20pipeline%20desktop.ipynb#ch0000046?line=24'>25</a>\u001b[0m \u001b[39mfor\u001b[39;00m train_ind, val_ind \u001b[39min\u001b[39;00m cv\u001b[39m.\u001b[39msplit(X_train, y_train):\n\u001b[0;32m     <a href='vscode-notebook-cell:/c%3A/Users/MichaelTaylo_c9zoof3/Documents/GitHub/Ironhack_final_project/modelling%20pipeline%20desktop.ipynb#ch0000046?line=25'>26</a>\u001b[0m     X_t, y_t \u001b[39m=\u001b[39m X_train\u001b[39m.\u001b[39miloc[train_ind], y_train[train_ind]\n\u001b[1;32m---> <a href='vscode-notebook-cell:/c%3A/Users/MichaelTaylo_c9zoof3/Documents/GitHub/Ironhack_final_project/modelling%20pipeline%20desktop.ipynb#ch0000046?line=26'>27</a>\u001b[0m     search\u001b[39m.\u001b[39;49mfit(X_t, y_t)\n\u001b[0;32m     <a href='vscode-notebook-cell:/c%3A/Users/MichaelTaylo_c9zoof3/Documents/GitHub/Ironhack_final_project/modelling%20pipeline%20desktop.ipynb#ch0000046?line=27'>28</a>\u001b[0m     y_hat_t \u001b[39m=\u001b[39m search\u001b[39m.\u001b[39mpredict(X_t)\n\u001b[0;32m     <a href='vscode-notebook-cell:/c%3A/Users/MichaelTaylo_c9zoof3/Documents/GitHub/Ironhack_final_project/modelling%20pipeline%20desktop.ipynb#ch0000046?line=28'>29</a>\u001b[0m     train_acc\u001b[39m.\u001b[39mappend(accuracy_score(y_t, y_hat_t))\n",
      "File \u001b[1;32mc:\\Users\\MichaelTaylo_c9zoof3\\anaconda3\\envs\\DA_Env\\lib\\site-packages\\imblearn\\pipeline.py:277\u001b[0m, in \u001b[0;36mPipeline.fit\u001b[1;34m(self, X, y, **fit_params)\u001b[0m\n\u001b[0;32m    250\u001b[0m \u001b[39mdef\u001b[39;00m \u001b[39mfit\u001b[39m(\u001b[39mself\u001b[39m, X, y\u001b[39m=\u001b[39m\u001b[39mNone\u001b[39;00m, \u001b[39m*\u001b[39m\u001b[39m*\u001b[39mfit_params):\n\u001b[0;32m    251\u001b[0m     \u001b[39m\"\"\"Fit the model.\u001b[39;00m\n\u001b[0;32m    252\u001b[0m \n\u001b[0;32m    253\u001b[0m \u001b[39m    Fit all the transforms/samplers one after the other and\u001b[39;00m\n\u001b[1;32m   (...)\u001b[0m\n\u001b[0;32m    275\u001b[0m \u001b[39m        This estimator.\u001b[39;00m\n\u001b[0;32m    276\u001b[0m \u001b[39m    \"\"\"\u001b[39;00m\n\u001b[1;32m--> 277\u001b[0m     Xt, yt, fit_params \u001b[39m=\u001b[39m \u001b[39mself\u001b[39m\u001b[39m.\u001b[39m_fit(X, y, \u001b[39m*\u001b[39m\u001b[39m*\u001b[39mfit_params)\n\u001b[0;32m    278\u001b[0m     \u001b[39mwith\u001b[39;00m _print_elapsed_time(\u001b[39m'\u001b[39m\u001b[39mPipeline\u001b[39m\u001b[39m'\u001b[39m,\n\u001b[0;32m    279\u001b[0m                              \u001b[39mself\u001b[39m\u001b[39m.\u001b[39m_log_message(\u001b[39mlen\u001b[39m(\u001b[39mself\u001b[39m\u001b[39m.\u001b[39msteps) \u001b[39m-\u001b[39m \u001b[39m1\u001b[39m)):\n\u001b[0;32m    280\u001b[0m         \u001b[39mif\u001b[39;00m \u001b[39mself\u001b[39m\u001b[39m.\u001b[39m_final_estimator \u001b[39m!=\u001b[39m \u001b[39m\"\u001b[39m\u001b[39mpassthrough\u001b[39m\u001b[39m\"\u001b[39m:\n",
      "File \u001b[1;32mc:\\Users\\MichaelTaylo_c9zoof3\\anaconda3\\envs\\DA_Env\\lib\\site-packages\\imblearn\\pipeline.py:229\u001b[0m, in \u001b[0;36mPipeline._fit\u001b[1;34m(self, X, y, **fit_params)\u001b[0m\n\u001b[0;32m    225\u001b[0m \u001b[39m# Fit or load from cache the current transfomer\u001b[39;00m\n\u001b[0;32m    226\u001b[0m \u001b[39mif\u001b[39;00m \u001b[39mhasattr\u001b[39m(cloned_transformer, \u001b[39m\"\u001b[39m\u001b[39mtransform\u001b[39m\u001b[39m\"\u001b[39m) \u001b[39mor\u001b[39;00m \u001b[39mhasattr\u001b[39m(\n\u001b[0;32m    227\u001b[0m     cloned_transformer, \u001b[39m\"\u001b[39m\u001b[39mfit_transform\u001b[39m\u001b[39m\"\u001b[39m\n\u001b[0;32m    228\u001b[0m ):\n\u001b[1;32m--> 229\u001b[0m     X, fitted_transformer \u001b[39m=\u001b[39m fit_transform_one_cached(\n\u001b[0;32m    230\u001b[0m         cloned_transformer, X, y, \u001b[39mNone\u001b[39;00m,\n\u001b[0;32m    231\u001b[0m         message_clsname\u001b[39m=\u001b[39m\u001b[39m'\u001b[39m\u001b[39mPipeline\u001b[39m\u001b[39m'\u001b[39m,\n\u001b[0;32m    232\u001b[0m         message\u001b[39m=\u001b[39m\u001b[39mself\u001b[39m\u001b[39m.\u001b[39m_log_message(step_idx),\n\u001b[0;32m    233\u001b[0m         \u001b[39m*\u001b[39m\u001b[39m*\u001b[39mfit_params_steps[name]\n\u001b[0;32m    234\u001b[0m     )\n\u001b[0;32m    235\u001b[0m \u001b[39melif\u001b[39;00m \u001b[39mhasattr\u001b[39m(cloned_transformer, \u001b[39m\"\u001b[39m\u001b[39mfit_resample\u001b[39m\u001b[39m\"\u001b[39m):\n\u001b[0;32m    236\u001b[0m     X, y, fitted_transformer \u001b[39m=\u001b[39m fit_resample_one_cached(\n\u001b[0;32m    237\u001b[0m         cloned_transformer, X, y,\n\u001b[0;32m    238\u001b[0m         message_clsname\u001b[39m=\u001b[39m\u001b[39m'\u001b[39m\u001b[39mPipeline\u001b[39m\u001b[39m'\u001b[39m,\n\u001b[0;32m    239\u001b[0m         message\u001b[39m=\u001b[39m\u001b[39mself\u001b[39m\u001b[39m.\u001b[39m_log_message(step_idx),\n\u001b[0;32m    240\u001b[0m         \u001b[39m*\u001b[39m\u001b[39m*\u001b[39mfit_params_steps[name]\n\u001b[0;32m    241\u001b[0m     )\n",
      "File \u001b[1;32mc:\\Users\\MichaelTaylo_c9zoof3\\anaconda3\\envs\\DA_Env\\lib\\site-packages\\joblib\\memory.py:349\u001b[0m, in \u001b[0;36mNotMemorizedFunc.__call__\u001b[1;34m(self, *args, **kwargs)\u001b[0m\n\u001b[0;32m    348\u001b[0m \u001b[39mdef\u001b[39;00m \u001b[39m__call__\u001b[39m(\u001b[39mself\u001b[39m, \u001b[39m*\u001b[39margs, \u001b[39m*\u001b[39m\u001b[39m*\u001b[39mkwargs):\n\u001b[1;32m--> 349\u001b[0m     \u001b[39mreturn\u001b[39;00m \u001b[39mself\u001b[39m\u001b[39m.\u001b[39mfunc(\u001b[39m*\u001b[39margs, \u001b[39m*\u001b[39m\u001b[39m*\u001b[39mkwargs)\n",
      "File \u001b[1;32mc:\\Users\\MichaelTaylo_c9zoof3\\anaconda3\\envs\\DA_Env\\lib\\site-packages\\sklearn\\pipeline.py:893\u001b[0m, in \u001b[0;36m_fit_transform_one\u001b[1;34m(transformer, X, y, weight, message_clsname, message, **fit_params)\u001b[0m\n\u001b[0;32m    891\u001b[0m \u001b[39mwith\u001b[39;00m _print_elapsed_time(message_clsname, message):\n\u001b[0;32m    892\u001b[0m     \u001b[39mif\u001b[39;00m \u001b[39mhasattr\u001b[39m(transformer, \u001b[39m\"\u001b[39m\u001b[39mfit_transform\u001b[39m\u001b[39m\"\u001b[39m):\n\u001b[1;32m--> 893\u001b[0m         res \u001b[39m=\u001b[39m transformer\u001b[39m.\u001b[39mfit_transform(X, y, \u001b[39m*\u001b[39m\u001b[39m*\u001b[39mfit_params)\n\u001b[0;32m    894\u001b[0m     \u001b[39melse\u001b[39;00m:\n\u001b[0;32m    895\u001b[0m         res \u001b[39m=\u001b[39m transformer\u001b[39m.\u001b[39mfit(X, y, \u001b[39m*\u001b[39m\u001b[39m*\u001b[39mfit_params)\u001b[39m.\u001b[39mtransform(X)\n",
      "File \u001b[1;32mc:\\Users\\MichaelTaylo_c9zoof3\\anaconda3\\envs\\DA_Env\\lib\\site-packages\\sklearn\\compose\\_column_transformer.py:672\u001b[0m, in \u001b[0;36mColumnTransformer.fit_transform\u001b[1;34m(self, X, y)\u001b[0m\n\u001b[0;32m    670\u001b[0m \u001b[39mself\u001b[39m\u001b[39m.\u001b[39m_check_n_features(X, reset\u001b[39m=\u001b[39m\u001b[39mTrue\u001b[39;00m)\n\u001b[0;32m    671\u001b[0m \u001b[39mself\u001b[39m\u001b[39m.\u001b[39m_validate_transformers()\n\u001b[1;32m--> 672\u001b[0m \u001b[39mself\u001b[39;49m\u001b[39m.\u001b[39;49m_validate_column_callables(X)\n\u001b[0;32m    673\u001b[0m \u001b[39mself\u001b[39m\u001b[39m.\u001b[39m_validate_remainder(X)\n\u001b[0;32m    675\u001b[0m result \u001b[39m=\u001b[39m \u001b[39mself\u001b[39m\u001b[39m.\u001b[39m_fit_transform(X, y, _fit_transform_one)\n",
      "File \u001b[1;32mc:\\Users\\MichaelTaylo_c9zoof3\\anaconda3\\envs\\DA_Env\\lib\\site-packages\\sklearn\\compose\\_column_transformer.py:352\u001b[0m, in \u001b[0;36mColumnTransformer._validate_column_callables\u001b[1;34m(self, X)\u001b[0m\n\u001b[0;32m    350\u001b[0m         columns \u001b[39m=\u001b[39m columns(X)\n\u001b[0;32m    351\u001b[0m     all_columns\u001b[39m.\u001b[39mappend(columns)\n\u001b[1;32m--> 352\u001b[0m     transformer_to_input_indices[name] \u001b[39m=\u001b[39m _get_column_indices(X, columns)\n\u001b[0;32m    354\u001b[0m \u001b[39mself\u001b[39m\u001b[39m.\u001b[39m_columns \u001b[39m=\u001b[39m all_columns\n\u001b[0;32m    355\u001b[0m \u001b[39mself\u001b[39m\u001b[39m.\u001b[39m_transformer_to_input_indices \u001b[39m=\u001b[39m transformer_to_input_indices\n",
      "File \u001b[1;32mc:\\Users\\MichaelTaylo_c9zoof3\\anaconda3\\envs\\DA_Env\\lib\\site-packages\\sklearn\\utils\\__init__.py:441\u001b[0m, in \u001b[0;36m_get_column_indices\u001b[1;34m(X, key)\u001b[0m\n\u001b[0;32m    438\u001b[0m             column_indices\u001b[39m.\u001b[39mappend(col_idx)\n\u001b[0;32m    440\u001b[0m     \u001b[39mexcept\u001b[39;00m \u001b[39mKeyError\u001b[39;00m \u001b[39mas\u001b[39;00m e:\n\u001b[1;32m--> 441\u001b[0m         \u001b[39mraise\u001b[39;00m \u001b[39mValueError\u001b[39;00m(\u001b[39m\"\u001b[39m\u001b[39mA given column is not a column of the dataframe\u001b[39m\u001b[39m\"\u001b[39m) \u001b[39mfrom\u001b[39;00m \u001b[39me\u001b[39;00m\n\u001b[0;32m    443\u001b[0m     \u001b[39mreturn\u001b[39;00m column_indices\n\u001b[0;32m    444\u001b[0m \u001b[39melse\u001b[39;00m:\n",
      "\u001b[1;31mValueError\u001b[0m: A given column is not a column of the dataframe"
     ]
    }
   ],
   "source": [
    "d_check_best_model()"
   ]
  }
 ],
 "metadata": {
  "kernelspec": {
   "display_name": "Python 3 (ipykernel)",
   "language": "python",
   "name": "python3"
  },
  "language_info": {
   "codemirror_mode": {
    "name": "ipython",
    "version": 3
   },
   "file_extension": ".py",
   "mimetype": "text/x-python",
   "name": "python",
   "nbconvert_exporter": "python",
   "pygments_lexer": "ipython3",
   "version": "3.9.12"
  },
  "vscode": {
   "interpreter": {
    "hash": "a08fe99de7091861da4136a7c4af3e70f25e0bad2269d33020f7bee7e1bdba20"
   }
  }
 },
 "nbformat": 4,
 "nbformat_minor": 5
}
